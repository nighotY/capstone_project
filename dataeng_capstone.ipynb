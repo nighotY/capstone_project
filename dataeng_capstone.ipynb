{
 "cells": [
  {
   "attachments": {},
   "cell_type": "markdown",
   "metadata": {},
   "source": [
    "# Business Requirements - ETL  "
   ]
  },
  {
   "attachments": {},
   "cell_type": "markdown",
   "metadata": {},
   "source": [
    "### 1. Functional Requirements - Load Credit Card Database (SQL)"
   ]
  },
  {
   "attachments": {},
   "cell_type": "markdown",
   "metadata": {},
   "source": [
    "Req-1.1 Data Extraction and Transformation with Python and PySpark"
   ]
  },
  {
   "attachments": {},
   "cell_type": "markdown",
   "metadata": {},
   "source": [
    "For “Credit Card System,” create a Python and PySpark SQL program to read/extract the following JSON files    \n",
    "        according to the specifications found in the mapping document.\n",
    "\n",
    "        1. CDW_SAPP_BRANCH.JSON\n",
    "        2. CDW_SAPP_CREDITCARD.JSON\n",
    "        3. CDW_SAPP_CUSTOMER.JSON       \n"
   ]
  },
  {
   "cell_type": "code",
   "execution_count": 403,
   "metadata": {},
   "outputs": [],
   "source": [
    "import findspark\n",
    "findspark.init()\n",
    "import pyspark\n",
    "from pyspark.sql import SparkSession\n",
    "from pyspark.sql.functions import *\n",
    "from dotenv import load_dotenv\n",
    "import os\n",
    "import pandas as pd "
   ]
  },
  {
   "cell_type": "code",
   "execution_count": 44,
   "metadata": {},
   "outputs": [],
   "source": [
    "#create spark session\n",
    "spark = SparkSession.builder.master(\"local[*]\").appName(\"Capstone\").getOrCreate()"
   ]
  },
  {
   "cell_type": "code",
   "execution_count": 45,
   "metadata": {},
   "outputs": [],
   "source": [
    "#load/read cdw_sapp_custmer.json file into spark dataframe \n",
    "customer_df=spark.read.load(\"creditcard_system_data/cdw_sapp_custmer.json\",format=\"json\")"
   ]
  },
  {
   "cell_type": "code",
   "execution_count": 46,
   "metadata": {},
   "outputs": [
    {
     "name": "stdout",
     "output_type": "stream",
     "text": [
      "+------+----------------+------------+-------------+-------------------+----------+----------+--------+----------+---------+-----------------------------+-----------+---------+-----------------+\n",
      "|APT_NO|CREDIT_CARD_NO  |CUST_CITY   |CUST_COUNTRY |CUST_EMAIL         |CUST_PHONE|CUST_STATE|CUST_ZIP|FIRST_NAME|LAST_NAME|LAST_UPDATED                 |MIDDLE_NAME|SSN      |STREET_NAME      |\n",
      "+------+----------------+------------+-------------+-------------------+----------+----------+--------+----------+---------+-----------------------------+-----------+---------+-----------------+\n",
      "|656   |4210653310061055|Natchez     |United States|AHooper@example.com|1237818   |MS        |39120   |Alec      |Hooper   |2018-04-21T12:49:02.000-04:00|Wm         |123456100|Main Street North|\n",
      "|829   |4210653310102868|Wethersfield|United States|EHolman@example.com|1238933   |CT        |06109   |Etta      |Holman   |2018-04-21T12:49:02.000-04:00|Brendan    |123453023|Redwood Drive    |\n",
      "|683   |4210653310116272|Huntley     |United States|WDunham@example.com|1243018   |IL        |60142   |Wilber    |Dunham   |2018-04-21T12:49:02.000-04:00|Ezequiel   |123454487|12th Street East |\n",
      "|253   |4210653310195948|NewBerlin   |United States|EHardy@example.com |1243215   |WI        |53151   |Eugenio   |Hardy    |2018-04-21T12:49:02.000-04:00|Trina      |123459758|Country Club Road|\n",
      "|301   |4210653310356919|ElPaso      |United States|WAyers@example.com |1242074   |TX        |79930   |Wilfred   |Ayers    |2018-04-21T12:49:02.000-04:00|May        |123454431|Madison Street   |\n",
      "+------+----------------+------------+-------------+-------------------+----------+----------+--------+----------+---------+-----------------------------+-----------+---------+-----------------+\n",
      "only showing top 5 rows\n",
      "\n"
     ]
    }
   ],
   "source": [
    "#show first five records from the customer dataframe\n",
    "customer_df.show(5,truncate=False)"
   ]
  },
  {
   "cell_type": "code",
   "execution_count": 47,
   "metadata": {},
   "outputs": [
    {
     "name": "stdout",
     "output_type": "stream",
     "text": [
      "root\n",
      " |-- APT_NO: string (nullable = true)\n",
      " |-- CREDIT_CARD_NO: string (nullable = true)\n",
      " |-- CUST_CITY: string (nullable = true)\n",
      " |-- CUST_COUNTRY: string (nullable = true)\n",
      " |-- CUST_EMAIL: string (nullable = true)\n",
      " |-- CUST_PHONE: long (nullable = true)\n",
      " |-- CUST_STATE: string (nullable = true)\n",
      " |-- CUST_ZIP: string (nullable = true)\n",
      " |-- FIRST_NAME: string (nullable = true)\n",
      " |-- LAST_NAME: string (nullable = true)\n",
      " |-- LAST_UPDATED: string (nullable = true)\n",
      " |-- MIDDLE_NAME: string (nullable = true)\n",
      " |-- SSN: long (nullable = true)\n",
      " |-- STREET_NAME: string (nullable = true)\n",
      "\n"
     ]
    }
   ],
   "source": [
    "#print schema of the dataset\n",
    "customer_df.printSchema()"
   ]
  },
  {
   "cell_type": "code",
   "execution_count": 48,
   "metadata": {},
   "outputs": [],
   "source": [
    "#temporary table view of the custmer dataframe\n",
    "customer_df.createOrReplaceTempView(\"customer\")"
   ]
  },
  {
   "cell_type": "code",
   "execution_count": 51,
   "metadata": {},
   "outputs": [],
   "source": [
    "#trnasform data as per mapping document\n",
    "transform_customer_df=spark.sql(\"SELECT CAST(SSN AS INT) AS SSN,\\\n",
    "                            CONCAT(UPPER(SUBSTR(FIRST_NAME,1,1)),LOWER(substr(FIRST_NAME,2))) AS FIRST_NAME, \\\n",
    "                            CONCAT(LOWER(MIDDLE_NAME)) MIDDLE_NAME, \\\n",
    "                            CONCAT(UPPER(substr(LAST_NAME,1,1)),LOWER(substr(LAST_NAME,2))) AS LAST_NAME, \\\n",
    "                            CREDIT_CARD_NO,\\\n",
    "                            CONCAT(STREET_NAME, ',' ,APT_NO) AS FULL_STREET_ADDRESS, \\\n",
    "                            CUST_CITY, \\\n",
    "                            CUST_STATE, \\\n",
    "                            CUST_COUNTRY,\\\n",
    "                            CAST(CUST_ZIP AS INT) AS CUST_ZIP, \\\n",
    "                            CONCAT('(',LEFT(RAND()*100+201,3),')',SUBSTR(CUST_PHONE,1,3),'-',SUBSTR(CUST_PHONE,4)) AS CUST_PHONE, \\\n",
    "                            CUST_EMAIL,\\\n",
    "                            CAST(LAST_UPDATED AS TIMESTAMP) AS LAST_UPDATED\\\n",
    "                            FROM customer\")\n"
   ]
  },
  {
   "cell_type": "code",
   "execution_count": 52,
   "metadata": {},
   "outputs": [
    {
     "name": "stdout",
     "output_type": "stream",
     "text": [
      "+---------+----------+-----------+---------+----------------+---------------------+------------+----------+-------------+--------+-------------+-------------------+-------------------+\n",
      "|SSN      |FIRST_NAME|MIDDLE_NAME|LAST_NAME|CREDIT_CARD_NO  |FULL_STREET_ADDRESS  |CUST_CITY   |CUST_STATE|CUST_COUNTRY |CUST_ZIP|CUST_PHONE   |CUST_EMAIL         |LAST_UPDATED       |\n",
      "+---------+----------+-----------+---------+----------------+---------------------+------------+----------+-------------+--------+-------------+-------------------+-------------------+\n",
      "|123456100|Alec      |wm         |Hooper   |4210653310061055|Main Street North,656|Natchez     |MS        |United States|39120   |(208)123-7818|AHooper@example.com|2018-04-21 12:49:02|\n",
      "|123453023|Etta      |brendan    |Holman   |4210653310102868|Redwood Drive,829    |Wethersfield|CT        |United States|6109    |(243)123-8933|EHolman@example.com|2018-04-21 12:49:02|\n",
      "|123454487|Wilber    |ezequiel   |Dunham   |4210653310116272|12th Street East,683 |Huntley     |IL        |United States|60142   |(211)124-3018|WDunham@example.com|2018-04-21 12:49:02|\n",
      "|123459758|Eugenio   |trina      |Hardy    |4210653310195948|Country Club Road,253|NewBerlin   |WI        |United States|53151   |(201)124-3215|EHardy@example.com |2018-04-21 12:49:02|\n",
      "|123454431|Wilfred   |may        |Ayers    |4210653310356919|Madison Street,301   |ElPaso      |TX        |United States|79930   |(245)124-2074|WAyers@example.com |2018-04-21 12:49:02|\n",
      "+---------+----------+-----------+---------+----------------+---------------------+------------+----------+-------------+--------+-------------+-------------------+-------------------+\n",
      "only showing top 5 rows\n",
      "\n"
     ]
    }
   ],
   "source": [
    "#show first 5 records from the transform customer dataframe\n",
    "transform_customer_df.show(5,truncate=False)"
   ]
  },
  {
   "cell_type": "code",
   "execution_count": 53,
   "metadata": {},
   "outputs": [
    {
     "name": "stdout",
     "output_type": "stream",
     "text": [
      "root\n",
      " |-- SSN: integer (nullable = true)\n",
      " |-- FIRST_NAME: string (nullable = true)\n",
      " |-- MIDDLE_NAME: string (nullable = true)\n",
      " |-- LAST_NAME: string (nullable = true)\n",
      " |-- CREDIT_CARD_NO: string (nullable = true)\n",
      " |-- FULL_STREET_ADDRESS: string (nullable = true)\n",
      " |-- CUST_CITY: string (nullable = true)\n",
      " |-- CUST_STATE: string (nullable = true)\n",
      " |-- CUST_COUNTRY: string (nullable = true)\n",
      " |-- CUST_ZIP: integer (nullable = true)\n",
      " |-- CUST_PHONE: string (nullable = true)\n",
      " |-- CUST_EMAIL: string (nullable = true)\n",
      " |-- LAST_UPDATED: timestamp (nullable = true)\n",
      "\n"
     ]
    }
   ],
   "source": [
    "#printschema of transform cutomer dataframe\n",
    "transform_customer_df.printSchema()"
   ]
  },
  {
   "cell_type": "code",
   "execution_count": 54,
   "metadata": {},
   "outputs": [],
   "source": [
    "#read/load cdw_sapp_branch.json file into spark branch dataframe\n",
    "branch_df=spark.read.load(\"creditcard_system_data/cdw_sapp_branch.json\",format=\"json\")"
   ]
  },
  {
   "cell_type": "code",
   "execution_count": 55,
   "metadata": {},
   "outputs": [
    {
     "name": "stdout",
     "output_type": "stream",
     "text": [
      "+-----------------+-----------+------------+------------+------------+-----------------+----------+-----------------------------+\n",
      "|BRANCH_CITY      |BRANCH_CODE|BRANCH_NAME |BRANCH_PHONE|BRANCH_STATE|BRANCH_STREET    |BRANCH_ZIP|LAST_UPDATED                 |\n",
      "+-----------------+-----------+------------+------------+------------+-----------------+----------+-----------------------------+\n",
      "|Lakeville        |1          |Example Bank|1234565276  |MN          |Bridle Court     |55044     |2018-04-18T16:51:47.000-04:00|\n",
      "|Huntley          |2          |Example Bank|1234618993  |IL          |Washington Street|60142     |2018-04-18T16:51:47.000-04:00|\n",
      "|SouthRichmondHill|3          |Example Bank|1234985926  |NY          |Warren Street    |11419     |2018-04-18T16:51:47.000-04:00|\n",
      "|Middleburg       |4          |Example Bank|1234663064  |FL          |Cleveland Street |32068     |2018-04-18T16:51:47.000-04:00|\n",
      "+-----------------+-----------+------------+------------+------------+-----------------+----------+-----------------------------+\n",
      "only showing top 4 rows\n",
      "\n"
     ]
    }
   ],
   "source": [
    "#show first five record from branch dataframe\n",
    "branch_df.show(4,truncate=False)"
   ]
  },
  {
   "cell_type": "code",
   "execution_count": 56,
   "metadata": {},
   "outputs": [
    {
     "name": "stdout",
     "output_type": "stream",
     "text": [
      "root\n",
      " |-- BRANCH_CITY: string (nullable = true)\n",
      " |-- BRANCH_CODE: long (nullable = true)\n",
      " |-- BRANCH_NAME: string (nullable = true)\n",
      " |-- BRANCH_PHONE: string (nullable = true)\n",
      " |-- BRANCH_STATE: string (nullable = true)\n",
      " |-- BRANCH_STREET: string (nullable = true)\n",
      " |-- BRANCH_ZIP: long (nullable = true)\n",
      " |-- LAST_UPDATED: string (nullable = true)\n",
      "\n"
     ]
    }
   ],
   "source": [
    "#print schema of brach dataframe\n",
    "branch_df.printSchema()"
   ]
  },
  {
   "cell_type": "code",
   "execution_count": 73,
   "metadata": {},
   "outputs": [],
   "source": [
    "#transformed branch dataframe according to the mapping document\n",
    "transform_branch_df=branch_df.select(col(\"BRANCH_CODE\").astype('int').alias('BRANCH_CODE'),\\\n",
    "                 col(\"BRANCH_NAME\"),\\\n",
    "                 col(\"BRANCH_STREET\"), \\\n",
    "                 col(\"BRANCH_CITY\"),\\\n",
    "                 col(\"BRANCH_STATE\"), \\\n",
    "                 when(col(\"BRANCH_ZIP\").isNull(),'99999').otherwise(col(\"BRANCH_ZIP\")).astype('int').alias('BRANCH_ZIP'),\\\n",
    "                 (concat( lit(\"(\") ,substring(col(\"BRANCH_PHONE\"),1,3),lit(\")\") ,substring(col(\"BRANCH_PHONE\"),4,3), \\\n",
    "                          lit(\"-\") ,substring(col(\"BRANCH_PHONE\"),7,4) )).alias(\"BRANCH_PHONE\"),\\\n",
    "                 to_timestamp(col(\"LAST_UPDATED\")).alias(\"LAST_UPDATED\")\n",
    "                )"
   ]
  },
  {
   "cell_type": "code",
   "execution_count": 74,
   "metadata": {},
   "outputs": [
    {
     "name": "stdout",
     "output_type": "stream",
     "text": [
      "root\n",
      " |-- BRANCH_CODE: integer (nullable = true)\n",
      " |-- BRANCH_NAME: string (nullable = true)\n",
      " |-- BRANCH_STREET: string (nullable = true)\n",
      " |-- BRANCH_CITY: string (nullable = true)\n",
      " |-- BRANCH_STATE: string (nullable = true)\n",
      " |-- BRANCH_ZIP: integer (nullable = true)\n",
      " |-- BRANCH_PHONE: string (nullable = true)\n",
      " |-- LAST_UPDATED: timestamp (nullable = true)\n",
      "\n"
     ]
    }
   ],
   "source": [
    "#print schema of transformed branch dataframe\n",
    "transform_branch_df.printSchema()"
   ]
  },
  {
   "cell_type": "code",
   "execution_count": 75,
   "metadata": {},
   "outputs": [
    {
     "name": "stdout",
     "output_type": "stream",
     "text": [
      "+-----------+------------+-----------------+-----------------+------------+----------+-------------+-------------------+\n",
      "|BRANCH_CODE| BRANCH_NAME|    BRANCH_STREET|      BRANCH_CITY|BRANCH_STATE|BRANCH_ZIP| BRANCH_PHONE|       LAST_UPDATED|\n",
      "+-----------+------------+-----------------+-----------------+------------+----------+-------------+-------------------+\n",
      "|          1|Example Bank|     Bridle Court|        Lakeville|          MN|     55044|(123)456-5276|2018-04-18 16:51:47|\n",
      "|          2|Example Bank|Washington Street|          Huntley|          IL|     60142|(123)461-8993|2018-04-18 16:51:47|\n",
      "|          3|Example Bank|    Warren Street|SouthRichmondHill|          NY|     11419|(123)498-5926|2018-04-18 16:51:47|\n",
      "|          4|Example Bank| Cleveland Street|       Middleburg|          FL|     32068|(123)466-3064|2018-04-18 16:51:47|\n",
      "|          5|Example Bank|      14th Street|    KingOfPrussia|          PA|     19406|(123)484-9701|2018-04-18 16:51:47|\n",
      "+-----------+------------+-----------------+-----------------+------------+----------+-------------+-------------------+\n",
      "only showing top 5 rows\n",
      "\n"
     ]
    }
   ],
   "source": [
    "#show first five records from transformed dataframe\n",
    "transform_branch_df.show(5,truncate=True)"
   ]
  },
  {
   "cell_type": "code",
   "execution_count": 76,
   "metadata": {},
   "outputs": [],
   "source": [
    "#read/load cdw_sapp_credit.json file into pandas credit dataframe\n",
    "credit_df=spark.read.load(\"creditcard_system_data/cdw_sapp_credit.json\",format=\"json\").toPandas()"
   ]
  },
  {
   "cell_type": "code",
   "execution_count": 77,
   "metadata": {},
   "outputs": [
    {
     "data": {
      "text/html": [
       "<div>\n",
       "<style scoped>\n",
       "    .dataframe tbody tr th:only-of-type {\n",
       "        vertical-align: middle;\n",
       "    }\n",
       "\n",
       "    .dataframe tbody tr th {\n",
       "        vertical-align: top;\n",
       "    }\n",
       "\n",
       "    .dataframe thead th {\n",
       "        text-align: right;\n",
       "    }\n",
       "</style>\n",
       "<table border=\"1\" class=\"dataframe\">\n",
       "  <thead>\n",
       "    <tr style=\"text-align: right;\">\n",
       "      <th></th>\n",
       "      <th>BRANCH_CODE</th>\n",
       "      <th>CREDIT_CARD_NO</th>\n",
       "      <th>CUST_SSN</th>\n",
       "      <th>DAY</th>\n",
       "      <th>MONTH</th>\n",
       "      <th>TRANSACTION_ID</th>\n",
       "      <th>TRANSACTION_TYPE</th>\n",
       "      <th>TRANSACTION_VALUE</th>\n",
       "      <th>YEAR</th>\n",
       "    </tr>\n",
       "  </thead>\n",
       "  <tbody>\n",
       "    <tr>\n",
       "      <th>0</th>\n",
       "      <td>114</td>\n",
       "      <td>4210653349028689</td>\n",
       "      <td>123459988</td>\n",
       "      <td>14</td>\n",
       "      <td>2</td>\n",
       "      <td>1</td>\n",
       "      <td>Education</td>\n",
       "      <td>78.90</td>\n",
       "      <td>2018</td>\n",
       "    </tr>\n",
       "    <tr>\n",
       "      <th>1</th>\n",
       "      <td>35</td>\n",
       "      <td>4210653349028689</td>\n",
       "      <td>123459988</td>\n",
       "      <td>20</td>\n",
       "      <td>3</td>\n",
       "      <td>2</td>\n",
       "      <td>Entertainment</td>\n",
       "      <td>14.24</td>\n",
       "      <td>2018</td>\n",
       "    </tr>\n",
       "    <tr>\n",
       "      <th>2</th>\n",
       "      <td>160</td>\n",
       "      <td>4210653349028689</td>\n",
       "      <td>123459988</td>\n",
       "      <td>8</td>\n",
       "      <td>7</td>\n",
       "      <td>3</td>\n",
       "      <td>Grocery</td>\n",
       "      <td>56.70</td>\n",
       "      <td>2018</td>\n",
       "    </tr>\n",
       "    <tr>\n",
       "      <th>3</th>\n",
       "      <td>114</td>\n",
       "      <td>4210653349028689</td>\n",
       "      <td>123459988</td>\n",
       "      <td>19</td>\n",
       "      <td>4</td>\n",
       "      <td>4</td>\n",
       "      <td>Entertainment</td>\n",
       "      <td>59.73</td>\n",
       "      <td>2018</td>\n",
       "    </tr>\n",
       "    <tr>\n",
       "      <th>4</th>\n",
       "      <td>93</td>\n",
       "      <td>4210653349028689</td>\n",
       "      <td>123459988</td>\n",
       "      <td>10</td>\n",
       "      <td>10</td>\n",
       "      <td>5</td>\n",
       "      <td>Gas</td>\n",
       "      <td>3.59</td>\n",
       "      <td>2018</td>\n",
       "    </tr>\n",
       "  </tbody>\n",
       "</table>\n",
       "</div>"
      ],
      "text/plain": [
       "   BRANCH_CODE    CREDIT_CARD_NO   CUST_SSN  DAY  MONTH  TRANSACTION_ID  \\\n",
       "0          114  4210653349028689  123459988   14      2               1   \n",
       "1           35  4210653349028689  123459988   20      3               2   \n",
       "2          160  4210653349028689  123459988    8      7               3   \n",
       "3          114  4210653349028689  123459988   19      4               4   \n",
       "4           93  4210653349028689  123459988   10     10               5   \n",
       "\n",
       "  TRANSACTION_TYPE  TRANSACTION_VALUE  YEAR  \n",
       "0        Education              78.90  2018  \n",
       "1    Entertainment              14.24  2018  \n",
       "2          Grocery              56.70  2018  \n",
       "3    Entertainment              59.73  2018  \n",
       "4              Gas               3.59  2018  "
      ]
     },
     "execution_count": 77,
     "metadata": {},
     "output_type": "execute_result"
    }
   ],
   "source": [
    "#first five records from credit dataframe\n",
    "credit_df.head(5)"
   ]
  },
  {
   "cell_type": "code",
   "execution_count": 78,
   "metadata": {},
   "outputs": [
    {
     "data": {
      "text/plain": [
       "BRANCH_CODE            int64\n",
       "CREDIT_CARD_NO        object\n",
       "CUST_SSN               int64\n",
       "DAY                    int64\n",
       "MONTH                  int64\n",
       "TRANSACTION_ID         int64\n",
       "TRANSACTION_TYPE      object\n",
       "TRANSACTION_VALUE    float64\n",
       "YEAR                   int64\n",
       "dtype: object"
      ]
     },
     "execution_count": 78,
     "metadata": {},
     "output_type": "execute_result"
    }
   ],
   "source": [
    "#datatypes of credit dataset\n",
    "credit_df.dtypes"
   ]
  },
  {
   "cell_type": "code",
   "execution_count": 79,
   "metadata": {},
   "outputs": [],
   "source": [
    "#transform credit dataframe according to mapping document\n",
    "credit_df['MONTH']=credit_df['MONTH'].astype(str).str.zfill(2)\n",
    "credit_df['DAY']=credit_df['DAY'].astype(str).str.zfill(2)\n",
    "credit_df[\"TIMEID\"]=credit_df['YEAR'].astype(str)+ \\\n",
    "                    credit_df['MONTH'] + credit_df['DAY']\n",
    "credit_df.rename(columns={'CREDIT_CARD_NO':'CUST_CC_NO'},inplace=True)"
   ]
  },
  {
   "cell_type": "code",
   "execution_count": 80,
   "metadata": {},
   "outputs": [
    {
     "data": {
      "text/html": [
       "<div>\n",
       "<style scoped>\n",
       "    .dataframe tbody tr th:only-of-type {\n",
       "        vertical-align: middle;\n",
       "    }\n",
       "\n",
       "    .dataframe tbody tr th {\n",
       "        vertical-align: top;\n",
       "    }\n",
       "\n",
       "    .dataframe thead th {\n",
       "        text-align: right;\n",
       "    }\n",
       "</style>\n",
       "<table border=\"1\" class=\"dataframe\">\n",
       "  <thead>\n",
       "    <tr style=\"text-align: right;\">\n",
       "      <th></th>\n",
       "      <th>BRANCH_CODE</th>\n",
       "      <th>CUST_CC_NO</th>\n",
       "      <th>CUST_SSN</th>\n",
       "      <th>DAY</th>\n",
       "      <th>MONTH</th>\n",
       "      <th>TRANSACTION_ID</th>\n",
       "      <th>TRANSACTION_TYPE</th>\n",
       "      <th>TRANSACTION_VALUE</th>\n",
       "      <th>YEAR</th>\n",
       "      <th>TIMEID</th>\n",
       "    </tr>\n",
       "  </thead>\n",
       "  <tbody>\n",
       "    <tr>\n",
       "      <th>0</th>\n",
       "      <td>114</td>\n",
       "      <td>4210653349028689</td>\n",
       "      <td>123459988</td>\n",
       "      <td>14</td>\n",
       "      <td>02</td>\n",
       "      <td>1</td>\n",
       "      <td>Education</td>\n",
       "      <td>78.90</td>\n",
       "      <td>2018</td>\n",
       "      <td>20180214</td>\n",
       "    </tr>\n",
       "    <tr>\n",
       "      <th>1</th>\n",
       "      <td>35</td>\n",
       "      <td>4210653349028689</td>\n",
       "      <td>123459988</td>\n",
       "      <td>20</td>\n",
       "      <td>03</td>\n",
       "      <td>2</td>\n",
       "      <td>Entertainment</td>\n",
       "      <td>14.24</td>\n",
       "      <td>2018</td>\n",
       "      <td>20180320</td>\n",
       "    </tr>\n",
       "    <tr>\n",
       "      <th>2</th>\n",
       "      <td>160</td>\n",
       "      <td>4210653349028689</td>\n",
       "      <td>123459988</td>\n",
       "      <td>08</td>\n",
       "      <td>07</td>\n",
       "      <td>3</td>\n",
       "      <td>Grocery</td>\n",
       "      <td>56.70</td>\n",
       "      <td>2018</td>\n",
       "      <td>20180708</td>\n",
       "    </tr>\n",
       "    <tr>\n",
       "      <th>3</th>\n",
       "      <td>114</td>\n",
       "      <td>4210653349028689</td>\n",
       "      <td>123459988</td>\n",
       "      <td>19</td>\n",
       "      <td>04</td>\n",
       "      <td>4</td>\n",
       "      <td>Entertainment</td>\n",
       "      <td>59.73</td>\n",
       "      <td>2018</td>\n",
       "      <td>20180419</td>\n",
       "    </tr>\n",
       "    <tr>\n",
       "      <th>4</th>\n",
       "      <td>93</td>\n",
       "      <td>4210653349028689</td>\n",
       "      <td>123459988</td>\n",
       "      <td>10</td>\n",
       "      <td>10</td>\n",
       "      <td>5</td>\n",
       "      <td>Gas</td>\n",
       "      <td>3.59</td>\n",
       "      <td>2018</td>\n",
       "      <td>20181010</td>\n",
       "    </tr>\n",
       "    <tr>\n",
       "      <th>5</th>\n",
       "      <td>164</td>\n",
       "      <td>4210653349028689</td>\n",
       "      <td>123459988</td>\n",
       "      <td>28</td>\n",
       "      <td>05</td>\n",
       "      <td>6</td>\n",
       "      <td>Education</td>\n",
       "      <td>6.89</td>\n",
       "      <td>2018</td>\n",
       "      <td>20180528</td>\n",
       "    </tr>\n",
       "    <tr>\n",
       "      <th>6</th>\n",
       "      <td>119</td>\n",
       "      <td>4210653349028689</td>\n",
       "      <td>123459988</td>\n",
       "      <td>19</td>\n",
       "      <td>05</td>\n",
       "      <td>7</td>\n",
       "      <td>Entertainment</td>\n",
       "      <td>43.39</td>\n",
       "      <td>2018</td>\n",
       "      <td>20180519</td>\n",
       "    </tr>\n",
       "    <tr>\n",
       "      <th>7</th>\n",
       "      <td>23</td>\n",
       "      <td>4210653349028689</td>\n",
       "      <td>123459988</td>\n",
       "      <td>08</td>\n",
       "      <td>08</td>\n",
       "      <td>8</td>\n",
       "      <td>Gas</td>\n",
       "      <td>95.39</td>\n",
       "      <td>2018</td>\n",
       "      <td>20180808</td>\n",
       "    </tr>\n",
       "    <tr>\n",
       "      <th>8</th>\n",
       "      <td>166</td>\n",
       "      <td>4210653349028689</td>\n",
       "      <td>123459988</td>\n",
       "      <td>18</td>\n",
       "      <td>03</td>\n",
       "      <td>9</td>\n",
       "      <td>Entertainment</td>\n",
       "      <td>93.26</td>\n",
       "      <td>2018</td>\n",
       "      <td>20180318</td>\n",
       "    </tr>\n",
       "    <tr>\n",
       "      <th>9</th>\n",
       "      <td>83</td>\n",
       "      <td>4210653349028689</td>\n",
       "      <td>123459988</td>\n",
       "      <td>03</td>\n",
       "      <td>09</td>\n",
       "      <td>10</td>\n",
       "      <td>Bills</td>\n",
       "      <td>100.38</td>\n",
       "      <td>2018</td>\n",
       "      <td>20180903</td>\n",
       "    </tr>\n",
       "  </tbody>\n",
       "</table>\n",
       "</div>"
      ],
      "text/plain": [
       "   BRANCH_CODE        CUST_CC_NO   CUST_SSN DAY MONTH  TRANSACTION_ID  \\\n",
       "0          114  4210653349028689  123459988  14    02               1   \n",
       "1           35  4210653349028689  123459988  20    03               2   \n",
       "2          160  4210653349028689  123459988  08    07               3   \n",
       "3          114  4210653349028689  123459988  19    04               4   \n",
       "4           93  4210653349028689  123459988  10    10               5   \n",
       "5          164  4210653349028689  123459988  28    05               6   \n",
       "6          119  4210653349028689  123459988  19    05               7   \n",
       "7           23  4210653349028689  123459988  08    08               8   \n",
       "8          166  4210653349028689  123459988  18    03               9   \n",
       "9           83  4210653349028689  123459988  03    09              10   \n",
       "\n",
       "  TRANSACTION_TYPE  TRANSACTION_VALUE  YEAR    TIMEID  \n",
       "0        Education              78.90  2018  20180214  \n",
       "1    Entertainment              14.24  2018  20180320  \n",
       "2          Grocery              56.70  2018  20180708  \n",
       "3    Entertainment              59.73  2018  20180419  \n",
       "4              Gas               3.59  2018  20181010  \n",
       "5        Education               6.89  2018  20180528  \n",
       "6    Entertainment              43.39  2018  20180519  \n",
       "7              Gas              95.39  2018  20180808  \n",
       "8    Entertainment              93.26  2018  20180318  \n",
       "9            Bills             100.38  2018  20180903  "
      ]
     },
     "execution_count": 80,
     "metadata": {},
     "output_type": "execute_result"
    }
   ],
   "source": [
    "#first 10 records from the transformed dataframe\n",
    "credit_df.head(10)"
   ]
  },
  {
   "cell_type": "code",
   "execution_count": 81,
   "metadata": {},
   "outputs": [],
   "source": [
    "#selected columns to be added into transformed dataframe\n",
    "trans_credit_df=credit_df[['CUST_CC_NO','TIMEID','CUST_SSN','BRANCH_CODE','TRANSACTION_TYPE','TRANSACTION_VALUE','TRANSACTION_ID']]"
   ]
  },
  {
   "cell_type": "code",
   "execution_count": 82,
   "metadata": {},
   "outputs": [
    {
     "data": {
      "text/html": [
       "<div>\n",
       "<style scoped>\n",
       "    .dataframe tbody tr th:only-of-type {\n",
       "        vertical-align: middle;\n",
       "    }\n",
       "\n",
       "    .dataframe tbody tr th {\n",
       "        vertical-align: top;\n",
       "    }\n",
       "\n",
       "    .dataframe thead th {\n",
       "        text-align: right;\n",
       "    }\n",
       "</style>\n",
       "<table border=\"1\" class=\"dataframe\">\n",
       "  <thead>\n",
       "    <tr style=\"text-align: right;\">\n",
       "      <th></th>\n",
       "      <th>CUST_CC_NO</th>\n",
       "      <th>TIMEID</th>\n",
       "      <th>CUST_SSN</th>\n",
       "      <th>BRANCH_CODE</th>\n",
       "      <th>TRANSACTION_TYPE</th>\n",
       "      <th>TRANSACTION_VALUE</th>\n",
       "      <th>TRANSACTION_ID</th>\n",
       "    </tr>\n",
       "  </thead>\n",
       "  <tbody>\n",
       "    <tr>\n",
       "      <th>0</th>\n",
       "      <td>4210653349028689</td>\n",
       "      <td>20180214</td>\n",
       "      <td>123459988</td>\n",
       "      <td>114</td>\n",
       "      <td>Education</td>\n",
       "      <td>78.90</td>\n",
       "      <td>1</td>\n",
       "    </tr>\n",
       "    <tr>\n",
       "      <th>1</th>\n",
       "      <td>4210653349028689</td>\n",
       "      <td>20180320</td>\n",
       "      <td>123459988</td>\n",
       "      <td>35</td>\n",
       "      <td>Entertainment</td>\n",
       "      <td>14.24</td>\n",
       "      <td>2</td>\n",
       "    </tr>\n",
       "    <tr>\n",
       "      <th>2</th>\n",
       "      <td>4210653349028689</td>\n",
       "      <td>20180708</td>\n",
       "      <td>123459988</td>\n",
       "      <td>160</td>\n",
       "      <td>Grocery</td>\n",
       "      <td>56.70</td>\n",
       "      <td>3</td>\n",
       "    </tr>\n",
       "    <tr>\n",
       "      <th>3</th>\n",
       "      <td>4210653349028689</td>\n",
       "      <td>20180419</td>\n",
       "      <td>123459988</td>\n",
       "      <td>114</td>\n",
       "      <td>Entertainment</td>\n",
       "      <td>59.73</td>\n",
       "      <td>4</td>\n",
       "    </tr>\n",
       "    <tr>\n",
       "      <th>4</th>\n",
       "      <td>4210653349028689</td>\n",
       "      <td>20181010</td>\n",
       "      <td>123459988</td>\n",
       "      <td>93</td>\n",
       "      <td>Gas</td>\n",
       "      <td>3.59</td>\n",
       "      <td>5</td>\n",
       "    </tr>\n",
       "    <tr>\n",
       "      <th>5</th>\n",
       "      <td>4210653349028689</td>\n",
       "      <td>20180528</td>\n",
       "      <td>123459988</td>\n",
       "      <td>164</td>\n",
       "      <td>Education</td>\n",
       "      <td>6.89</td>\n",
       "      <td>6</td>\n",
       "    </tr>\n",
       "    <tr>\n",
       "      <th>6</th>\n",
       "      <td>4210653349028689</td>\n",
       "      <td>20180519</td>\n",
       "      <td>123459988</td>\n",
       "      <td>119</td>\n",
       "      <td>Entertainment</td>\n",
       "      <td>43.39</td>\n",
       "      <td>7</td>\n",
       "    </tr>\n",
       "    <tr>\n",
       "      <th>7</th>\n",
       "      <td>4210653349028689</td>\n",
       "      <td>20180808</td>\n",
       "      <td>123459988</td>\n",
       "      <td>23</td>\n",
       "      <td>Gas</td>\n",
       "      <td>95.39</td>\n",
       "      <td>8</td>\n",
       "    </tr>\n",
       "    <tr>\n",
       "      <th>8</th>\n",
       "      <td>4210653349028689</td>\n",
       "      <td>20180318</td>\n",
       "      <td>123459988</td>\n",
       "      <td>166</td>\n",
       "      <td>Entertainment</td>\n",
       "      <td>93.26</td>\n",
       "      <td>9</td>\n",
       "    </tr>\n",
       "    <tr>\n",
       "      <th>9</th>\n",
       "      <td>4210653349028689</td>\n",
       "      <td>20180903</td>\n",
       "      <td>123459988</td>\n",
       "      <td>83</td>\n",
       "      <td>Bills</td>\n",
       "      <td>100.38</td>\n",
       "      <td>10</td>\n",
       "    </tr>\n",
       "  </tbody>\n",
       "</table>\n",
       "</div>"
      ],
      "text/plain": [
       "         CUST_CC_NO    TIMEID   CUST_SSN  BRANCH_CODE TRANSACTION_TYPE  \\\n",
       "0  4210653349028689  20180214  123459988          114        Education   \n",
       "1  4210653349028689  20180320  123459988           35    Entertainment   \n",
       "2  4210653349028689  20180708  123459988          160          Grocery   \n",
       "3  4210653349028689  20180419  123459988          114    Entertainment   \n",
       "4  4210653349028689  20181010  123459988           93              Gas   \n",
       "5  4210653349028689  20180528  123459988          164        Education   \n",
       "6  4210653349028689  20180519  123459988          119    Entertainment   \n",
       "7  4210653349028689  20180808  123459988           23              Gas   \n",
       "8  4210653349028689  20180318  123459988          166    Entertainment   \n",
       "9  4210653349028689  20180903  123459988           83            Bills   \n",
       "\n",
       "   TRANSACTION_VALUE  TRANSACTION_ID  \n",
       "0              78.90               1  \n",
       "1              14.24               2  \n",
       "2              56.70               3  \n",
       "3              59.73               4  \n",
       "4               3.59               5  \n",
       "5               6.89               6  \n",
       "6              43.39               7  \n",
       "7              95.39               8  \n",
       "8              93.26               9  \n",
       "9             100.38              10  "
      ]
     },
     "execution_count": 82,
     "metadata": {},
     "output_type": "execute_result"
    }
   ],
   "source": [
    "#first 10 records from transformed customer dataframe\n",
    "trans_credit_df.head(10)"
   ]
  },
  {
   "cell_type": "code",
   "execution_count": 84,
   "metadata": {},
   "outputs": [],
   "source": [
    "#creting spark dataframe from transformed pandas customer dataframe\n",
    "transform_credit_df=spark.createDataFrame(trans_credit_df)"
   ]
  },
  {
   "cell_type": "code",
   "execution_count": 85,
   "metadata": {},
   "outputs": [
    {
     "name": "stdout",
     "output_type": "stream",
     "text": [
      "+----------------+--------+---------+-----------+----------------+-----------------+--------------+\n",
      "|      CUST_CC_NO|  TIMEID| CUST_SSN|BRANCH_CODE|TRANSACTION_TYPE|TRANSACTION_VALUE|TRANSACTION_ID|\n",
      "+----------------+--------+---------+-----------+----------------+-----------------+--------------+\n",
      "|4210653349028689|20180214|123459988|        114|       Education|             78.9|             1|\n",
      "|4210653349028689|20180320|123459988|         35|   Entertainment|            14.24|             2|\n",
      "|4210653349028689|20180708|123459988|        160|         Grocery|             56.7|             3|\n",
      "|4210653349028689|20180419|123459988|        114|   Entertainment|            59.73|             4|\n",
      "|4210653349028689|20181010|123459988|         93|             Gas|             3.59|             5|\n",
      "+----------------+--------+---------+-----------+----------------+-----------------+--------------+\n",
      "only showing top 5 rows\n",
      "\n"
     ]
    }
   ],
   "source": [
    "#show first five records from customer spark dataframe\n",
    "transform_credit_df.show(5,truncate=True)"
   ]
  },
  {
   "cell_type": "code",
   "execution_count": 98,
   "metadata": {},
   "outputs": [],
   "source": [
    "load_dotenv()\n",
    "USER=os.environ.get('user')\n",
    "PASSWORD=os.environ.get('password')"
   ]
  },
  {
   "attachments": {},
   "cell_type": "markdown",
   "metadata": {},
   "source": [
    "### Req-1.2   \n",
    "Data loading into Database\n"
   ]
  },
  {
   "attachments": {},
   "cell_type": "markdown",
   "metadata": {},
   "source": [
    "Create a Python and Pyspark Program to load/write the “Credit Card System Data” into RDBMS(creditcard_capstone).     \n",
    "Tables should be created by the following names in RDBMS:     \n",
    "\n",
    "      CDW_SAPP_BRANCH    \n",
    "      CDW_SAPP_CREDIT_CARD    \n",
    "      CDW_SAPP_CUSTOMER   \n"
   ]
  },
  {
   "cell_type": "code",
   "execution_count": 87,
   "metadata": {},
   "outputs": [],
   "source": [
    "#load branch data from spark dataframe into reditcard_capstone.CDW_SAPP_BRANCH table in RDBMS\n",
    "transform_branch_df.write \\\n",
    "                    .format(\"jdbc\") \\\n",
    "                    .mode(\"overwrite\") \\\n",
    "                    .option(\"truncate\",\"true\") \\\n",
    "                    .option(\"url\", \"jdbc:mysql://localhost:3308/\") \\\n",
    "                    .option(\"createTableColumnTypes\", \"BRANCH_CODE INT,BRANCH_NAME VARCHAR(25),BRANCH_STREET VARCHAR(50),\\\n",
    "                                                       BRANCH_CITY VARCHAR(25), BRANCH_STATE VARCHAR(10),BRANCH_ZIP INT,\\\n",
    "                                                       BRANCH_PHONE VARCHAR(25),LAST_UPDATED TIMESTAMP\")\\\n",
    "                    .option(\"dbtable\", \"creditcard_capstone.CDW_SAPP_BRANCH\") \\\n",
    "                    .option(\"truncate\",\"true\") \\\n",
    "                    .option(\"user\", USER) \\\n",
    "                    .option(\"password\", PASSWORD) \\\n",
    "                    .option(\"characterEncoding\",\"UTF-8\") \\\n",
    "                    .option(\"useUnicode\", \"true\") \\\n",
    "                    .save()"
   ]
  },
  {
   "cell_type": "code",
   "execution_count": 89,
   "metadata": {},
   "outputs": [],
   "source": [
    "#load creditcard data from spark dataframe into reditcard_capstone.CDW_SAPP_CREDIT_CARD table in RDBMS\n",
    "transform_credit_df.write \\\n",
    "                    .format(\"jdbc\") \\\n",
    "                    .mode(\"overwrite\") \\\n",
    "                    .option(\"truncate\",\"true\") \\\n",
    "                    .option(\"url\", \"jdbc:mysql://localhost:3308/\") \\\n",
    "                    .option(\"createTableColumnTypes\", \"CUST_CC_NO VARCHAR(25),TIMEID VARCHAR(15),CUST_SSN INT,\\\n",
    "                                                       BRANCH_CODE INT, TRANSACTION_TYPE VARCHAR(25),TRANSACTION_VALUE DOUBLE,\\\n",
    "                                                       TRANSACTION_ID INT\")\\\n",
    "                    .option(\"dbtable\", \"creditcard_capstone.CDW_SAPP_CREDIT_CARD\") \\\n",
    "                    .option(\"truncate\",\"true\") \\\n",
    "                    .option(\"user\", USER) \\\n",
    "                    .option(\"password\", PASSWORD) \\\n",
    "                    .option(\"characterEncoding\",\"UTF-8\") \\\n",
    "                    .option(\"useUnicode\", \"true\") \\\n",
    "                    .save()"
   ]
  },
  {
   "cell_type": "code",
   "execution_count": 92,
   "metadata": {},
   "outputs": [],
   "source": [
    "#load cUSTOMER data from spark dataframe into reditcard_capstone.CDW_SAPP_CREDIT_CARD table in RDBMS\n",
    "transform_customer_df.write \\\n",
    "                    .format(\"jdbc\") \\\n",
    "                    .mode(\"overwrite\") \\\n",
    "                    .option(\"truncate\",\"true\") \\\n",
    "                    .option(\"url\", \"jdbc:mysql://localhost:3308/\") \\\n",
    "                    .option(\"createTableColumnTypes\", \"SSN INT,FIRST_NAME VARCHAR(25),MIDDLE_NAME VARCHAR(25),LAST_NAME VARCHAR(25),\\\n",
    "                                                       CREDIT_CARD_NO VARCHAR(25),FULL_STREET_ADDRESS VARCHAR(50),CUST_CITY VARCHAR(25),\\\n",
    "                                                       CUST_STATE VARCHAR(25),CUST_COUNTRY VARCHAR(25),CUST_ZIP INT,CUST_PHONE VARCHAR(15),\\\n",
    "                                                       CUST_EMAIL VARCHAR(50),LAST_UPDATED TIMESTAMP\")\\\n",
    "                    .option(\"dbtable\", \"creditcard_capstone.CDW_SAPP_CUSTOMER\") \\\n",
    "                    .option(\"truncate\",\"true\") \\\n",
    "                    .option(\"user\", USER) \\\n",
    "                    .option(\"password\", PASSWORD) \\\n",
    "                    .option(\"characterEncoding\",\"UTF-8\") \\\n",
    "                    .option(\"useUnicode\", \"true\") \\\n",
    "                    .save()"
   ]
  },
  {
   "attachments": {},
   "cell_type": "markdown",
   "metadata": {},
   "source": [
    "### 2. Functional Requirements - Application Front-End"
   ]
  },
  {
   "attachments": {},
   "cell_type": "markdown",
   "metadata": {},
   "source": [
    "Once data is loaded into the database, we need a front-end (console) to see/display data.    \n",
    "For that, create a console-based Python program to satisfy System Requirements 2 (2.1 and 2.2).   \n",
    "\n",
    " 2.1 Transaction Details Module \\    \n",
    "* 1. Used to display the transactions made by customers living in a given zip code for a given month and year. \n",
    "              Order by day in descending order.\n",
    "* 2.  Used to display the number and total values of transactions for a given type.          \n",
    "* 3.  Used to display the number and total values of transactions for branches in a given state.    \n",
    "\n",
    "2.2 Customer Details Module     \n",
    "* 1. Used to check the existing account details of a customer.   \n",
    "* 2. Used to modify the existing account details of a customer.  \n",
    "* 3. Used to generate a monthly bill for a credit card number for a given month and year.    \n",
    "* 4. Used to display the transactions made by a customer between two dates. Order by year, month, and day in descending order.   "
   ]
  },
  {
   "cell_type": "code",
   "execution_count": 115,
   "metadata": {},
   "outputs": [],
   "source": [
    "#load branch data from creditcard_capstone.CDW_SAPP_BRANCH to spark dataframe\n",
    "load_branch=spark.read\\\n",
    "                    .format(\"jdbc\")\\\n",
    "                    .options(driver=\"com.mysql.cj.jdbc.Driver\",\\\n",
    "                          user=USER,\\\n",
    "                          password=PASSWORD,\\\n",
    "                          url=\"jdbc:mysql://localhost:3308/\",\\\n",
    "                          dbtable=\"creditcard_capstone.CDW_SAPP_BRANCH\")\\\n",
    "                    .load()\n",
    "\n",
    "#load creditcard data from creditcard_capstone.CDW_SAPP_CREDIT_CARD to spark dataframe\n",
    "load_credit=spark.read\\\n",
    "                    .format(\"jdbc\")\\\n",
    "                    .options(driver=\"com.mysql.cj.jdbc.Driver\",\\\n",
    "                          user=USER,\\\n",
    "                          password=PASSWORD,\\\n",
    "                          url=\"jdbc:mysql://localhost:3308/\",\\\n",
    "                          dbtable=\"creditcard_capstone.CDW_SAPP_CREDIT_CARD\")\\\n",
    "                    .load()\n",
    "\n",
    "#load customer data from creditcard_capstone.CDW_SAPP_CUSTOMER to spark dataframe\n",
    "load_customer=spark.read\\\n",
    "                    .format(\"jdbc\")\\\n",
    "                    .options(driver=\"com.mysql.cj.jdbc.Driver\",\\\n",
    "                          user=USER,\\\n",
    "                          password=PASSWORD,\\\n",
    "                          url=\"jdbc:mysql://localhost:3308/\",\\\n",
    "                          dbtable=\"creditcard_capstone.CDW_SAPP_CUSTOMER\")\\\n",
    "                    .load()\n",
    "\n",
    "#create temp vew of spark dataframe\n",
    "load_branch.createOrReplaceTempView('branch')\n",
    "load_credit.createOrReplaceTempView(\"credit_card\")\n",
    "load_customer.createOrReplaceTempView(\"customer\")\n"
   ]
  },
  {
   "cell_type": "code",
   "execution_count": 385,
   "metadata": {},
   "outputs": [],
   "source": [
    "#decorator to change funcionality of the print function\n",
    "def Dprint(f):\n",
    "    def inner(*arg,**kwarg):\n",
    "        r=f(*arg,**kwarg)\n",
    "        r.show()\n",
    "        # return r\n",
    "    return inner"
   ]
  },
  {
   "attachments": {},
   "cell_type": "markdown",
   "metadata": {},
   "source": [
    "* 1. Used to display the transactions made by customers living in a given zip code for a given month and year.     \n",
    "              Order by day in descending order."
   ]
  },
  {
   "cell_type": "code",
   "execution_count": 387,
   "metadata": {},
   "outputs": [],
   "source": [
    "@Dprint\n",
    "def transaction_by_zipcode(zipcode,year,month):\n",
    "    return spark.sql(\"SELECT c.CUST_ZIP, \\\n",
    "                      c.FIRST_NAME, \\\n",
    "                      c.LAST_NAME,\\\n",
    "                      c.LAST_UPDATED,\\\n",
    "                      cc.*\\\n",
    "                      FROM credit_card cc\\\n",
    "                      JOIN customer c ON  c.SSN=cc.CUST_SSN\\\n",
    "                      WHERE c.CUST_ZIP = '{}' AND YEAR(to_date(TIMEID,'yyyyMMdd')) = '{}' \\\n",
    "                      AND MONTH(to_date(TIMEID,'yyyyMMdd'))='{}'\\\n",
    "                      ORDER BY day(to_date(TIMEID,'yyyyMMdd')) DESC\".format(zipcode,year,month))\n",
    "   "
   ]
  },
  {
   "cell_type": "code",
   "execution_count": 356,
   "metadata": {},
   "outputs": [],
   "source": [
    "#function to get zipcode, year, month user input \n",
    "def tran1_input():\n",
    "    while True:\n",
    "        zipcode=input(\"\\n Enter zipcode using 4-5 digits : \")\n",
    "        zipcode=zipcode.strip()\n",
    "        if (zipcode.isdigit()) and (len(zipcode) > 3 or len(zipcode) < 6):\n",
    "            print(\"\\n Valid zipcode\")\n",
    "            break\n",
    "        else:\n",
    "            print(\"\\n Invalid zipcode entry...Try again\")\n",
    "\n",
    "    #year input       \n",
    "    while True:\n",
    "        year=input(\"\\n Enter year using 4 digits :\")\n",
    "        year=year.strip()\n",
    "        if year.isdigit() and len(year)==4:\n",
    "            print(\"\\n Valid Year\")\n",
    "            break\n",
    "        else:\n",
    "            print(\"\\n Invalid year entry...Try again :\")\n",
    "\n",
    "    #month input\n",
    "    while True:\n",
    "        month=input(\"\\n Enter month using 2 digits (example: March enter 03): \")\n",
    "        month=month.strip().lstrip('0')\n",
    "        if month.isdigit():\n",
    "            if int(month) in range (0,13):\n",
    "                print(\"\\n Valid month :\")\n",
    "                break\n",
    "            else:\n",
    "                print(\"\\n Invalid month entry...Try again :\")\n",
    "        else:\n",
    "            print(\"\\n Invalid month entry...Try again :\")\n",
    "\n",
    "    return zipcode,year,month  "
   ]
  },
  {
   "cell_type": "code",
   "execution_count": 388,
   "metadata": {},
   "outputs": [
    {
     "name": "stdout",
     "output_type": "stream",
     "text": [
      "\n",
      " Valid zipcode\n",
      "\n",
      " Valid Year\n",
      "\n",
      " Valid month :\n",
      "\n",
      " Transactions made by customers living in zip code :60142, for a year :2018, and month :9 \n",
      " output Order by day in descending order\n",
      "+--------+----------+---------+-------------------+----------------+--------+---------+-----------+----------------+-----------------+--------------+\n",
      "|CUST_ZIP|FIRST_NAME|LAST_NAME|       LAST_UPDATED|      CUST_CC_NO|  TIMEID| CUST_SSN|BRANCH_CODE|TRANSACTION_TYPE|TRANSACTION_VALUE|TRANSACTION_ID|\n",
      "+--------+----------+---------+-------------------+----------------+--------+---------+-----------+----------------+-----------------+--------------+\n",
      "|   60142|    Rodger|   Chacon|2018-04-21 12:49:02|4210653316474645|20180928|123457245|         31|       Education|            37.61|         14278|\n",
      "|   60142|    Rodger|   Chacon|2018-04-21 12:49:02|4210653316474645|20180927|123457245|          8|            Test|            12.84|         14293|\n",
      "|   60142|  Cristina|  Spencer|2018-04-21 12:49:02|4210653348574254|20180927|123458563|         45|             Gas|            34.44|          6971|\n",
      "|   60142|  Cristina|  Spencer|2018-04-21 12:49:02|4210653348574254|20180924|123458563|         47|         Grocery|              5.4|          6977|\n",
      "|   60142|    Rodger|   Chacon|2018-04-21 12:49:02|4210653316474645|20180924|123457245|         12|           Bills|            62.55|         14346|\n",
      "|   60142|    Rodger|   Chacon|2018-04-21 12:49:02|4210653316474645|20180920|123457245|         30|       Education|            45.81|         14273|\n",
      "|   60142|    Wilber|   Dunham|2018-04-21 12:49:02|4210653310116272|20180918|123454487|         32|           Bills|            41.43|         28698|\n",
      "|   60142|      Aron|   Guzman|2018-04-21 12:49:02|4210653331330633|20180917|123459511|         69|         Grocery|            50.99|          2464|\n",
      "|   60142|    Wilber|   Dunham|2018-04-21 12:49:02|4210653310116272|20180915|123454487|         24|       Education|             3.11|         28724|\n",
      "|   60142|      Aron|   Guzman|2018-04-21 12:49:02|4210653331330633|20180915|123459511|          2|   Entertainment|             80.7|          2404|\n",
      "|   60142|     Allan|   Osborn|2018-04-21 12:49:02|4210653369092976|20180914|123454276|         18|             Gas|            63.06|         30120|\n",
      "|   60142|    Rodger|   Chacon|2018-04-21 12:49:02|4210653316474645|20180914|123457245|        175|         Grocery|            37.53|         14312|\n",
      "|   60142|     Allan|   Osborn|2018-04-21 12:49:02|4210653369092976|20180913|123454276|         10|      Healthcare|             35.6|         30159|\n",
      "|   60142|    Wilber|   Dunham|2018-04-21 12:49:02|4210653310116272|20180912|123454487|         59|   Entertainment|           100.12|         28730|\n",
      "|   60142|    Rodger|   Chacon|2018-04-21 12:49:02|4210653316474645|20180912|123457245|          4|       Education|            80.26|         14311|\n",
      "|   60142|    Rodger|   Chacon|2018-04-21 12:49:02|4210653316474645|20180911|123457245|         18|         Grocery|            24.75|         14298|\n",
      "|   60142|      Aron|   Guzman|2018-04-21 12:49:02|4210653331330633|20180910|123459511|         76|         Grocery|            24.03|          2428|\n",
      "|   60142|      Aron|   Guzman|2018-04-21 12:49:02|4210653331330633|20180907|123459511|         43|   Entertainment|             62.1|          2414|\n",
      "|   60142|      Aron|   Guzman|2018-04-21 12:49:02|4210653331330633|20180907|123459511|         49|           Bills|            39.58|          2400|\n",
      "|   60142|    Rodger|   Chacon|2018-04-21 12:49:02|4210653316474645|20180904|123457245|         16|      Healthcare|            38.69|         14303|\n",
      "+--------+----------+---------+-------------------+----------------+--------+---------+-----------+----------------+-----------------+--------------+\n",
      "only showing top 20 rows\n",
      "\n"
     ]
    }
   ],
   "source": [
    "#calling function tran1_input() to get user input for zipcode, year and month.\n",
    "#the return value of function is valid user input zipcode,year,month\n",
    "zipcode,year,month=tran1_input()\n",
    "print(\"\\n Transactions made by customers living in zip code :{}, for a year :{}, and month :{} \\n\\\n",
    " output Order by day in descending order\".format(zipcode,year,month))   \n",
    "transaction_by_zipcode(zipcode,year,month)\n",
    "\n",
    "# transaction_by_zipcode(60142,2018,9)"
   ]
  },
  {
   "attachments": {},
   "cell_type": "markdown",
   "metadata": {},
   "source": [
    "* 2)    Used to display the number and total values of transactions for a given type."
   ]
  },
  {
   "cell_type": "code",
   "execution_count": 414,
   "metadata": {},
   "outputs": [],
   "source": [
    " #function to get the number and total values of transactions for a given type.\n",
    "@Dprint\n",
    "def tran_no_total_by(tr_type):\n",
    "    return spark.sql(\"SELECT TRANSACTION_TYPE, COUNT(TRANSACTION_ID) AS NUM_OF_TRANSACTION, \\\n",
    "                        SUM(TRANSACTION_VALUE) AS TOTAL_TRAN_VALUES FROM credit_card\\\n",
    "                        WHERE TRANSACTION_TYPE='{}'\\\n",
    "                        GROUP BY TRANSACTION_TYPE\".format(tr_type))   "
   ]
  },
  {
   "cell_type": "code",
   "execution_count": 411,
   "metadata": {},
   "outputs": [],
   "source": [
    "#funtion to get user input for transaction type\n",
    "def tran2_input():\n",
    "    print(\"Available Transaction Type\")\n",
    "    transaction_type=spark.sql(\"SELECT DISTINCT(TRANSACTION_TYPE) FROM credit_card\")\n",
    "    transaction_type.show()\n",
    "    transaction_type= transaction_type.toPandas()\n",
    "    transaction_type_list=pd.unique(transaction_type['TRANSACTION_TYPE'])\n",
    "    while True:        \n",
    "        tr_type=input(\"\\nEnter Transaction Type : \")\n",
    "        tr_type=tr_type.strip()\n",
    "        if tr_type.title() in transaction_type_list:\n",
    "            print(\"Valid Transaction Type \")\n",
    "            break\n",
    "        else:\n",
    "            print(\"\\nEntered Transaction type not found.. Try again..\")\n",
    "    return tr_type\n",
    "\n"
   ]
  },
  {
   "cell_type": "code",
   "execution_count": 415,
   "metadata": {},
   "outputs": [
    {
     "name": "stdout",
     "output_type": "stream",
     "text": [
      "Available Transaction Type\n",
      "+----------------+\n",
      "|TRANSACTION_TYPE|\n",
      "+----------------+\n",
      "|       Education|\n",
      "|   Entertainment|\n",
      "|      Healthcare|\n",
      "|         Grocery|\n",
      "|            Test|\n",
      "|             Gas|\n",
      "|           Bills|\n",
      "+----------------+\n",
      "\n",
      "Valid Transaction Type\n",
      "+----------------+------------------+------------------+\n",
      "|TRANSACTION_TYPE|NUM_OF_TRANSACTION| TOTAL_TRAN_VALUES|\n",
      "+----------------+------------------+------------------+\n",
      "|             Gas|              6605|336059.25999999954|\n",
      "+----------------+------------------+------------------+\n",
      "\n"
     ]
    }
   ],
   "source": [
    "tr_type=tran2_input()\n",
    "tran_no_total_by(tr_type)"
   ]
  },
  {
   "attachments": {},
   "cell_type": "markdown",
   "metadata": {},
   "source": [
    "* 3)    Used to display the number and total values of transactions for branches in a given state."
   ]
  },
  {
   "cell_type": "code",
   "execution_count": 486,
   "metadata": {},
   "outputs": [],
   "source": [
    "# function display the number and total values of transactions for branches in a given state.\n",
    "@Dprint\n",
    "def tran_no_total_byst(state):\n",
    "    return spark.sql(\"SELECT cc.BRANCH_CODE AS BRANCH_CODE, \\\n",
    "                            COUNT(cc.TRANSACTION_ID) AS NO_TRANSACTION, \\\n",
    "                            SUM(TRANSACTION_VALUE) AS TOTAL_VALUE \\\n",
    "                            FROM customer C \\\n",
    "                            LEFT JOIN credit_card cc on C.SSN = cc.CUST_SSN \\\n",
    "                            WHERE C.CUST_STATE = '{}'\\\n",
    "                            GROUP BY cc.BRANCH_CODE\\\n",
    "                            ORDER BY cc.BRANCH_CODE\".format(state))"
   ]
  },
  {
   "cell_type": "code",
   "execution_count": 517,
   "metadata": {},
   "outputs": [],
   "source": [
    "#function to get user input for state.\n",
    "def tran3_input():\n",
    "    tr_state=spark.sql(\"SELECT DISTINCT(BRANCH_STATE) AS STATES FROM branch\")\n",
    "    tr_state= tr_state.toPandas()\n",
    "    tr_state_list=pd.unique(tr_state['STATES'])\n",
    "    print(\"Available Transaction States ::\\n {}\".format(tr_state_list))\n",
    "    while True:\n",
    "        state=input(\"\\n Enter State using 2 letters as shown in above list\")\n",
    "        state=state.strip()\n",
    "        if state.isalpha() and len(state) == 2:\n",
    "            if state.upper() in tr_state_list:\n",
    "                print(\"\\nEntry is available for the entered state '{}' ::\".format(state.upper()))\n",
    "                break\n",
    "            else:\n",
    "                print(\"\\nState is not found in list..Try again..\")\n",
    "        else:\n",
    "            print(\"\\nInvalid entry...Try again\")\n",
    "    return state\n"
   ]
  },
  {
   "cell_type": "code",
   "execution_count": 518,
   "metadata": {},
   "outputs": [
    {
     "name": "stdout",
     "output_type": "stream",
     "text": [
      "Available Transaction States ::\n",
      " ['SC' 'MN' 'NJ' 'VA' 'KY' 'MI' 'WI' 'CA' 'CT' 'MT' 'NC' 'MD' 'IL' 'WA'\n",
      " 'MS' 'AL' 'IN' 'OH' 'IA' 'PA' 'NY' 'TX' 'GA' 'MA' 'FL' 'AR']\n",
      "\n",
      "Entry 'NY' is available for the entered state in transaction ::\n",
      "\n",
      "\n",
      "+-----------+--------------+------------------+\n",
      "|BRANCH_CODE|NO_TRANSACTION|       TOTAL_VALUE|\n",
      "+-----------+--------------+------------------+\n",
      "|          1|            30|1582.3599999999994|\n",
      "|          2|            33|1536.2899999999997|\n",
      "|          3|            54|2726.0399999999995|\n",
      "|          4|            44|2031.4200000000003|\n",
      "|          5|            34|1646.3100000000002|\n",
      "|          7|            39|2092.0299999999997|\n",
      "|          8|            43|           2193.71|\n",
      "|          9|            45|2452.4100000000008|\n",
      "|         10|            37|2112.6799999999994|\n",
      "|         11|            46|2365.2100000000005|\n",
      "|         12|            45|           2263.95|\n",
      "|         14|            45|           2604.02|\n",
      "|         15|            37|1918.7100000000003|\n",
      "|         16|            43|2354.6500000000005|\n",
      "|         17|            40|           2222.29|\n",
      "|         18|            38|           2027.76|\n",
      "|         19|            40|1906.6600000000003|\n",
      "|         20|            33|1871.7399999999998|\n",
      "|         21|            44|2529.4800000000005|\n",
      "|         22|            36|1842.4799999999998|\n",
      "+-----------+--------------+------------------+\n",
      "only showing top 20 rows\n",
      "\n"
     ]
    }
   ],
   "source": [
    "#calling using input. return type of this function is valid available state\n",
    "state=tran3_input()\n",
    "#calling function to get the number and total values of transactions for branches in a given state.\n",
    "print(\"\\n\")\n",
    "tran_no_total_byst(state)"
   ]
  },
  {
   "cell_type": "code",
   "execution_count": null,
   "metadata": {},
   "outputs": [],
   "source": []
  },
  {
   "cell_type": "code",
   "execution_count": 463,
   "metadata": {},
   "outputs": [
    {
     "name": "stdout",
     "output_type": "stream",
     "text": [
      "+-----------+--------------+------------------+\n",
      "|BRANCH_CODE|NO_TRANSACTION|       TOTAL_VALUE|\n",
      "+-----------+--------------+------------------+\n",
      "|          1|            10|            501.56|\n",
      "|          2|             8|376.64000000000004|\n",
      "|          3|            10|            528.31|\n",
      "|          4|            13| 738.9000000000001|\n",
      "|          5|            10|            579.36|\n",
      "|          7|            11|            612.85|\n",
      "|          8|            17|            930.15|\n",
      "|          9|             9|            417.51|\n",
      "|         10|            11|            496.75|\n",
      "|         11|             8|            347.21|\n",
      "|         12|             9|            597.29|\n",
      "|         14|             5|            352.39|\n",
      "|         15|            10|            365.34|\n",
      "|         16|            13|            601.15|\n",
      "|         17|            14| 644.2400000000001|\n",
      "|         18|            13|            824.56|\n",
      "|         19|             8|            487.82|\n",
      "|         20|            12|            649.73|\n",
      "|         21|             8| 280.7699999999999|\n",
      "|         22|            18|            843.65|\n",
      "+-----------+--------------+------------------+\n",
      "only showing top 20 rows\n",
      "\n"
     ]
    }
   ],
   "source": [
    "tran_no_total_byst(\"MN\")"
   ]
  },
  {
   "cell_type": "code",
   "execution_count": 446,
   "metadata": {},
   "outputs": [],
   "source": [
    "def tran_stae(state):\n",
    "    trr=spark.sql(\"SELECT \\\n",
    "                  COUNT(cc.TRANSACTION_ID) AS NO_OF_TRANS,\\\n",
    "                  SUM(cc.TRANSACTION_VALUE) AS TOTAL_VALUE \\\n",
    "                  FROM customer C \\\n",
    "                  LEFT JOIN credit_card CC c.SSN = cc.CUST_SSN \\\n",
    "                  WHERE c.CUST_STATE = '{}' \\\n",
    "                  GROUP BY cc.BRANCH_CODE\\\n",
    "                  ORDER BY cc.BRANCH_CODE\".format(state))\n",
    "    return trr"
   ]
  },
  {
   "cell_type": "code",
   "execution_count": 447,
   "metadata": {},
   "outputs": [
    {
     "ename": "ParseException",
     "evalue": "\nSyntax error at or near 'c'(line 1, pos 201)\n\n== SQL ==\nSELECT                   COUNT(cc.TRANSACTION_ID) AS NO_OF_TRANS,                  SUM(cc.TRANSACTION_VALUE) AS TOTAL_VALUE                   FROM customer C                   LEFT JOIN credit_card CC c.SSN = cc.CUST_SSN                   WHERE c.CUST_STATE = 'MN'                   GROUP BY cc.BRANCH_CODE                  ORDER BY cc.BRANCH_CODE\n---------------------------------------------------------------------------------------------------------------------------------------------------------------------------------------------------------^^^\n",
     "output_type": "error",
     "traceback": [
      "\u001b[1;31m---------------------------------------------------------------------------\u001b[0m",
      "\u001b[1;31mParseException\u001b[0m                            Traceback (most recent call last)",
      "Cell \u001b[1;32mIn[447], line 1\u001b[0m\n\u001b[1;32m----> 1\u001b[0m tmp\u001b[39m=\u001b[39mtran_stae(\u001b[39m\"\u001b[39;49m\u001b[39mMN\u001b[39;49m\u001b[39m\"\u001b[39;49m)\n",
      "Cell \u001b[1;32mIn[446], line 2\u001b[0m, in \u001b[0;36mtran_stae\u001b[1;34m(state)\u001b[0m\n\u001b[0;32m      1\u001b[0m \u001b[39mdef\u001b[39;00m \u001b[39mtran_stae\u001b[39m(state):\n\u001b[1;32m----> 2\u001b[0m     trr\u001b[39m=\u001b[39mspark\u001b[39m.\u001b[39;49msql(\u001b[39m\"\u001b[39;49m\u001b[39mSELECT \u001b[39;49m\u001b[39m\\\u001b[39;49;00m\n\u001b[0;32m      3\u001b[0m \u001b[39m                  COUNT(cc.TRANSACTION_ID) AS NO_OF_TRANS,\u001b[39;49m\u001b[39m\\\u001b[39;49;00m\n\u001b[0;32m      4\u001b[0m \u001b[39m                  SUM(cc.TRANSACTION_VALUE) AS TOTAL_VALUE \u001b[39;49m\u001b[39m\\\u001b[39;49;00m\n\u001b[0;32m      5\u001b[0m \u001b[39m                  FROM customer C \u001b[39;49m\u001b[39m\\\u001b[39;49;00m\n\u001b[0;32m      6\u001b[0m \u001b[39m                  LEFT JOIN credit_card CC c.SSN = cc.CUST_SSN \u001b[39;49m\u001b[39m\\\u001b[39;49;00m\n\u001b[0;32m      7\u001b[0m \u001b[39m                  WHERE c.CUST_STATE = \u001b[39;49m\u001b[39m'\u001b[39;49m\u001b[39m{}\u001b[39;49;00m\u001b[39m'\u001b[39;49m\u001b[39m \u001b[39;49m\u001b[39m\\\u001b[39;49;00m\n\u001b[0;32m      8\u001b[0m \u001b[39m                  GROUP BY cc.BRANCH_CODE\u001b[39;49m\u001b[39m\\\u001b[39;49;00m\n\u001b[0;32m      9\u001b[0m \u001b[39m                  ORDER BY cc.BRANCH_CODE\u001b[39;49m\u001b[39m\"\u001b[39;49m\u001b[39m.\u001b[39;49mformat(state))\n\u001b[0;32m     10\u001b[0m     \u001b[39mreturn\u001b[39;00m trr\n",
      "File \u001b[1;32mC:\\Spark\\python\\pyspark\\sql\\session.py:1034\u001b[0m, in \u001b[0;36mSparkSession.sql\u001b[1;34m(self, sqlQuery, **kwargs)\u001b[0m\n\u001b[0;32m   1032\u001b[0m     sqlQuery \u001b[39m=\u001b[39m formatter\u001b[39m.\u001b[39mformat(sqlQuery, \u001b[39m*\u001b[39m\u001b[39m*\u001b[39mkwargs)\n\u001b[0;32m   1033\u001b[0m \u001b[39mtry\u001b[39;00m:\n\u001b[1;32m-> 1034\u001b[0m     \u001b[39mreturn\u001b[39;00m DataFrame(\u001b[39mself\u001b[39;49m\u001b[39m.\u001b[39;49m_jsparkSession\u001b[39m.\u001b[39;49msql(sqlQuery), \u001b[39mself\u001b[39m)\n\u001b[0;32m   1035\u001b[0m \u001b[39mfinally\u001b[39;00m:\n\u001b[0;32m   1036\u001b[0m     \u001b[39mif\u001b[39;00m \u001b[39mlen\u001b[39m(kwargs) \u001b[39m>\u001b[39m \u001b[39m0\u001b[39m:\n",
      "File \u001b[1;32mC:\\Spark\\python\\lib\\py4j-0.10.9.5-src.zip\\py4j\\java_gateway.py:1321\u001b[0m, in \u001b[0;36mJavaMember.__call__\u001b[1;34m(self, *args)\u001b[0m\n\u001b[0;32m   1315\u001b[0m command \u001b[39m=\u001b[39m proto\u001b[39m.\u001b[39mCALL_COMMAND_NAME \u001b[39m+\u001b[39m\\\n\u001b[0;32m   1316\u001b[0m     \u001b[39mself\u001b[39m\u001b[39m.\u001b[39mcommand_header \u001b[39m+\u001b[39m\\\n\u001b[0;32m   1317\u001b[0m     args_command \u001b[39m+\u001b[39m\\\n\u001b[0;32m   1318\u001b[0m     proto\u001b[39m.\u001b[39mEND_COMMAND_PART\n\u001b[0;32m   1320\u001b[0m answer \u001b[39m=\u001b[39m \u001b[39mself\u001b[39m\u001b[39m.\u001b[39mgateway_client\u001b[39m.\u001b[39msend_command(command)\n\u001b[1;32m-> 1321\u001b[0m return_value \u001b[39m=\u001b[39m get_return_value(\n\u001b[0;32m   1322\u001b[0m     answer, \u001b[39mself\u001b[39;49m\u001b[39m.\u001b[39;49mgateway_client, \u001b[39mself\u001b[39;49m\u001b[39m.\u001b[39;49mtarget_id, \u001b[39mself\u001b[39;49m\u001b[39m.\u001b[39;49mname)\n\u001b[0;32m   1324\u001b[0m \u001b[39mfor\u001b[39;00m temp_arg \u001b[39min\u001b[39;00m temp_args:\n\u001b[0;32m   1325\u001b[0m     temp_arg\u001b[39m.\u001b[39m_detach()\n",
      "File \u001b[1;32mC:\\Spark\\python\\pyspark\\sql\\utils.py:196\u001b[0m, in \u001b[0;36mcapture_sql_exception.<locals>.deco\u001b[1;34m(*a, **kw)\u001b[0m\n\u001b[0;32m    192\u001b[0m converted \u001b[39m=\u001b[39m convert_exception(e\u001b[39m.\u001b[39mjava_exception)\n\u001b[0;32m    193\u001b[0m \u001b[39mif\u001b[39;00m \u001b[39mnot\u001b[39;00m \u001b[39misinstance\u001b[39m(converted, UnknownException):\n\u001b[0;32m    194\u001b[0m     \u001b[39m# Hide where the exception came from that shows a non-Pythonic\u001b[39;00m\n\u001b[0;32m    195\u001b[0m     \u001b[39m# JVM exception message.\u001b[39;00m\n\u001b[1;32m--> 196\u001b[0m     \u001b[39mraise\u001b[39;00m converted \u001b[39mfrom\u001b[39;00m \u001b[39mNone\u001b[39m\n\u001b[0;32m    197\u001b[0m \u001b[39melse\u001b[39;00m:\n\u001b[0;32m    198\u001b[0m     \u001b[39mraise\u001b[39;00m\n",
      "\u001b[1;31mParseException\u001b[0m: \nSyntax error at or near 'c'(line 1, pos 201)\n\n== SQL ==\nSELECT                   COUNT(cc.TRANSACTION_ID) AS NO_OF_TRANS,                  SUM(cc.TRANSACTION_VALUE) AS TOTAL_VALUE                   FROM customer C                   LEFT JOIN credit_card CC c.SSN = cc.CUST_SSN                   WHERE c.CUST_STATE = 'MN'                   GROUP BY cc.BRANCH_CODE                  ORDER BY cc.BRANCH_CODE\n---------------------------------------------------------------------------------------------------------------------------------------------------------------------------------------------------------^^^\n"
     ]
    }
   ],
   "source": [
    "tmp=tran_stae(\"MN\")"
   ]
  },
  {
   "cell_type": "code",
   "execution_count": null,
   "metadata": {},
   "outputs": [],
   "source": [
    "tmp.show()"
   ]
  },
  {
   "cell_type": "code",
   "execution_count": 431,
   "metadata": {},
   "outputs": [],
   "source": [
    "def tran_count_sum_bystate(br_state):\n",
    "    tr_state=spark.sql(\"SELECT br.*,COUNT(TRANSACTION_ID) AS NUM_OF_TRANSACTION, \\\n",
    "                        SUM(TRANSACTION_VALUE) AS TRANSACTION_TOTAL\\\n",
    "                        FROM credit_card cc\\\n",
    "                        JOIN branch br ON cc.BRANCH_CODE=br.BRANCH_CODE \\\n",
    "                        WHERE br.BRANCH_STATE = '{}' \\\n",
    "                        GROUP BY br.BRANCH_NAME\".format(br_state))\n",
    "    return tr_state"
   ]
  },
  {
   "cell_type": "code",
   "execution_count": 432,
   "metadata": {},
   "outputs": [
    {
     "ename": "AnalysisException",
     "evalue": "expression 'br.BRANCH_CODE' is neither present in the group by, nor is it an aggregate function. Add to group by or wrap in first() (or first_value) if you don't care which value you get.;\nAggregate [BRANCH_NAME#1809], [BRANCH_CODE#1808, BRANCH_NAME#1809, BRANCH_STREET#1810, BRANCH_CITY#1811, BRANCH_STATE#1812, BRANCH_ZIP#1813, BRANCH_PHONE#1814, LAST_UPDATED#1815, count(TRANSACTION_ID#1830) AS NUM_OF_TRANSACTION#7257L, sum(TRANSACTION_VALUE#1829) AS TRANSACTION_TOTAL#7258]\n+- Filter (BRANCH_STATE#1812 = MN)\n   +- Join Inner, (BRANCH_CODE#1827 = BRANCH_CODE#1808)\n      :- SubqueryAlias cc\n      :  +- SubqueryAlias credit_card\n      :     +- View (`credit_card`, [CUST_CC_NO#1824,TIMEID#1825,CUST_SSN#1826,BRANCH_CODE#1827,TRANSACTION_TYPE#1828,TRANSACTION_VALUE#1829,TRANSACTION_ID#1830])\n      :        +- Relation [CUST_CC_NO#1824,TIMEID#1825,CUST_SSN#1826,BRANCH_CODE#1827,TRANSACTION_TYPE#1828,TRANSACTION_VALUE#1829,TRANSACTION_ID#1830] JDBCRelation(creditcard_capstone.CDW_SAPP_CREDIT_CARD) [numPartitions=1]\n      +- SubqueryAlias br\n         +- SubqueryAlias branch\n            +- View (`branch`, [BRANCH_CODE#1808,BRANCH_NAME#1809,BRANCH_STREET#1810,BRANCH_CITY#1811,BRANCH_STATE#1812,BRANCH_ZIP#1813,BRANCH_PHONE#1814,LAST_UPDATED#1815])\n               +- Relation [BRANCH_CODE#1808,BRANCH_NAME#1809,BRANCH_STREET#1810,BRANCH_CITY#1811,BRANCH_STATE#1812,BRANCH_ZIP#1813,BRANCH_PHONE#1814,LAST_UPDATED#1815] JDBCRelation(creditcard_capstone.CDW_SAPP_BRANCH) [numPartitions=1]\n",
     "output_type": "error",
     "traceback": [
      "\u001b[1;31m---------------------------------------------------------------------------\u001b[0m",
      "\u001b[1;31mAnalysisException\u001b[0m                         Traceback (most recent call last)",
      "Cell \u001b[1;32mIn[432], line 1\u001b[0m\n\u001b[1;32m----> 1\u001b[0m trr\u001b[39m=\u001b[39mtran_count_sum_bystate(\u001b[39m\"\u001b[39;49m\u001b[39mMN\u001b[39;49m\u001b[39m\"\u001b[39;49m)\n",
      "Cell \u001b[1;32mIn[431], line 2\u001b[0m, in \u001b[0;36mtran_count_sum_bystate\u001b[1;34m(br_state)\u001b[0m\n\u001b[0;32m      1\u001b[0m \u001b[39mdef\u001b[39;00m \u001b[39mtran_count_sum_bystate\u001b[39m(br_state):\n\u001b[1;32m----> 2\u001b[0m     tr_state\u001b[39m=\u001b[39mspark\u001b[39m.\u001b[39;49msql(\u001b[39m\"\u001b[39;49m\u001b[39mSELECT br.*,COUNT(TRANSACTION_ID) AS NUM_OF_TRANSACTION, \u001b[39;49m\u001b[39m\\\u001b[39;49;00m\n\u001b[0;32m      3\u001b[0m \u001b[39m                        SUM(TRANSACTION_VALUE) AS TRANSACTION_TOTAL\u001b[39;49m\u001b[39m\\\u001b[39;49;00m\n\u001b[0;32m      4\u001b[0m \u001b[39m                        FROM credit_card cc\u001b[39;49m\u001b[39m\\\u001b[39;49;00m\n\u001b[0;32m      5\u001b[0m \u001b[39m                        JOIN branch br ON cc.BRANCH_CODE=br.BRANCH_CODE \u001b[39;49m\u001b[39m\\\u001b[39;49;00m\n\u001b[0;32m      6\u001b[0m \u001b[39m                        WHERE br.BRANCH_STATE = \u001b[39;49m\u001b[39m'\u001b[39;49m\u001b[39m{}\u001b[39;49;00m\u001b[39m'\u001b[39;49m\u001b[39m \u001b[39;49m\u001b[39m\\\u001b[39;49;00m\n\u001b[0;32m      7\u001b[0m \u001b[39m                        GROUP BY br.BRANCH_NAME\u001b[39;49m\u001b[39m\"\u001b[39;49m\u001b[39m.\u001b[39;49mformat(br_state))\n\u001b[0;32m      8\u001b[0m     \u001b[39mreturn\u001b[39;00m tr_state\n",
      "File \u001b[1;32mC:\\Spark\\python\\pyspark\\sql\\session.py:1034\u001b[0m, in \u001b[0;36mSparkSession.sql\u001b[1;34m(self, sqlQuery, **kwargs)\u001b[0m\n\u001b[0;32m   1032\u001b[0m     sqlQuery \u001b[39m=\u001b[39m formatter\u001b[39m.\u001b[39mformat(sqlQuery, \u001b[39m*\u001b[39m\u001b[39m*\u001b[39mkwargs)\n\u001b[0;32m   1033\u001b[0m \u001b[39mtry\u001b[39;00m:\n\u001b[1;32m-> 1034\u001b[0m     \u001b[39mreturn\u001b[39;00m DataFrame(\u001b[39mself\u001b[39;49m\u001b[39m.\u001b[39;49m_jsparkSession\u001b[39m.\u001b[39;49msql(sqlQuery), \u001b[39mself\u001b[39m)\n\u001b[0;32m   1035\u001b[0m \u001b[39mfinally\u001b[39;00m:\n\u001b[0;32m   1036\u001b[0m     \u001b[39mif\u001b[39;00m \u001b[39mlen\u001b[39m(kwargs) \u001b[39m>\u001b[39m \u001b[39m0\u001b[39m:\n",
      "File \u001b[1;32mC:\\Spark\\python\\lib\\py4j-0.10.9.5-src.zip\\py4j\\java_gateway.py:1321\u001b[0m, in \u001b[0;36mJavaMember.__call__\u001b[1;34m(self, *args)\u001b[0m\n\u001b[0;32m   1315\u001b[0m command \u001b[39m=\u001b[39m proto\u001b[39m.\u001b[39mCALL_COMMAND_NAME \u001b[39m+\u001b[39m\\\n\u001b[0;32m   1316\u001b[0m     \u001b[39mself\u001b[39m\u001b[39m.\u001b[39mcommand_header \u001b[39m+\u001b[39m\\\n\u001b[0;32m   1317\u001b[0m     args_command \u001b[39m+\u001b[39m\\\n\u001b[0;32m   1318\u001b[0m     proto\u001b[39m.\u001b[39mEND_COMMAND_PART\n\u001b[0;32m   1320\u001b[0m answer \u001b[39m=\u001b[39m \u001b[39mself\u001b[39m\u001b[39m.\u001b[39mgateway_client\u001b[39m.\u001b[39msend_command(command)\n\u001b[1;32m-> 1321\u001b[0m return_value \u001b[39m=\u001b[39m get_return_value(\n\u001b[0;32m   1322\u001b[0m     answer, \u001b[39mself\u001b[39;49m\u001b[39m.\u001b[39;49mgateway_client, \u001b[39mself\u001b[39;49m\u001b[39m.\u001b[39;49mtarget_id, \u001b[39mself\u001b[39;49m\u001b[39m.\u001b[39;49mname)\n\u001b[0;32m   1324\u001b[0m \u001b[39mfor\u001b[39;00m temp_arg \u001b[39min\u001b[39;00m temp_args:\n\u001b[0;32m   1325\u001b[0m     temp_arg\u001b[39m.\u001b[39m_detach()\n",
      "File \u001b[1;32mC:\\Spark\\python\\pyspark\\sql\\utils.py:196\u001b[0m, in \u001b[0;36mcapture_sql_exception.<locals>.deco\u001b[1;34m(*a, **kw)\u001b[0m\n\u001b[0;32m    192\u001b[0m converted \u001b[39m=\u001b[39m convert_exception(e\u001b[39m.\u001b[39mjava_exception)\n\u001b[0;32m    193\u001b[0m \u001b[39mif\u001b[39;00m \u001b[39mnot\u001b[39;00m \u001b[39misinstance\u001b[39m(converted, UnknownException):\n\u001b[0;32m    194\u001b[0m     \u001b[39m# Hide where the exception came from that shows a non-Pythonic\u001b[39;00m\n\u001b[0;32m    195\u001b[0m     \u001b[39m# JVM exception message.\u001b[39;00m\n\u001b[1;32m--> 196\u001b[0m     \u001b[39mraise\u001b[39;00m converted \u001b[39mfrom\u001b[39;00m \u001b[39mNone\u001b[39m\n\u001b[0;32m    197\u001b[0m \u001b[39melse\u001b[39;00m:\n\u001b[0;32m    198\u001b[0m     \u001b[39mraise\u001b[39;00m\n",
      "\u001b[1;31mAnalysisException\u001b[0m: expression 'br.BRANCH_CODE' is neither present in the group by, nor is it an aggregate function. Add to group by or wrap in first() (or first_value) if you don't care which value you get.;\nAggregate [BRANCH_NAME#1809], [BRANCH_CODE#1808, BRANCH_NAME#1809, BRANCH_STREET#1810, BRANCH_CITY#1811, BRANCH_STATE#1812, BRANCH_ZIP#1813, BRANCH_PHONE#1814, LAST_UPDATED#1815, count(TRANSACTION_ID#1830) AS NUM_OF_TRANSACTION#7257L, sum(TRANSACTION_VALUE#1829) AS TRANSACTION_TOTAL#7258]\n+- Filter (BRANCH_STATE#1812 = MN)\n   +- Join Inner, (BRANCH_CODE#1827 = BRANCH_CODE#1808)\n      :- SubqueryAlias cc\n      :  +- SubqueryAlias credit_card\n      :     +- View (`credit_card`, [CUST_CC_NO#1824,TIMEID#1825,CUST_SSN#1826,BRANCH_CODE#1827,TRANSACTION_TYPE#1828,TRANSACTION_VALUE#1829,TRANSACTION_ID#1830])\n      :        +- Relation [CUST_CC_NO#1824,TIMEID#1825,CUST_SSN#1826,BRANCH_CODE#1827,TRANSACTION_TYPE#1828,TRANSACTION_VALUE#1829,TRANSACTION_ID#1830] JDBCRelation(creditcard_capstone.CDW_SAPP_CREDIT_CARD) [numPartitions=1]\n      +- SubqueryAlias br\n         +- SubqueryAlias branch\n            +- View (`branch`, [BRANCH_CODE#1808,BRANCH_NAME#1809,BRANCH_STREET#1810,BRANCH_CITY#1811,BRANCH_STATE#1812,BRANCH_ZIP#1813,BRANCH_PHONE#1814,LAST_UPDATED#1815])\n               +- Relation [BRANCH_CODE#1808,BRANCH_NAME#1809,BRANCH_STREET#1810,BRANCH_CITY#1811,BRANCH_STATE#1812,BRANCH_ZIP#1813,BRANCH_PHONE#1814,LAST_UPDATED#1815] JDBCRelation(creditcard_capstone.CDW_SAPP_BRANCH) [numPartitions=1]\n"
     ]
    }
   ],
   "source": [
    "trr=tran_count_sum_bystate(\"MN\")\n"
   ]
  },
  {
   "cell_type": "code",
   "execution_count": null,
   "metadata": {},
   "outputs": [],
   "source": []
  },
  {
   "cell_type": "code",
   "execution_count": null,
   "metadata": {},
   "outputs": [],
   "source": [
    "# Used to display the number and total values of transactions for branches in a given state.\n",
    "def tran_no_total_bystate(br_state):\n",
    "    tr_state=spark.sql(\"SELECT cc.BRANCH_CODE, COUNT(cc.TRANSACTION_ID) AS NUM_OF_TRANSACTION \\\n",
    "                        SUM(cc.TRANSACTION_VALUE) AS TRANSACTION_TOTAL \\\n",
    "                        FROM customer c\\\n",
    "                        JOIN credit_card cc ON cc.BRANCH_CODE=br.BRANCH_CODE \\\n",
    "                        WHERE br.BRANCH_STATE = '{}' \\\n",
    "                        GROUP BY br.BRANCH_NAME\".format(br_state))\n",
    "    return tr_state"
   ]
  },
  {
   "cell_type": "code",
   "execution_count": null,
   "metadata": {},
   "outputs": [],
   "source": [
    "def tran2_input():\n",
    "    transaction_type=spark.sql(\"SELECT DISTINCT(TRANSACTION_TYPE) FOR CREDIT\").toPandas().tolist()"
   ]
  },
  {
   "cell_type": "code",
   "execution_count": 396,
   "metadata": {},
   "outputs": [
    {
     "name": "stdout",
     "output_type": "stream",
     "text": [
      "+----------------+------------------+------------------+\n",
      "|TRANSACTION_TYPE|NUM_OF_TRANSACTION| TOTAL_TRAN_VALUES|\n",
      "+----------------+------------------+------------------+\n",
      "|             Gas|              6605|336059.25999999954|\n",
      "+----------------+------------------+------------------+\n",
      "\n"
     ]
    }
   ],
   "source": [
    "tran_count_sum_bytype(\"Gas\")\n"
   ]
  },
  {
   "cell_type": "code",
   "execution_count": 285,
   "metadata": {},
   "outputs": [
    {
     "name": "stdout",
     "output_type": "stream",
     "text": [
      "+------------------------------+\n",
      "|day(to_date(TIMEID, yyyyMMdd))|\n",
      "+------------------------------+\n",
      "|                            10|\n",
      "|                            27|\n",
      "|                             7|\n",
      "|                            21|\n",
      "|                            20|\n",
      "|                             4|\n",
      "|                            28|\n",
      "|                             8|\n",
      "|                            21|\n",
      "|                            24|\n",
      "|                            27|\n",
      "|                             8|\n",
      "|                            22|\n",
      "|                            17|\n",
      "|                             8|\n",
      "|                            11|\n",
      "|                            25|\n",
      "|                            10|\n",
      "|                            19|\n",
      "|                             2|\n",
      "+------------------------------+\n",
      "only showing top 20 rows\n",
      "\n"
     ]
    }
   ],
   "source": [
    "spark.sql(\"select day(to_date(TIMEID,'yyyyMMdd')) from credit_card\").show()"
   ]
  },
  {
   "cell_type": "code",
   "execution_count": 199,
   "metadata": {},
   "outputs": [],
   "source": [
    "#function to get the transactions made by customers living in a given zip code for a given month and year. \n",
    "# Order by day in descending order.\n",
    "# @Dprint\n",
    "# def transaction_by_zipcode(zipcode,year,month):\n",
    "#     return spark.sql(\"SELECT * FROM credit_card cc\\\n",
    "#                   JOIN customer c ON  c.SSN=cc.CUST_SSN\\\n",
    "#                   WHERE c.CUST_ZIP = '{}' AND TIMEID LIKE CONCAT({},lpad({},2,'0'),'%')\\\n",
    "#                   ORDER BY TIMEID DESC\".format(zipcode,year,month))\n",
    "    "
   ]
  },
  {
   "cell_type": "code",
   "execution_count": 156,
   "metadata": {},
   "outputs": [],
   "source": [
    "#  #function to get the number and total values of transactions for a given type.\n",
    "# def tran_count_sum_bytype(tr_type):\n",
    "#     tr_result=spark.sql(\"SELECT COUNT(TRANSACTION_ID) AS NUM_OF_TRANSACTION, \\\n",
    "#                         SUM(TRANSACTION_VALUE) AS TOTAL_TRAN_VALUES FROM credit_card\\\n",
    "#                         WHERE TRANSACTION_TYPE='{}'\\\n",
    "#                         GROUP BY TRANSACTION_TYPE\".format(tr_type))\n",
    "#     return tr_result"
   ]
  },
  {
   "cell_type": "code",
   "execution_count": 157,
   "metadata": {},
   "outputs": [],
   "source": [
    "# tr_count_sum_df=tran_count_sum_bytype(\"Gas\")"
   ]
  },
  {
   "cell_type": "code",
   "execution_count": 303,
   "metadata": {},
   "outputs": [],
   "source": [
    "# Used to display the number and total values of transactions for branches in a given state.\n",
    "def tran_count_sum_bystate(br_state):\n",
    "    tr_state=spark.sql(\"SELECT COUNT(TRANSACTION_ID) AS NUM_OF_TRANSACTION \\\n",
    "                        SUM(TRANSACTION_VALUE) AS TRANSACTION_TOTAL \\\n",
    "                        FROM credit_card \\\n",
    "                        JOIN branch ON credit_card.BRANCH_CODE=branch.BRANCH_CODE \\\n",
    "                        WHERE branch.BRANCH_STATE = '{}' \\\n",
    "                        GROUP BY branch.BRANCH_NAME\".format(br_state))\n",
    "    return tr_state"
   ]
  },
  {
   "cell_type": "code",
   "execution_count": 304,
   "metadata": {},
   "outputs": [
    {
     "name": "stdout",
     "output_type": "stream",
     "text": [
      "+------------------+-----------------+\n",
      "|NUM_OF_TRANSACTION|TRANSACTION_TOTAL|\n",
      "+------------------+-----------------+\n",
      "|              1127|         56153.29|\n",
      "+------------------+-----------------+\n",
      "\n"
     ]
    }
   ],
   "source": [
    "tr_bystate=tran_count_sum_bystate(\"MN\")\n",
    "tr_bystate.show()"
   ]
  },
  {
   "cell_type": "code",
   "execution_count": 228,
   "metadata": {},
   "outputs": [],
   "source": [
    "#function to check the existing account details of a customer by ssn or full name, phone number and registermail.\n",
    "def cust_details(ssn,name=\" \",middlename=\"\",lastname=\"\",email=\"\",phone=\"\"):\n",
    "    return spark.sql(\"SELECT * FROM CUSTOMER \\\n",
    "               WHERE SSN = '{}' OR FIRST_NAME='{}' AND MIDDLE_NAME='{}' AND LAST_NAME='{}' \\\n",
    "                     AND CUST_EMAIL ='{}' AND CUST_PHONE = '{}' \"\\\n",
    "                    .format(ssn,name,middlename,lastname,email,phone))"
   ]
  },
  {
   "cell_type": "code",
   "execution_count": 229,
   "metadata": {},
   "outputs": [],
   "source": [
    "cust_details=cust_details(\"12\",\"Alec\",\"tracie\",\"Gilmore\",\"AGilmore@example.com\",\"(214)124-0689\")"
   ]
  },
  {
   "cell_type": "code",
   "execution_count": 230,
   "metadata": {},
   "outputs": [
    {
     "name": "stdout",
     "output_type": "stream",
     "text": [
      "+---------+----------+-----------+---------+----------------+-------------------+---------+----------+-------------+--------+-------------+--------------------+-------------------+\n",
      "|      SSN|FIRST_NAME|MIDDLE_NAME|LAST_NAME|  CREDIT_CARD_NO|FULL_STREET_ADDRESS|CUST_CITY|CUST_STATE| CUST_COUNTRY|CUST_ZIP|   CUST_PHONE|          CUST_EMAIL|       LAST_UPDATED|\n",
      "+---------+----------+-----------+---------+----------------+-------------------+---------+----------+-------------+--------+-------------+--------------------+-------------------+\n",
      "|123457511|      Alec|     tracie|  Gilmore|4210653310773972|   Forest Street,81|   Owosso|        MI|United States|   48867|(214)124-0689|AGilmore@example.com|2018-04-21 12:49:02|\n",
      "+---------+----------+-----------+---------+----------------+-------------------+---------+----------+-------------+--------+-------------+--------------------+-------------------+\n",
      "\n"
     ]
    }
   ],
   "source": [
    "cust_details.show()"
   ]
  },
  {
   "cell_type": "code",
   "execution_count": 291,
   "metadata": {},
   "outputs": [
    {
     "name": "stdout",
     "output_type": "stream",
     "text": [
      "+------------+\n",
      "|MONTHLY_BILL|\n",
      "+------------+\n",
      "|      692.45|\n",
      "+------------+\n",
      "\n"
     ]
    }
   ],
   "source": [
    "#function used to generate a monthly bill for a credit card number for a given month and year.\n",
    "cc_number=4210653342697335\n",
    "yr=2018\n",
    "month=8\n",
    "spark.sql(\"SELECT SUM(TRANSACTION_VALUE) AS MONTHLY_BILL FROM credit_card cc\\\n",
    "           JOIN customer c ON cc.CUST_CC_NO=c.CREDIT_CARD_NO \\\n",
    "           WHERE cc.CUST_CC_NO = '{}' AND MONTH(to_date(TIMEID,'yyyyMMdd')) = '{}' \\\n",
    "           AND YEAR(to_date(TIMEID,'yyyyMMdd'))='{}'\\\n",
    "           GROUP BY cc.CUST_CC_NO\".format(cc_number,month,yr)).show()"
   ]
  },
  {
   "cell_type": "code",
   "execution_count": 306,
   "metadata": {},
   "outputs": [
    {
     "name": "stdout",
     "output_type": "stream",
     "text": [
      "+------------+----------------+\n",
      "|MONTHLY_BILL|TRANSACTION_TYPE|\n",
      "+------------+----------------+\n",
      "|        3.82|       Education|\n",
      "|       74.83|         Grocery|\n",
      "|      166.22|            Test|\n",
      "|      350.72|             Gas|\n",
      "|       96.86|           Bills|\n",
      "+------------+----------------+\n",
      "\n"
     ]
    }
   ],
   "source": [
    "spark.sql(\"SELECT SUM(TRANSACTION_VALUE) AS MONTHLY_BILL,cc.TRANSACTION_TYPE FROM credit_card cc\\\n",
    "           JOIN customer c ON cc.CUST_CC_NO=c.CREDIT_CARD_NO \\\n",
    "           WHERE cc.CUST_CC_NO = '{}' AND MONTH(to_date(TIMEID,'yyyyMMdd')) = '{}' \\\n",
    "           AND YEAR(to_date(TIMEID,'yyyyMMdd'))='{}'\\\n",
    "           GROUP BY cc.TRANSACTION_TYPE\".format(cc_number,month,yr)).show()"
   ]
  },
  {
   "cell_type": "code",
   "execution_count": 332,
   "metadata": {},
   "outputs": [],
   "source": [
    "# function to display the transactions made by a customer between two dates. Order by year, month, and day in descending order.\n",
    "@Dprint\n",
    "def transaction_bet(ssn,date1,date2):\n",
    "    return spark.sql(\"SELECT * FROM credit_card \\\n",
    "                      JOIN customer ON customer.SSN=credit_card.CUST_SSN\\\n",
    "                      WHERE customer.SSN='{}' AND to_date(TIMEID,'yyyyMMdd') >= to_date('{}','yyyyMMdd') AND \\\n",
    "                      to_date(TIMEID,'yyyyMMdd') <= TO_date('{}','yyyyMMdd') \\\n",
    "                      ORDER BY YEAR(to_date(TIMEID,'yyyyMMdd')) DESC, MONTH(to_date(TIMEID,'yyyyMMdd')) DESC, \\\n",
    "                      DAY(to_date(TIMEID,'yyyyMMdd')) DESC\"\\\n",
    "                     .format(ssn,date1,date2))"
   ]
  },
  {
   "cell_type": "code",
   "execution_count": 333,
   "metadata": {},
   "outputs": [
    {
     "name": "stdout",
     "output_type": "stream",
     "text": [
      "+----------------+--------+---------+-----------+----------------+-----------------+--------------+---------+----------+-----------+---------+----------------+--------------------+---------+----------+-------------+--------+-------------+-------------------+-------------------+\n",
      "|      CUST_CC_NO|  TIMEID| CUST_SSN|BRANCH_CODE|TRANSACTION_TYPE|TRANSACTION_VALUE|TRANSACTION_ID|      SSN|FIRST_NAME|MIDDLE_NAME|LAST_NAME|  CREDIT_CARD_NO| FULL_STREET_ADDRESS|CUST_CITY|CUST_STATE| CUST_COUNTRY|CUST_ZIP|   CUST_PHONE|         CUST_EMAIL|       LAST_UPDATED|\n",
      "+----------------+--------+---------+-----------+----------------+-----------------+--------------+---------+----------+-----------+---------+----------------+--------------------+---------+----------+-------------+--------+-------------+-------------------+-------------------+\n",
      "|4210653310116272|20180321|123454487|        105|             Gas|            88.42|         28702|123454487|    Wilber|   ezequiel|   Dunham|4210653310116272|12th Street East,683|  Huntley|        IL|United States|   60142|(211)124-3018|WDunham@example.com|2018-04-21 12:49:02|\n",
      "|4210653310116272|20180320|123454487|         19|            Test|            50.15|         28699|123454487|    Wilber|   ezequiel|   Dunham|4210653310116272|12th Street East,683|  Huntley|        IL|United States|   60142|(211)124-3018|WDunham@example.com|2018-04-21 12:49:02|\n",
      "|4210653310116272|20180224|123454487|        192|            Test|            70.37|         28709|123454487|    Wilber|   ezequiel|   Dunham|4210653310116272|12th Street East,683|  Huntley|        IL|United States|   60142|(211)124-3018|WDunham@example.com|2018-04-21 12:49:02|\n",
      "|4210653310116272|20180220|123454487|         48|            Test|            62.97|         28704|123454487|    Wilber|   ezequiel|   Dunham|4210653310116272|12th Street East,683|  Huntley|        IL|United States|   60142|(211)124-3018|WDunham@example.com|2018-04-21 12:49:02|\n",
      "|4210653310116272|20180218|123454487|        118|            Test|            58.83|         28728|123454487|    Wilber|   ezequiel|   Dunham|4210653310116272|12th Street East,683|  Huntley|        IL|United States|   60142|(211)124-3018|WDunham@example.com|2018-04-21 12:49:02|\n",
      "+----------------+--------+---------+-----------+----------------+-----------------+--------------+---------+----------+-----------+---------+----------------+--------------------+---------+----------+-------------+--------+-------------+-------------------+-------------------+\n",
      "\n"
     ]
    }
   ],
   "source": [
    "transaction_bet(123454487,20180123,20180325)"
   ]
  },
  {
   "cell_type": "code",
   "execution_count": 275,
   "metadata": {},
   "outputs": [
    {
     "name": "stdout",
     "output_type": "stream",
     "text": [
      "+------------+\n",
      "|MONTHLY_BILL|\n",
      "+------------+\n",
      "|      692.45|\n",
      "+------------+\n",
      "\n"
     ]
    }
   ],
   "source": [
    "cc_number=4210653342697335\n",
    "yr=2018\n",
    "month=8\n",
    "spark.sql(\"SELECT SUM(TRANSACTION_VALUE) AS MONTHLY_BILL FROM credit_card\\\n",
    "           JOIN customer ON credit_card.CUST_CC_NO=customer.CREDIT_CARD_NO \\\n",
    "           WHERE credit_card.CUST_CC_NO = '{}' AND TIMEID LIKE CONCAT({},LPAD({},2,'0'),'%')\\\n",
    "           GROUP BY credit_card.CUST_CC_NO\".format(cc_number,yr,month)).show()"
   ]
  },
  {
   "cell_type": "code",
   "execution_count": 277,
   "metadata": {},
   "outputs": [
    {
     "name": "stdout",
     "output_type": "stream",
     "text": [
      "+------------+\n",
      "|MONTHLY_BILL|\n",
      "+------------+\n",
      "|      692.45|\n",
      "+------------+\n",
      "\n"
     ]
    }
   ],
   "source": [
    "#function used to generate a monthly bill for a credit card number for a given month and year.\n",
    "cc_number=4210653342697335\n",
    "yr=2018\n",
    "month=8\n",
    "spark.sql(\"SELECT SUM(TRANSACTION_VALUE) AS MONTHLY_BILL FROM credit_card cc\\\n",
    "           JOIN customer c ON cc.CUST_CC_NO=c.CREDIT_CARD_NO \\\n",
    "           WHERE cc.CUST_CC_NO = '{}' AND MONTH(to_date(TIMEID,'yyyyMMdd')) = '{}' \\\n",
    "           AND YEAR(to_date(TIMEID,'yyyyMMdd'))='{}'\\\n",
    "           GROUP BY cc.CUST_CC_NO\".format(cc_number,month,yr)).show()\n"
   ]
  },
  {
   "cell_type": "code",
   "execution_count": null,
   "metadata": {},
   "outputs": [],
   "source": [
    "cc_number=4210653342697335\n",
    "yr=2018\n",
    "month=8\n",
    "spark.sql(\"SELECT SUM(TRANSACTION_VALUE) AS MONTHLY_BILL\\\n",
    "          FROM credit_card \\\n",
    "          JOIN customer on credit_card.CUST_CC_NO=customer.CREDIT_CARD_NO \\\n",
    "          WHERE CUST_CC_NO = '{}' AND MONTH(to_date(TIMEID,'yyyyMMdd')) = '{}' \\\n",
    "          AND YEAR(to_date(TIMEID,'yyyyMMdd'))='{}'\\\n",
    "          GROUP BY credit_card.CREDIT_CARD_NO\".format(cc_number,month,yr)).show()"
   ]
  },
  {
   "cell_type": "code",
   "execution_count": 264,
   "metadata": {},
   "outputs": [
    {
     "name": "stdout",
     "output_type": "stream",
     "text": [
      "+-----------------+----------------+--------+\n",
      "|TRANSACTION_VALUE|TRANSACTION_TYPE|  TIMEID|\n",
      "+-----------------+----------------+--------+\n",
      "|            82.98|             Gas|20180811|\n",
      "|            67.39|            Test|20180812|\n",
      "|             3.82|       Education|20180801|\n",
      "|            28.42|             Gas|20180803|\n",
      "|            49.67|           Bills|20180825|\n",
      "|            40.06|             Gas|20180824|\n",
      "|            98.28|             Gas|20180825|\n",
      "|            98.83|            Test|20180804|\n",
      "|            74.83|         Grocery|20180809|\n",
      "|           100.98|             Gas|20180807|\n",
      "|            47.19|           Bills|20180814|\n",
      "+-----------------+----------------+--------+\n",
      "\n"
     ]
    }
   ],
   "source": [
    "cc_number=4210653342697335\n",
    "yr=2018\n",
    "month=8\n",
    "spark.sql(\"SELECT TRANSACTION_VALUE,TRANSACTION_TYPE,TIMEID FROM credit_card \\\n",
    "                      WHERE CUST_CC_NO = '{}' AND MONTH(to_date(TIMEID,'yyyyMMdd')) = '{}' \\\n",
    "           AND YEAR(to_date(TIMEID,'yyyyMMdd'))='{}'\\\n",
    "         \".format(cc_number,month,yr)).show()"
   ]
  },
  {
   "cell_type": "code",
   "execution_count": null,
   "metadata": {},
   "outputs": [],
   "source": [
    "#function used to generate a monthly bill for a credit card number for a given month and year.\n",
    "def generate_monthly_bill(cc_number,year,month):\n",
    "    return spark.sql(\"SELECT SUM(TRANSACTION_VALUE) FROM credit_card \\\n",
    "                      WHERE CUST_CC_NO = '{}' AND MONTH(to_date(TIMEID,'yyyyMMdd')) = '{}' AND YEAR(to_date(TIMEID,'yyyyMMdd'))='{}'\")\n",
    "\n"
   ]
  },
  {
   "cell_type": "code",
   "execution_count": 322,
   "metadata": {},
   "outputs": [
    {
     "name": "stdout",
     "output_type": "stream",
     "text": [
      "+----------------+--------+---------+-----------+----------------+-----------------+--------------+---------+----------+-----------+---------+----------------+--------------------+---------+----------+-------------+--------+-------------+-------------------+-------------------+\n",
      "|      CUST_CC_NO|  TIMEID| CUST_SSN|BRANCH_CODE|TRANSACTION_TYPE|TRANSACTION_VALUE|TRANSACTION_ID|      SSN|FIRST_NAME|MIDDLE_NAME|LAST_NAME|  CREDIT_CARD_NO| FULL_STREET_ADDRESS|CUST_CITY|CUST_STATE| CUST_COUNTRY|CUST_ZIP|   CUST_PHONE|         CUST_EMAIL|       LAST_UPDATED|\n",
      "+----------------+--------+---------+-----------+----------------+-----------------+--------------+---------+----------+-----------+---------+----------------+--------------------+---------+----------+-------------+--------+-------------+-------------------+-------------------+\n",
      "|4210653310116272|20180321|123454487|        105|             Gas|            88.42|         28702|123454487|    Wilber|   ezequiel|   Dunham|4210653310116272|12th Street East,683|  Huntley|        IL|United States|   60142|(211)124-3018|WDunham@example.com|2018-04-21 12:49:02|\n",
      "|4210653310116272|20180320|123454487|         19|            Test|            50.15|         28699|123454487|    Wilber|   ezequiel|   Dunham|4210653310116272|12th Street East,683|  Huntley|        IL|United States|   60142|(211)124-3018|WDunham@example.com|2018-04-21 12:49:02|\n",
      "|4210653310116272|20180224|123454487|        192|            Test|            70.37|         28709|123454487|    Wilber|   ezequiel|   Dunham|4210653310116272|12th Street East,683|  Huntley|        IL|United States|   60142|(211)124-3018|WDunham@example.com|2018-04-21 12:49:02|\n",
      "|4210653310116272|20180220|123454487|         48|            Test|            62.97|         28704|123454487|    Wilber|   ezequiel|   Dunham|4210653310116272|12th Street East,683|  Huntley|        IL|United States|   60142|(211)124-3018|WDunham@example.com|2018-04-21 12:49:02|\n",
      "|4210653310116272|20180218|123454487|        118|            Test|            58.83|         28728|123454487|    Wilber|   ezequiel|   Dunham|4210653310116272|12th Street East,683|  Huntley|        IL|United States|   60142|(211)124-3018|WDunham@example.com|2018-04-21 12:49:02|\n",
      "+----------------+--------+---------+-----------+----------------+-----------------+--------------+---------+----------+-----------+---------+----------------+--------------------+---------+----------+-------------+--------+-------------+-------------------+-------------------+\n",
      "\n"
     ]
    }
   ],
   "source": [
    "# function to display the transactions made by a customer between two dates. Order by year, month, and day in descending order.\n",
    "date1=20180123\n",
    "date2=20180325\n",
    "ssn=123454487\n",
    "# def transaction_bet(ssn,date1,date2):\n",
    "spark.sql(\"SELECT * FROM credit_card \\\n",
    "          JOIN customer ON customer.SSN=credit_card.CUST_SSN\\\n",
    "          WHERE customer.SSN='{}' AND to_date(TIMEID,'yyyyMMdd') >= to_date('{}','yyyyMMdd') AND \\\n",
    "          to_date(TIMEID,'yyyyMMdd') <= TO_date('{}','yyyyMMdd') \\\n",
    "          ORDER BY YEAR(to_date(TIMEID,'yyyyMMdd')) DESC, MONTH(to_date(TIMEID,'yyyyMMdd')) DESC, DAY(to_date(TIMEID,'yyyyMMdd')) DESC\"\\\n",
    "          .format(ssn,date1,date2)).show()"
   ]
  },
  {
   "cell_type": "code",
   "execution_count": 318,
   "metadata": {},
   "outputs": [
    {
     "name": "stdout",
     "output_type": "stream",
     "text": [
      "+---------------------------+\n",
      "|to_date(20180823, yyyyMMdd)|\n",
      "+---------------------------+\n",
      "|                 2018-08-23|\n",
      "+---------------------------+\n",
      "\n"
     ]
    }
   ],
   "source": [
    "spark.sql(\"select to_date(20180823,'yyyyMMdd') \").show()"
   ]
  },
  {
   "cell_type": "code",
   "execution_count": null,
   "metadata": {},
   "outputs": [],
   "source": [
    "def main_menu():\n",
    "    print(\"--Main Menu--\")\n",
    "    print(\"Please select from the following options:\")\n",
    "    print('1 - View Trannsaction')\n",
    "    print('2 - View/Edit Customer data')\n",
    "    print('0 - exit')\n",
    "    choice=input(\"Choice : \")\n",
    "    return choice\n",
    "\n",
    "def console_input(menu_choice):\n",
    "    while menu_choice!='0':\n",
    "        match menu_choice:\n",
    "            case \"1\":\n",
    "                t_choice=transaction_menu()\n",
    "                transaction_requiremnt(t_choice)\n",
    "                menu_choice=main_menu()\n",
    "\n",
    "            case \"2\":\n",
    "                cust_choice=customer_menu()\n",
    "                custmer_requirement(cust_choice)\n",
    "                menu_choice=main_menu()\n",
    "\n",
    "            case \"0\":\n",
    "                return 0\n",
    "            \n",
    "            case _:\n",
    "                print(\"Invalid choice, please select valid option from the menu\")\n",
    "                menu_choice=main_menu()\n",
    "\n",
    "def transaction_menu():\n",
    "    print(\"\\n\")\n",
    "    print(\"--Transaction Menu--\")\n",
    "    print(\"please select option to display total transaction from the follwing menu :\")\n",
    "    print(\"1 :  Transactions made by customers living in a given zip code for a given month and year\")\n",
    "    print(\"2 :  Number and Total values of transactions for a given type.\")\n",
    "    print(\"3 :  Number and Total values of transactions for branches in a given state\")\n",
    "    print(\"0 :  Return to Main Menu\")\n",
    "    choice=input(\"Choice : \")\n",
    "    return choice\n",
    "\n",
    "def transaction_requirement(t_choice):\n",
    "    while t_choice!='0':\n",
    "        match t_choice:\n",
    "            case '1':\n",
    "                tran_option1_input():\n",
    "                \n",
    "\n",
    "    \n"
   ]
  },
  {
   "cell_type": "code",
   "execution_count": 350,
   "metadata": {},
   "outputs": [
    {
     "name": "stdout",
     "output_type": "stream",
     "text": [
      "Please enter 4-5 digit zipcode for ex :(60142)\n",
      "Enter month in the format MM :\n",
      "For example, January would be input as 01, February as 02,etc\n",
      "Enter year in the format YYYY :\n",
      "Please enter 4-5 digit zipcode for ex :(60142)\n",
      "Enter month in the format MM :\n",
      "For example, January would be input as 01, February as 02,etc\n",
      "Enter year in the format YYYY :\n",
      "Please enter 4-5 digit zipcode for ex :(60142)\n",
      "Enter month in the format MM :\n",
      "For example, January would be input as 01, February as 02,etc\n",
      "Enter year in the format YYYY :\n"
     ]
    }
   ],
   "source": [
    "def tran_option1_input():\n",
    "    flag=0\n",
    "    while(flag == 0):\n",
    "        print(\"Please enter 4-5 digit zipcode for ex :(60142)\")\n",
    "        zipcode = input(\"Enter a zipcode: \")\n",
    "        print(\"Enter month in the format MM :\")\n",
    "        print(\"For example, January would be input as 01, February as 02,etc\")\n",
    "        month= input(\"Enter a month: \")\n",
    "        print(\"Enter year in the format YYYY :\")\n",
    "        year=input(\"Enter Year :\")\n",
    "        if (zipcode.isdigit() and len(zipcode)> 3) and (month.isdigit() and len(month) < 3) and (year.isdigit() and len(year)==4):\n",
    "            flag=1\n",
    "            return(zipcode,month,year)\n",
    "            break\n",
    "\n",
    "zipcode,month,year=tran_option1_input()"
   ]
  },
  {
   "cell_type": "code",
   "execution_count": 351,
   "metadata": {},
   "outputs": [
    {
     "name": "stdout",
     "output_type": "stream",
     "text": [
      "19034 12 1973\n"
     ]
    }
   ],
   "source": [
    "print(zipcode,month,year)"
   ]
  }
 ],
 "metadata": {
  "kernelspec": {
   "display_name": "Python 3",
   "language": "python",
   "name": "python3"
  },
  "language_info": {
   "codemirror_mode": {
    "name": "ipython",
    "version": 3
   },
   "file_extension": ".py",
   "mimetype": "text/x-python",
   "name": "python",
   "nbconvert_exporter": "python",
   "pygments_lexer": "ipython3",
   "version": "3.10.10"
  },
  "orig_nbformat": 4,
  "vscode": {
   "interpreter": {
    "hash": "81670ad8e0995f2fc822a82a83fa48c446caeae6dd5f3df703a08b177af58590"
   }
  }
 },
 "nbformat": 4,
 "nbformat_minor": 2
}
