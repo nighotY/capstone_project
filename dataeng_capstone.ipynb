{
 "cells": [
  {
   "attachments": {},
   "cell_type": "markdown",
   "metadata": {},
   "source": [
    "# Business Requirements - ETL  "
   ]
  },
  {
   "attachments": {},
   "cell_type": "markdown",
   "metadata": {},
   "source": [
    "### 1. Functional Requirements - Load Credit Card Database (SQL)"
   ]
  },
  {
   "attachments": {},
   "cell_type": "markdown",
   "metadata": {},
   "source": [
    "Req-1.1 Data Extraction and Transformation with Python and PySpark"
   ]
  },
  {
   "attachments": {},
   "cell_type": "markdown",
   "metadata": {},
   "source": [
    "For “Credit Card System,” create a Python and PySpark SQL program to read/extract the following JSON files    \n",
    "        according to the specifications found in the mapping document.\n",
    "\n",
    "        1. CDW_SAPP_BRANCH.JSON\n",
    "        2. CDW_SAPP_CREDITCARD.JSON\n",
    "        3. CDW_SAPP_CUSTOMER.JSON       \n"
   ]
  },
  {
   "cell_type": "code",
   "execution_count": 403,
   "metadata": {},
   "outputs": [],
   "source": [
    "import findspark\n",
    "findspark.init()\n",
    "import pyspark\n",
    "from pyspark.sql import SparkSession\n",
    "from pyspark.sql.functions import *\n",
    "from dotenv import load_dotenv\n",
    "import os\n",
    "import pandas as pd "
   ]
  },
  {
   "cell_type": "code",
   "execution_count": 44,
   "metadata": {},
   "outputs": [],
   "source": [
    "#create spark session\n",
    "spark = SparkSession.builder.master(\"local[*]\").appName(\"Capstone\").getOrCreate()"
   ]
  },
  {
   "cell_type": "code",
   "execution_count": 45,
   "metadata": {},
   "outputs": [],
   "source": [
    "#load/read cdw_sapp_custmer.json file into spark dataframe \n",
    "customer_df=spark.read.load(\"creditcard_system_data/cdw_sapp_custmer.json\",format=\"json\")"
   ]
  },
  {
   "cell_type": "code",
   "execution_count": 46,
   "metadata": {},
   "outputs": [
    {
     "name": "stdout",
     "output_type": "stream",
     "text": [
      "+------+----------------+------------+-------------+-------------------+----------+----------+--------+----------+---------+-----------------------------+-----------+---------+-----------------+\n",
      "|APT_NO|CREDIT_CARD_NO  |CUST_CITY   |CUST_COUNTRY |CUST_EMAIL         |CUST_PHONE|CUST_STATE|CUST_ZIP|FIRST_NAME|LAST_NAME|LAST_UPDATED                 |MIDDLE_NAME|SSN      |STREET_NAME      |\n",
      "+------+----------------+------------+-------------+-------------------+----------+----------+--------+----------+---------+-----------------------------+-----------+---------+-----------------+\n",
      "|656   |4210653310061055|Natchez     |United States|AHooper@example.com|1237818   |MS        |39120   |Alec      |Hooper   |2018-04-21T12:49:02.000-04:00|Wm         |123456100|Main Street North|\n",
      "|829   |4210653310102868|Wethersfield|United States|EHolman@example.com|1238933   |CT        |06109   |Etta      |Holman   |2018-04-21T12:49:02.000-04:00|Brendan    |123453023|Redwood Drive    |\n",
      "|683   |4210653310116272|Huntley     |United States|WDunham@example.com|1243018   |IL        |60142   |Wilber    |Dunham   |2018-04-21T12:49:02.000-04:00|Ezequiel   |123454487|12th Street East |\n",
      "|253   |4210653310195948|NewBerlin   |United States|EHardy@example.com |1243215   |WI        |53151   |Eugenio   |Hardy    |2018-04-21T12:49:02.000-04:00|Trina      |123459758|Country Club Road|\n",
      "|301   |4210653310356919|ElPaso      |United States|WAyers@example.com |1242074   |TX        |79930   |Wilfred   |Ayers    |2018-04-21T12:49:02.000-04:00|May        |123454431|Madison Street   |\n",
      "+------+----------------+------------+-------------+-------------------+----------+----------+--------+----------+---------+-----------------------------+-----------+---------+-----------------+\n",
      "only showing top 5 rows\n",
      "\n"
     ]
    }
   ],
   "source": [
    "#show first five records from the customer dataframe\n",
    "customer_df.show(5,truncate=False)"
   ]
  },
  {
   "cell_type": "code",
   "execution_count": 47,
   "metadata": {},
   "outputs": [
    {
     "name": "stdout",
     "output_type": "stream",
     "text": [
      "root\n",
      " |-- APT_NO: string (nullable = true)\n",
      " |-- CREDIT_CARD_NO: string (nullable = true)\n",
      " |-- CUST_CITY: string (nullable = true)\n",
      " |-- CUST_COUNTRY: string (nullable = true)\n",
      " |-- CUST_EMAIL: string (nullable = true)\n",
      " |-- CUST_PHONE: long (nullable = true)\n",
      " |-- CUST_STATE: string (nullable = true)\n",
      " |-- CUST_ZIP: string (nullable = true)\n",
      " |-- FIRST_NAME: string (nullable = true)\n",
      " |-- LAST_NAME: string (nullable = true)\n",
      " |-- LAST_UPDATED: string (nullable = true)\n",
      " |-- MIDDLE_NAME: string (nullable = true)\n",
      " |-- SSN: long (nullable = true)\n",
      " |-- STREET_NAME: string (nullable = true)\n",
      "\n"
     ]
    }
   ],
   "source": [
    "#print schema of the dataset\n",
    "customer_df.printSchema()"
   ]
  },
  {
   "cell_type": "code",
   "execution_count": 48,
   "metadata": {},
   "outputs": [],
   "source": [
    "#temporary table view of the custmer dataframe\n",
    "customer_df.createOrReplaceTempView(\"customer\")"
   ]
  },
  {
   "cell_type": "code",
   "execution_count": 51,
   "metadata": {},
   "outputs": [],
   "source": [
    "#trnasform data as per mapping document\n",
    "transform_customer_df=spark.sql(\"SELECT CAST(SSN AS INT) AS SSN,\\\n",
    "                            CONCAT(UPPER(SUBSTR(FIRST_NAME,1,1)),LOWER(substr(FIRST_NAME,2))) AS FIRST_NAME, \\\n",
    "                            CONCAT(LOWER(MIDDLE_NAME)) MIDDLE_NAME, \\\n",
    "                            CONCAT(UPPER(substr(LAST_NAME,1,1)),LOWER(substr(LAST_NAME,2))) AS LAST_NAME, \\\n",
    "                            CREDIT_CARD_NO,\\\n",
    "                            CONCAT(STREET_NAME, ',' ,APT_NO) AS FULL_STREET_ADDRESS, \\\n",
    "                            CUST_CITY, \\\n",
    "                            CUST_STATE, \\\n",
    "                            CUST_COUNTRY,\\\n",
    "                            CAST(CUST_ZIP AS INT) AS CUST_ZIP, \\\n",
    "                            CONCAT('(',LEFT(RAND()*100+201,3),')',SUBSTR(CUST_PHONE,1,3),'-',SUBSTR(CUST_PHONE,4)) AS CUST_PHONE, \\\n",
    "                            CUST_EMAIL,\\\n",
    "                            CAST(LAST_UPDATED AS TIMESTAMP) AS LAST_UPDATED\\\n",
    "                            FROM customer\")\n"
   ]
  },
  {
   "cell_type": "code",
   "execution_count": 52,
   "metadata": {},
   "outputs": [
    {
     "name": "stdout",
     "output_type": "stream",
     "text": [
      "+---------+----------+-----------+---------+----------------+---------------------+------------+----------+-------------+--------+-------------+-------------------+-------------------+\n",
      "|SSN      |FIRST_NAME|MIDDLE_NAME|LAST_NAME|CREDIT_CARD_NO  |FULL_STREET_ADDRESS  |CUST_CITY   |CUST_STATE|CUST_COUNTRY |CUST_ZIP|CUST_PHONE   |CUST_EMAIL         |LAST_UPDATED       |\n",
      "+---------+----------+-----------+---------+----------------+---------------------+------------+----------+-------------+--------+-------------+-------------------+-------------------+\n",
      "|123456100|Alec      |wm         |Hooper   |4210653310061055|Main Street North,656|Natchez     |MS        |United States|39120   |(208)123-7818|AHooper@example.com|2018-04-21 12:49:02|\n",
      "|123453023|Etta      |brendan    |Holman   |4210653310102868|Redwood Drive,829    |Wethersfield|CT        |United States|6109    |(243)123-8933|EHolman@example.com|2018-04-21 12:49:02|\n",
      "|123454487|Wilber    |ezequiel   |Dunham   |4210653310116272|12th Street East,683 |Huntley     |IL        |United States|60142   |(211)124-3018|WDunham@example.com|2018-04-21 12:49:02|\n",
      "|123459758|Eugenio   |trina      |Hardy    |4210653310195948|Country Club Road,253|NewBerlin   |WI        |United States|53151   |(201)124-3215|EHardy@example.com |2018-04-21 12:49:02|\n",
      "|123454431|Wilfred   |may        |Ayers    |4210653310356919|Madison Street,301   |ElPaso      |TX        |United States|79930   |(245)124-2074|WAyers@example.com |2018-04-21 12:49:02|\n",
      "+---------+----------+-----------+---------+----------------+---------------------+------------+----------+-------------+--------+-------------+-------------------+-------------------+\n",
      "only showing top 5 rows\n",
      "\n"
     ]
    }
   ],
   "source": [
    "#show first 5 records from the transform customer dataframe\n",
    "transform_customer_df.show(5,truncate=False)"
   ]
  },
  {
   "cell_type": "code",
   "execution_count": 53,
   "metadata": {},
   "outputs": [
    {
     "name": "stdout",
     "output_type": "stream",
     "text": [
      "root\n",
      " |-- SSN: integer (nullable = true)\n",
      " |-- FIRST_NAME: string (nullable = true)\n",
      " |-- MIDDLE_NAME: string (nullable = true)\n",
      " |-- LAST_NAME: string (nullable = true)\n",
      " |-- CREDIT_CARD_NO: string (nullable = true)\n",
      " |-- FULL_STREET_ADDRESS: string (nullable = true)\n",
      " |-- CUST_CITY: string (nullable = true)\n",
      " |-- CUST_STATE: string (nullable = true)\n",
      " |-- CUST_COUNTRY: string (nullable = true)\n",
      " |-- CUST_ZIP: integer (nullable = true)\n",
      " |-- CUST_PHONE: string (nullable = true)\n",
      " |-- CUST_EMAIL: string (nullable = true)\n",
      " |-- LAST_UPDATED: timestamp (nullable = true)\n",
      "\n"
     ]
    }
   ],
   "source": [
    "#printschema of transform cutomer dataframe\n",
    "transform_customer_df.printSchema()"
   ]
  },
  {
   "cell_type": "code",
   "execution_count": 54,
   "metadata": {},
   "outputs": [],
   "source": [
    "#read/load cdw_sapp_branch.json file into spark branch dataframe\n",
    "branch_df=spark.read.load(\"creditcard_system_data/cdw_sapp_branch.json\",format=\"json\")"
   ]
  },
  {
   "cell_type": "code",
   "execution_count": 55,
   "metadata": {},
   "outputs": [
    {
     "name": "stdout",
     "output_type": "stream",
     "text": [
      "+-----------------+-----------+------------+------------+------------+-----------------+----------+-----------------------------+\n",
      "|BRANCH_CITY      |BRANCH_CODE|BRANCH_NAME |BRANCH_PHONE|BRANCH_STATE|BRANCH_STREET    |BRANCH_ZIP|LAST_UPDATED                 |\n",
      "+-----------------+-----------+------------+------------+------------+-----------------+----------+-----------------------------+\n",
      "|Lakeville        |1          |Example Bank|1234565276  |MN          |Bridle Court     |55044     |2018-04-18T16:51:47.000-04:00|\n",
      "|Huntley          |2          |Example Bank|1234618993  |IL          |Washington Street|60142     |2018-04-18T16:51:47.000-04:00|\n",
      "|SouthRichmondHill|3          |Example Bank|1234985926  |NY          |Warren Street    |11419     |2018-04-18T16:51:47.000-04:00|\n",
      "|Middleburg       |4          |Example Bank|1234663064  |FL          |Cleveland Street |32068     |2018-04-18T16:51:47.000-04:00|\n",
      "+-----------------+-----------+------------+------------+------------+-----------------+----------+-----------------------------+\n",
      "only showing top 4 rows\n",
      "\n"
     ]
    }
   ],
   "source": [
    "#show first five record from branch dataframe\n",
    "branch_df.show(4,truncate=False)"
   ]
  },
  {
   "cell_type": "code",
   "execution_count": 56,
   "metadata": {},
   "outputs": [
    {
     "name": "stdout",
     "output_type": "stream",
     "text": [
      "root\n",
      " |-- BRANCH_CITY: string (nullable = true)\n",
      " |-- BRANCH_CODE: long (nullable = true)\n",
      " |-- BRANCH_NAME: string (nullable = true)\n",
      " |-- BRANCH_PHONE: string (nullable = true)\n",
      " |-- BRANCH_STATE: string (nullable = true)\n",
      " |-- BRANCH_STREET: string (nullable = true)\n",
      " |-- BRANCH_ZIP: long (nullable = true)\n",
      " |-- LAST_UPDATED: string (nullable = true)\n",
      "\n"
     ]
    }
   ],
   "source": [
    "#print schema of brach dataframe\n",
    "branch_df.printSchema()"
   ]
  },
  {
   "cell_type": "code",
   "execution_count": 73,
   "metadata": {},
   "outputs": [],
   "source": [
    "#transformed branch dataframe according to the mapping document\n",
    "transform_branch_df=branch_df.select(col(\"BRANCH_CODE\").astype('int').alias('BRANCH_CODE'),\\\n",
    "                 col(\"BRANCH_NAME\"),\\\n",
    "                 col(\"BRANCH_STREET\"), \\\n",
    "                 col(\"BRANCH_CITY\"),\\\n",
    "                 col(\"BRANCH_STATE\"), \\\n",
    "                 when(col(\"BRANCH_ZIP\").isNull(),'99999').otherwise(col(\"BRANCH_ZIP\")).astype('int').alias('BRANCH_ZIP'),\\\n",
    "                 (concat( lit(\"(\") ,substring(col(\"BRANCH_PHONE\"),1,3),lit(\")\") ,substring(col(\"BRANCH_PHONE\"),4,3), \\\n",
    "                          lit(\"-\") ,substring(col(\"BRANCH_PHONE\"),7,4) )).alias(\"BRANCH_PHONE\"),\\\n",
    "                 to_timestamp(col(\"LAST_UPDATED\")).alias(\"LAST_UPDATED\")\n",
    "                )"
   ]
  },
  {
   "cell_type": "code",
   "execution_count": 74,
   "metadata": {},
   "outputs": [
    {
     "name": "stdout",
     "output_type": "stream",
     "text": [
      "root\n",
      " |-- BRANCH_CODE: integer (nullable = true)\n",
      " |-- BRANCH_NAME: string (nullable = true)\n",
      " |-- BRANCH_STREET: string (nullable = true)\n",
      " |-- BRANCH_CITY: string (nullable = true)\n",
      " |-- BRANCH_STATE: string (nullable = true)\n",
      " |-- BRANCH_ZIP: integer (nullable = true)\n",
      " |-- BRANCH_PHONE: string (nullable = true)\n",
      " |-- LAST_UPDATED: timestamp (nullable = true)\n",
      "\n"
     ]
    }
   ],
   "source": [
    "#print schema of transformed branch dataframe\n",
    "transform_branch_df.printSchema()"
   ]
  },
  {
   "cell_type": "code",
   "execution_count": 75,
   "metadata": {},
   "outputs": [
    {
     "name": "stdout",
     "output_type": "stream",
     "text": [
      "+-----------+------------+-----------------+-----------------+------------+----------+-------------+-------------------+\n",
      "|BRANCH_CODE| BRANCH_NAME|    BRANCH_STREET|      BRANCH_CITY|BRANCH_STATE|BRANCH_ZIP| BRANCH_PHONE|       LAST_UPDATED|\n",
      "+-----------+------------+-----------------+-----------------+------------+----------+-------------+-------------------+\n",
      "|          1|Example Bank|     Bridle Court|        Lakeville|          MN|     55044|(123)456-5276|2018-04-18 16:51:47|\n",
      "|          2|Example Bank|Washington Street|          Huntley|          IL|     60142|(123)461-8993|2018-04-18 16:51:47|\n",
      "|          3|Example Bank|    Warren Street|SouthRichmondHill|          NY|     11419|(123)498-5926|2018-04-18 16:51:47|\n",
      "|          4|Example Bank| Cleveland Street|       Middleburg|          FL|     32068|(123)466-3064|2018-04-18 16:51:47|\n",
      "|          5|Example Bank|      14th Street|    KingOfPrussia|          PA|     19406|(123)484-9701|2018-04-18 16:51:47|\n",
      "+-----------+------------+-----------------+-----------------+------------+----------+-------------+-------------------+\n",
      "only showing top 5 rows\n",
      "\n"
     ]
    }
   ],
   "source": [
    "#show first five records from transformed dataframe\n",
    "transform_branch_df.show(5,truncate=True)"
   ]
  },
  {
   "cell_type": "code",
   "execution_count": 76,
   "metadata": {},
   "outputs": [],
   "source": [
    "#read/load cdw_sapp_credit.json file into pandas credit dataframe\n",
    "credit_df=spark.read.load(\"creditcard_system_data/cdw_sapp_credit.json\",format=\"json\").toPandas()"
   ]
  },
  {
   "cell_type": "code",
   "execution_count": 77,
   "metadata": {},
   "outputs": [
    {
     "data": {
      "text/html": [
       "<div>\n",
       "<style scoped>\n",
       "    .dataframe tbody tr th:only-of-type {\n",
       "        vertical-align: middle;\n",
       "    }\n",
       "\n",
       "    .dataframe tbody tr th {\n",
       "        vertical-align: top;\n",
       "    }\n",
       "\n",
       "    .dataframe thead th {\n",
       "        text-align: right;\n",
       "    }\n",
       "</style>\n",
       "<table border=\"1\" class=\"dataframe\">\n",
       "  <thead>\n",
       "    <tr style=\"text-align: right;\">\n",
       "      <th></th>\n",
       "      <th>BRANCH_CODE</th>\n",
       "      <th>CREDIT_CARD_NO</th>\n",
       "      <th>CUST_SSN</th>\n",
       "      <th>DAY</th>\n",
       "      <th>MONTH</th>\n",
       "      <th>TRANSACTION_ID</th>\n",
       "      <th>TRANSACTION_TYPE</th>\n",
       "      <th>TRANSACTION_VALUE</th>\n",
       "      <th>YEAR</th>\n",
       "    </tr>\n",
       "  </thead>\n",
       "  <tbody>\n",
       "    <tr>\n",
       "      <th>0</th>\n",
       "      <td>114</td>\n",
       "      <td>4210653349028689</td>\n",
       "      <td>123459988</td>\n",
       "      <td>14</td>\n",
       "      <td>2</td>\n",
       "      <td>1</td>\n",
       "      <td>Education</td>\n",
       "      <td>78.90</td>\n",
       "      <td>2018</td>\n",
       "    </tr>\n",
       "    <tr>\n",
       "      <th>1</th>\n",
       "      <td>35</td>\n",
       "      <td>4210653349028689</td>\n",
       "      <td>123459988</td>\n",
       "      <td>20</td>\n",
       "      <td>3</td>\n",
       "      <td>2</td>\n",
       "      <td>Entertainment</td>\n",
       "      <td>14.24</td>\n",
       "      <td>2018</td>\n",
       "    </tr>\n",
       "    <tr>\n",
       "      <th>2</th>\n",
       "      <td>160</td>\n",
       "      <td>4210653349028689</td>\n",
       "      <td>123459988</td>\n",
       "      <td>8</td>\n",
       "      <td>7</td>\n",
       "      <td>3</td>\n",
       "      <td>Grocery</td>\n",
       "      <td>56.70</td>\n",
       "      <td>2018</td>\n",
       "    </tr>\n",
       "    <tr>\n",
       "      <th>3</th>\n",
       "      <td>114</td>\n",
       "      <td>4210653349028689</td>\n",
       "      <td>123459988</td>\n",
       "      <td>19</td>\n",
       "      <td>4</td>\n",
       "      <td>4</td>\n",
       "      <td>Entertainment</td>\n",
       "      <td>59.73</td>\n",
       "      <td>2018</td>\n",
       "    </tr>\n",
       "    <tr>\n",
       "      <th>4</th>\n",
       "      <td>93</td>\n",
       "      <td>4210653349028689</td>\n",
       "      <td>123459988</td>\n",
       "      <td>10</td>\n",
       "      <td>10</td>\n",
       "      <td>5</td>\n",
       "      <td>Gas</td>\n",
       "      <td>3.59</td>\n",
       "      <td>2018</td>\n",
       "    </tr>\n",
       "  </tbody>\n",
       "</table>\n",
       "</div>"
      ],
      "text/plain": [
       "   BRANCH_CODE    CREDIT_CARD_NO   CUST_SSN  DAY  MONTH  TRANSACTION_ID  \\\n",
       "0          114  4210653349028689  123459988   14      2               1   \n",
       "1           35  4210653349028689  123459988   20      3               2   \n",
       "2          160  4210653349028689  123459988    8      7               3   \n",
       "3          114  4210653349028689  123459988   19      4               4   \n",
       "4           93  4210653349028689  123459988   10     10               5   \n",
       "\n",
       "  TRANSACTION_TYPE  TRANSACTION_VALUE  YEAR  \n",
       "0        Education              78.90  2018  \n",
       "1    Entertainment              14.24  2018  \n",
       "2          Grocery              56.70  2018  \n",
       "3    Entertainment              59.73  2018  \n",
       "4              Gas               3.59  2018  "
      ]
     },
     "execution_count": 77,
     "metadata": {},
     "output_type": "execute_result"
    }
   ],
   "source": [
    "#first five records from credit dataframe\n",
    "credit_df.head(5)"
   ]
  },
  {
   "cell_type": "code",
   "execution_count": 78,
   "metadata": {},
   "outputs": [
    {
     "data": {
      "text/plain": [
       "BRANCH_CODE            int64\n",
       "CREDIT_CARD_NO        object\n",
       "CUST_SSN               int64\n",
       "DAY                    int64\n",
       "MONTH                  int64\n",
       "TRANSACTION_ID         int64\n",
       "TRANSACTION_TYPE      object\n",
       "TRANSACTION_VALUE    float64\n",
       "YEAR                   int64\n",
       "dtype: object"
      ]
     },
     "execution_count": 78,
     "metadata": {},
     "output_type": "execute_result"
    }
   ],
   "source": [
    "#datatypes of credit dataset\n",
    "credit_df.dtypes"
   ]
  },
  {
   "cell_type": "code",
   "execution_count": 79,
   "metadata": {},
   "outputs": [],
   "source": [
    "#transform credit dataframe according to mapping document\n",
    "credit_df['MONTH']=credit_df['MONTH'].astype(str).str.zfill(2)\n",
    "credit_df['DAY']=credit_df['DAY'].astype(str).str.zfill(2)\n",
    "credit_df[\"TIMEID\"]=credit_df['YEAR'].astype(str)+ \\\n",
    "                    credit_df['MONTH'] + credit_df['DAY']\n",
    "credit_df.rename(columns={'CREDIT_CARD_NO':'CUST_CC_NO'},inplace=True)"
   ]
  },
  {
   "cell_type": "code",
   "execution_count": 80,
   "metadata": {},
   "outputs": [
    {
     "data": {
      "text/html": [
       "<div>\n",
       "<style scoped>\n",
       "    .dataframe tbody tr th:only-of-type {\n",
       "        vertical-align: middle;\n",
       "    }\n",
       "\n",
       "    .dataframe tbody tr th {\n",
       "        vertical-align: top;\n",
       "    }\n",
       "\n",
       "    .dataframe thead th {\n",
       "        text-align: right;\n",
       "    }\n",
       "</style>\n",
       "<table border=\"1\" class=\"dataframe\">\n",
       "  <thead>\n",
       "    <tr style=\"text-align: right;\">\n",
       "      <th></th>\n",
       "      <th>BRANCH_CODE</th>\n",
       "      <th>CUST_CC_NO</th>\n",
       "      <th>CUST_SSN</th>\n",
       "      <th>DAY</th>\n",
       "      <th>MONTH</th>\n",
       "      <th>TRANSACTION_ID</th>\n",
       "      <th>TRANSACTION_TYPE</th>\n",
       "      <th>TRANSACTION_VALUE</th>\n",
       "      <th>YEAR</th>\n",
       "      <th>TIMEID</th>\n",
       "    </tr>\n",
       "  </thead>\n",
       "  <tbody>\n",
       "    <tr>\n",
       "      <th>0</th>\n",
       "      <td>114</td>\n",
       "      <td>4210653349028689</td>\n",
       "      <td>123459988</td>\n",
       "      <td>14</td>\n",
       "      <td>02</td>\n",
       "      <td>1</td>\n",
       "      <td>Education</td>\n",
       "      <td>78.90</td>\n",
       "      <td>2018</td>\n",
       "      <td>20180214</td>\n",
       "    </tr>\n",
       "    <tr>\n",
       "      <th>1</th>\n",
       "      <td>35</td>\n",
       "      <td>4210653349028689</td>\n",
       "      <td>123459988</td>\n",
       "      <td>20</td>\n",
       "      <td>03</td>\n",
       "      <td>2</td>\n",
       "      <td>Entertainment</td>\n",
       "      <td>14.24</td>\n",
       "      <td>2018</td>\n",
       "      <td>20180320</td>\n",
       "    </tr>\n",
       "    <tr>\n",
       "      <th>2</th>\n",
       "      <td>160</td>\n",
       "      <td>4210653349028689</td>\n",
       "      <td>123459988</td>\n",
       "      <td>08</td>\n",
       "      <td>07</td>\n",
       "      <td>3</td>\n",
       "      <td>Grocery</td>\n",
       "      <td>56.70</td>\n",
       "      <td>2018</td>\n",
       "      <td>20180708</td>\n",
       "    </tr>\n",
       "    <tr>\n",
       "      <th>3</th>\n",
       "      <td>114</td>\n",
       "      <td>4210653349028689</td>\n",
       "      <td>123459988</td>\n",
       "      <td>19</td>\n",
       "      <td>04</td>\n",
       "      <td>4</td>\n",
       "      <td>Entertainment</td>\n",
       "      <td>59.73</td>\n",
       "      <td>2018</td>\n",
       "      <td>20180419</td>\n",
       "    </tr>\n",
       "    <tr>\n",
       "      <th>4</th>\n",
       "      <td>93</td>\n",
       "      <td>4210653349028689</td>\n",
       "      <td>123459988</td>\n",
       "      <td>10</td>\n",
       "      <td>10</td>\n",
       "      <td>5</td>\n",
       "      <td>Gas</td>\n",
       "      <td>3.59</td>\n",
       "      <td>2018</td>\n",
       "      <td>20181010</td>\n",
       "    </tr>\n",
       "    <tr>\n",
       "      <th>5</th>\n",
       "      <td>164</td>\n",
       "      <td>4210653349028689</td>\n",
       "      <td>123459988</td>\n",
       "      <td>28</td>\n",
       "      <td>05</td>\n",
       "      <td>6</td>\n",
       "      <td>Education</td>\n",
       "      <td>6.89</td>\n",
       "      <td>2018</td>\n",
       "      <td>20180528</td>\n",
       "    </tr>\n",
       "    <tr>\n",
       "      <th>6</th>\n",
       "      <td>119</td>\n",
       "      <td>4210653349028689</td>\n",
       "      <td>123459988</td>\n",
       "      <td>19</td>\n",
       "      <td>05</td>\n",
       "      <td>7</td>\n",
       "      <td>Entertainment</td>\n",
       "      <td>43.39</td>\n",
       "      <td>2018</td>\n",
       "      <td>20180519</td>\n",
       "    </tr>\n",
       "    <tr>\n",
       "      <th>7</th>\n",
       "      <td>23</td>\n",
       "      <td>4210653349028689</td>\n",
       "      <td>123459988</td>\n",
       "      <td>08</td>\n",
       "      <td>08</td>\n",
       "      <td>8</td>\n",
       "      <td>Gas</td>\n",
       "      <td>95.39</td>\n",
       "      <td>2018</td>\n",
       "      <td>20180808</td>\n",
       "    </tr>\n",
       "    <tr>\n",
       "      <th>8</th>\n",
       "      <td>166</td>\n",
       "      <td>4210653349028689</td>\n",
       "      <td>123459988</td>\n",
       "      <td>18</td>\n",
       "      <td>03</td>\n",
       "      <td>9</td>\n",
       "      <td>Entertainment</td>\n",
       "      <td>93.26</td>\n",
       "      <td>2018</td>\n",
       "      <td>20180318</td>\n",
       "    </tr>\n",
       "    <tr>\n",
       "      <th>9</th>\n",
       "      <td>83</td>\n",
       "      <td>4210653349028689</td>\n",
       "      <td>123459988</td>\n",
       "      <td>03</td>\n",
       "      <td>09</td>\n",
       "      <td>10</td>\n",
       "      <td>Bills</td>\n",
       "      <td>100.38</td>\n",
       "      <td>2018</td>\n",
       "      <td>20180903</td>\n",
       "    </tr>\n",
       "  </tbody>\n",
       "</table>\n",
       "</div>"
      ],
      "text/plain": [
       "   BRANCH_CODE        CUST_CC_NO   CUST_SSN DAY MONTH  TRANSACTION_ID  \\\n",
       "0          114  4210653349028689  123459988  14    02               1   \n",
       "1           35  4210653349028689  123459988  20    03               2   \n",
       "2          160  4210653349028689  123459988  08    07               3   \n",
       "3          114  4210653349028689  123459988  19    04               4   \n",
       "4           93  4210653349028689  123459988  10    10               5   \n",
       "5          164  4210653349028689  123459988  28    05               6   \n",
       "6          119  4210653349028689  123459988  19    05               7   \n",
       "7           23  4210653349028689  123459988  08    08               8   \n",
       "8          166  4210653349028689  123459988  18    03               9   \n",
       "9           83  4210653349028689  123459988  03    09              10   \n",
       "\n",
       "  TRANSACTION_TYPE  TRANSACTION_VALUE  YEAR    TIMEID  \n",
       "0        Education              78.90  2018  20180214  \n",
       "1    Entertainment              14.24  2018  20180320  \n",
       "2          Grocery              56.70  2018  20180708  \n",
       "3    Entertainment              59.73  2018  20180419  \n",
       "4              Gas               3.59  2018  20181010  \n",
       "5        Education               6.89  2018  20180528  \n",
       "6    Entertainment              43.39  2018  20180519  \n",
       "7              Gas              95.39  2018  20180808  \n",
       "8    Entertainment              93.26  2018  20180318  \n",
       "9            Bills             100.38  2018  20180903  "
      ]
     },
     "execution_count": 80,
     "metadata": {},
     "output_type": "execute_result"
    }
   ],
   "source": [
    "#first 10 records from the transformed dataframe\n",
    "credit_df.head(10)"
   ]
  },
  {
   "cell_type": "code",
   "execution_count": 81,
   "metadata": {},
   "outputs": [],
   "source": [
    "#selected columns to be added into transformed dataframe\n",
    "trans_credit_df=credit_df[['CUST_CC_NO','TIMEID','CUST_SSN','BRANCH_CODE','TRANSACTION_TYPE','TRANSACTION_VALUE','TRANSACTION_ID']]"
   ]
  },
  {
   "cell_type": "code",
   "execution_count": 82,
   "metadata": {},
   "outputs": [
    {
     "data": {
      "text/html": [
       "<div>\n",
       "<style scoped>\n",
       "    .dataframe tbody tr th:only-of-type {\n",
       "        vertical-align: middle;\n",
       "    }\n",
       "\n",
       "    .dataframe tbody tr th {\n",
       "        vertical-align: top;\n",
       "    }\n",
       "\n",
       "    .dataframe thead th {\n",
       "        text-align: right;\n",
       "    }\n",
       "</style>\n",
       "<table border=\"1\" class=\"dataframe\">\n",
       "  <thead>\n",
       "    <tr style=\"text-align: right;\">\n",
       "      <th></th>\n",
       "      <th>CUST_CC_NO</th>\n",
       "      <th>TIMEID</th>\n",
       "      <th>CUST_SSN</th>\n",
       "      <th>BRANCH_CODE</th>\n",
       "      <th>TRANSACTION_TYPE</th>\n",
       "      <th>TRANSACTION_VALUE</th>\n",
       "      <th>TRANSACTION_ID</th>\n",
       "    </tr>\n",
       "  </thead>\n",
       "  <tbody>\n",
       "    <tr>\n",
       "      <th>0</th>\n",
       "      <td>4210653349028689</td>\n",
       "      <td>20180214</td>\n",
       "      <td>123459988</td>\n",
       "      <td>114</td>\n",
       "      <td>Education</td>\n",
       "      <td>78.90</td>\n",
       "      <td>1</td>\n",
       "    </tr>\n",
       "    <tr>\n",
       "      <th>1</th>\n",
       "      <td>4210653349028689</td>\n",
       "      <td>20180320</td>\n",
       "      <td>123459988</td>\n",
       "      <td>35</td>\n",
       "      <td>Entertainment</td>\n",
       "      <td>14.24</td>\n",
       "      <td>2</td>\n",
       "    </tr>\n",
       "    <tr>\n",
       "      <th>2</th>\n",
       "      <td>4210653349028689</td>\n",
       "      <td>20180708</td>\n",
       "      <td>123459988</td>\n",
       "      <td>160</td>\n",
       "      <td>Grocery</td>\n",
       "      <td>56.70</td>\n",
       "      <td>3</td>\n",
       "    </tr>\n",
       "    <tr>\n",
       "      <th>3</th>\n",
       "      <td>4210653349028689</td>\n",
       "      <td>20180419</td>\n",
       "      <td>123459988</td>\n",
       "      <td>114</td>\n",
       "      <td>Entertainment</td>\n",
       "      <td>59.73</td>\n",
       "      <td>4</td>\n",
       "    </tr>\n",
       "    <tr>\n",
       "      <th>4</th>\n",
       "      <td>4210653349028689</td>\n",
       "      <td>20181010</td>\n",
       "      <td>123459988</td>\n",
       "      <td>93</td>\n",
       "      <td>Gas</td>\n",
       "      <td>3.59</td>\n",
       "      <td>5</td>\n",
       "    </tr>\n",
       "    <tr>\n",
       "      <th>5</th>\n",
       "      <td>4210653349028689</td>\n",
       "      <td>20180528</td>\n",
       "      <td>123459988</td>\n",
       "      <td>164</td>\n",
       "      <td>Education</td>\n",
       "      <td>6.89</td>\n",
       "      <td>6</td>\n",
       "    </tr>\n",
       "    <tr>\n",
       "      <th>6</th>\n",
       "      <td>4210653349028689</td>\n",
       "      <td>20180519</td>\n",
       "      <td>123459988</td>\n",
       "      <td>119</td>\n",
       "      <td>Entertainment</td>\n",
       "      <td>43.39</td>\n",
       "      <td>7</td>\n",
       "    </tr>\n",
       "    <tr>\n",
       "      <th>7</th>\n",
       "      <td>4210653349028689</td>\n",
       "      <td>20180808</td>\n",
       "      <td>123459988</td>\n",
       "      <td>23</td>\n",
       "      <td>Gas</td>\n",
       "      <td>95.39</td>\n",
       "      <td>8</td>\n",
       "    </tr>\n",
       "    <tr>\n",
       "      <th>8</th>\n",
       "      <td>4210653349028689</td>\n",
       "      <td>20180318</td>\n",
       "      <td>123459988</td>\n",
       "      <td>166</td>\n",
       "      <td>Entertainment</td>\n",
       "      <td>93.26</td>\n",
       "      <td>9</td>\n",
       "    </tr>\n",
       "    <tr>\n",
       "      <th>9</th>\n",
       "      <td>4210653349028689</td>\n",
       "      <td>20180903</td>\n",
       "      <td>123459988</td>\n",
       "      <td>83</td>\n",
       "      <td>Bills</td>\n",
       "      <td>100.38</td>\n",
       "      <td>10</td>\n",
       "    </tr>\n",
       "  </tbody>\n",
       "</table>\n",
       "</div>"
      ],
      "text/plain": [
       "         CUST_CC_NO    TIMEID   CUST_SSN  BRANCH_CODE TRANSACTION_TYPE  \\\n",
       "0  4210653349028689  20180214  123459988          114        Education   \n",
       "1  4210653349028689  20180320  123459988           35    Entertainment   \n",
       "2  4210653349028689  20180708  123459988          160          Grocery   \n",
       "3  4210653349028689  20180419  123459988          114    Entertainment   \n",
       "4  4210653349028689  20181010  123459988           93              Gas   \n",
       "5  4210653349028689  20180528  123459988          164        Education   \n",
       "6  4210653349028689  20180519  123459988          119    Entertainment   \n",
       "7  4210653349028689  20180808  123459988           23              Gas   \n",
       "8  4210653349028689  20180318  123459988          166    Entertainment   \n",
       "9  4210653349028689  20180903  123459988           83            Bills   \n",
       "\n",
       "   TRANSACTION_VALUE  TRANSACTION_ID  \n",
       "0              78.90               1  \n",
       "1              14.24               2  \n",
       "2              56.70               3  \n",
       "3              59.73               4  \n",
       "4               3.59               5  \n",
       "5               6.89               6  \n",
       "6              43.39               7  \n",
       "7              95.39               8  \n",
       "8              93.26               9  \n",
       "9             100.38              10  "
      ]
     },
     "execution_count": 82,
     "metadata": {},
     "output_type": "execute_result"
    }
   ],
   "source": [
    "#first 10 records from transformed customer dataframe\n",
    "trans_credit_df.head(10)"
   ]
  },
  {
   "cell_type": "code",
   "execution_count": 84,
   "metadata": {},
   "outputs": [],
   "source": [
    "#creting spark dataframe from transformed pandas customer dataframe\n",
    "transform_credit_df=spark.createDataFrame(trans_credit_df)"
   ]
  },
  {
   "cell_type": "code",
   "execution_count": 85,
   "metadata": {},
   "outputs": [
    {
     "name": "stdout",
     "output_type": "stream",
     "text": [
      "+----------------+--------+---------+-----------+----------------+-----------------+--------------+\n",
      "|      CUST_CC_NO|  TIMEID| CUST_SSN|BRANCH_CODE|TRANSACTION_TYPE|TRANSACTION_VALUE|TRANSACTION_ID|\n",
      "+----------------+--------+---------+-----------+----------------+-----------------+--------------+\n",
      "|4210653349028689|20180214|123459988|        114|       Education|             78.9|             1|\n",
      "|4210653349028689|20180320|123459988|         35|   Entertainment|            14.24|             2|\n",
      "|4210653349028689|20180708|123459988|        160|         Grocery|             56.7|             3|\n",
      "|4210653349028689|20180419|123459988|        114|   Entertainment|            59.73|             4|\n",
      "|4210653349028689|20181010|123459988|         93|             Gas|             3.59|             5|\n",
      "+----------------+--------+---------+-----------+----------------+-----------------+--------------+\n",
      "only showing top 5 rows\n",
      "\n"
     ]
    }
   ],
   "source": [
    "#show first five records from customer spark dataframe\n",
    "transform_credit_df.show(5,truncate=True)"
   ]
  },
  {
   "cell_type": "code",
   "execution_count": 98,
   "metadata": {},
   "outputs": [],
   "source": [
    "load_dotenv()\n",
    "USER=os.environ.get('user')\n",
    "PASSWORD=os.environ.get('password')"
   ]
  },
  {
   "attachments": {},
   "cell_type": "markdown",
   "metadata": {},
   "source": [
    "### Req-1.2   \n",
    "Data loading into Database\n"
   ]
  },
  {
   "attachments": {},
   "cell_type": "markdown",
   "metadata": {},
   "source": [
    "Create a Python and Pyspark Program to load/write the “Credit Card System Data” into RDBMS(creditcard_capstone).     \n",
    "Tables should be created by the following names in RDBMS:     \n",
    "\n",
    "      CDW_SAPP_BRANCH    \n",
    "      CDW_SAPP_CREDIT_CARD    \n",
    "      CDW_SAPP_CUSTOMER   \n"
   ]
  },
  {
   "cell_type": "code",
   "execution_count": 87,
   "metadata": {},
   "outputs": [],
   "source": [
    "#load branch data from spark dataframe into reditcard_capstone.CDW_SAPP_BRANCH table in RDBMS\n",
    "transform_branch_df.write \\\n",
    "                    .format(\"jdbc\") \\\n",
    "                    .mode(\"overwrite\") \\\n",
    "                    .option(\"truncate\",\"true\") \\\n",
    "                    .option(\"url\", \"jdbc:mysql://localhost:3308/\") \\\n",
    "                    .option(\"createTableColumnTypes\", \"BRANCH_CODE INT,BRANCH_NAME VARCHAR(25),BRANCH_STREET VARCHAR(50),\\\n",
    "                                                       BRANCH_CITY VARCHAR(25), BRANCH_STATE VARCHAR(10),BRANCH_ZIP INT,\\\n",
    "                                                       BRANCH_PHONE VARCHAR(25),LAST_UPDATED TIMESTAMP\")\\\n",
    "                    .option(\"dbtable\", \"creditcard_capstone.CDW_SAPP_BRANCH\") \\\n",
    "                    .option(\"truncate\",\"true\") \\\n",
    "                    .option(\"user\", USER) \\\n",
    "                    .option(\"password\", PASSWORD) \\\n",
    "                    .option(\"characterEncoding\",\"UTF-8\") \\\n",
    "                    .option(\"useUnicode\", \"true\") \\\n",
    "                    .save()"
   ]
  },
  {
   "cell_type": "code",
   "execution_count": 89,
   "metadata": {},
   "outputs": [],
   "source": [
    "#load creditcard data from spark dataframe into reditcard_capstone.CDW_SAPP_CREDIT_CARD table in RDBMS\n",
    "transform_credit_df.write \\\n",
    "                    .format(\"jdbc\") \\\n",
    "                    .mode(\"overwrite\") \\\n",
    "                    .option(\"truncate\",\"true\") \\\n",
    "                    .option(\"url\", \"jdbc:mysql://localhost:3308/\") \\\n",
    "                    .option(\"createTableColumnTypes\", \"CUST_CC_NO VARCHAR(25),TIMEID VARCHAR(15),CUST_SSN INT,\\\n",
    "                                                       BRANCH_CODE INT, TRANSACTION_TYPE VARCHAR(25),TRANSACTION_VALUE DOUBLE,\\\n",
    "                                                       TRANSACTION_ID INT\")\\\n",
    "                    .option(\"dbtable\", \"creditcard_capstone.CDW_SAPP_CREDIT_CARD\") \\\n",
    "                    .option(\"truncate\",\"true\") \\\n",
    "                    .option(\"user\", USER) \\\n",
    "                    .option(\"password\", PASSWORD) \\\n",
    "                    .option(\"characterEncoding\",\"UTF-8\") \\\n",
    "                    .option(\"useUnicode\", \"true\") \\\n",
    "                    .save()"
   ]
  },
  {
   "cell_type": "code",
   "execution_count": 92,
   "metadata": {},
   "outputs": [],
   "source": [
    "#load cUSTOMER data from spark dataframe into reditcard_capstone.CDW_SAPP_CREDIT_CARD table in RDBMS\n",
    "transform_customer_df.write \\\n",
    "                    .format(\"jdbc\") \\\n",
    "                    .mode(\"overwrite\") \\\n",
    "                    .option(\"truncate\",\"true\") \\\n",
    "                    .option(\"url\", \"jdbc:mysql://localhost:3308/\") \\\n",
    "                    .option(\"createTableColumnTypes\", \"SSN INT,FIRST_NAME VARCHAR(25),MIDDLE_NAME VARCHAR(25),LAST_NAME VARCHAR(25),\\\n",
    "                                                       CREDIT_CARD_NO VARCHAR(25),FULL_STREET_ADDRESS VARCHAR(50),CUST_CITY VARCHAR(25),\\\n",
    "                                                       CUST_STATE VARCHAR(25),CUST_COUNTRY VARCHAR(25),CUST_ZIP INT,CUST_PHONE VARCHAR(15),\\\n",
    "                                                       CUST_EMAIL VARCHAR(50),LAST_UPDATED TIMESTAMP\")\\\n",
    "                    .option(\"dbtable\", \"creditcard_capstone.CDW_SAPP_CUSTOMER\") \\\n",
    "                    .option(\"truncate\",\"true\") \\\n",
    "                    .option(\"user\", USER) \\\n",
    "                    .option(\"password\", PASSWORD) \\\n",
    "                    .option(\"characterEncoding\",\"UTF-8\") \\\n",
    "                    .option(\"useUnicode\", \"true\") \\\n",
    "                    .save()"
   ]
  },
  {
   "attachments": {},
   "cell_type": "markdown",
   "metadata": {},
   "source": [
    "### 2. Functional Requirements - Application Front-End"
   ]
  },
  {
   "attachments": {},
   "cell_type": "markdown",
   "metadata": {},
   "source": [
    "Once data is loaded into the database, we need a front-end (console) to see/display data.    \n",
    "For that, create a console-based Python program to satisfy System Requirements 2 (2.1 and 2.2).   \n",
    "\n",
    " 2.1 Transaction Details Module \\    \n",
    "* 1. Used to display the transactions made by customers living in a given zip code for a given month and year. \n",
    "              Order by day in descending order.\n",
    "* 2.  Used to display the number and total values of transactions for a given type.          \n",
    "* 3.  Used to display the number and total values of transactions for branches in a given state.    \n",
    "\n",
    "2.2 Customer Details Module     \n",
    "* 1. Used to check the existing account details of a customer.   \n",
    "* 2. Used to modify the existing account details of a customer.  \n",
    "* 3. Used to generate a monthly bill for a credit card number for a given month and year.    \n",
    "* 4. Used to display the transactions made by a customer between two dates. Order by year, month, and day in descending order.   "
   ]
  },
  {
   "cell_type": "code",
   "execution_count": 743,
   "metadata": {},
   "outputs": [],
   "source": [
    "#function to load data from database to spark dataframe\n",
    "def load_data():\n",
    "      \"\"\"function loads returns data from RDBMS to spark dataframe\"\"\"\n",
    "#load branch data from creditcard_capstone.CDW_SAPP_BRANCH to spark dataframe\n",
    "      load_branch=spark.read\\\n",
    "                        .format(\"jdbc\")\\\n",
    "                        .options(driver=\"com.mysql.cj.jdbc.Driver\",\\\n",
    "                                    user=USER,\\\n",
    "                                    password=PASSWORD,\\\n",
    "                                    url=\"jdbc:mysql://localhost:3308/\",\\\n",
    "                                    dbtable=\"creditcard_capstone.CDW_SAPP_BRANCH\")\\\n",
    "                        .load()\n",
    "\n",
    "#load creditcard data from creditcard_capstone.CDW_SAPP_CREDIT_CARD to spark dataframe\n",
    "      load_credit=spark.read\\\n",
    "                        .format(\"jdbc\")\\\n",
    "                        .options(driver=\"com.mysql.cj.jdbc.Driver\",\\\n",
    "                                    user=USER,\\\n",
    "                                    password=PASSWORD,\\\n",
    "                                    url=\"jdbc:mysql://localhost:3308/\",\\\n",
    "                                    dbtable=\"creditcard_capstone.CDW_SAPP_CREDIT_CARD\")\\\n",
    "                        .load()\n",
    "\n",
    "#load customer data from creditcard_capstone.CDW_SAPP_CUSTOMER to spark dataframe\n",
    "      load_customer=spark.read\\\n",
    "                        .format(\"jdbc\")\\\n",
    "                        .options(driver=\"com.mysql.cj.jdbc.Driver\",\\\n",
    "                                    user=USER,\\\n",
    "                                    password=PASSWORD,\\\n",
    "                                    url=\"jdbc:mysql://localhost:3308/\",\\\n",
    "                                    dbtable=\"creditcard_capstone.CDW_SAPP_CUSTOMER\")\\\n",
    "                        .load()\n",
    "      return load_branch,load_credit,load_customer\n"
   ]
  },
  {
   "cell_type": "code",
   "execution_count": 742,
   "metadata": {},
   "outputs": [],
   "source": [
    "load_branch,load_credit,load_customer=load_data()\n",
    "#create temp vew of spark dataframe\n",
    "load_branch.createOrReplaceTempView('branch')\n",
    "load_credit.createOrReplaceTempView(\"credit_card\")\n",
    "load_customer.createOrReplaceTempView(\"customer\")"
   ]
  },
  {
   "attachments": {},
   "cell_type": "markdown",
   "metadata": {},
   "source": [
    " ### 2.1 Transaction Details Module\n",
    "\n",
    " * 1. Used to display the transactions made by customers living in a given zip code for a given month and year. \n",
    "              Order by day in descending order.\n",
    "* 2.  Used to display the number and total values of transactions for a given type.          \n",
    "* 3.  Used to display the number and total values of transactions for branches in a given state."
   ]
  },
  {
   "cell_type": "code",
   "execution_count": 735,
   "metadata": {},
   "outputs": [],
   "source": [
    "#decorator to change funcionality of the print function\n",
    "def Dprint(f):\n",
    "    def inner(*arg,**kwarg):\n",
    "        r=f(*arg,**kwarg)\n",
    "        r.show()\n",
    "        # return r\n",
    "    return inner"
   ]
  },
  {
   "attachments": {},
   "cell_type": "markdown",
   "metadata": {},
   "source": [
    "* 1. Used to display the transactions made by customers living in a given zip code for a given month and year.     \n",
    "              Order by day in descending order."
   ]
  },
  {
   "cell_type": "code",
   "execution_count": 387,
   "metadata": {},
   "outputs": [],
   "source": [
    "@Dprint\n",
    "def transaction_by_zipcode(zipcode,year,month):\n",
    "    return spark.sql(\"SELECT c.CUST_ZIP, \\\n",
    "                      c.FIRST_NAME, \\\n",
    "                      c.LAST_NAME,\\\n",
    "                      c.LAST_UPDATED,\\\n",
    "                      cc.*\\\n",
    "                      FROM credit_card cc\\\n",
    "                      JOIN customer c ON  c.SSN=cc.CUST_SSN\\\n",
    "                      WHERE c.CUST_ZIP = '{}' AND YEAR(to_date(TIMEID,'yyyyMMdd')) = '{}' \\\n",
    "                      AND MONTH(to_date(TIMEID,'yyyyMMdd'))='{}'\\\n",
    "                      ORDER BY day(to_date(TIMEID,'yyyyMMdd')) DESC\".format(zipcode,year,month))\n",
    "   "
   ]
  },
  {
   "cell_type": "code",
   "execution_count": 744,
   "metadata": {},
   "outputs": [],
   "source": [
    "def input_zipcode():\n",
    "    while True:\n",
    "        zipcode=input(\"\\n Enter zipcode using 4-5 digits : \")\n",
    "        zipcode=zipcode.strip()\n",
    "        if (zipcode.isdigit()) and (len(zipcode) > 3 or len(zipcode) < 6):\n",
    "            print(\"\\n Valid zipcode\")\n",
    "            break\n",
    "        else:\n",
    "            print(\"\\n Invalid zipcode entry...Try again\")\n",
    "    return zipcode"
   ]
  },
  {
   "cell_type": "code",
   "execution_count": 745,
   "metadata": {},
   "outputs": [],
   "source": [
    " #year input  \n",
    "def input_year():     \n",
    "    while True:\n",
    "        year=input(\"\\n Enter year using 4 digits :\")\n",
    "        year=year.strip()\n",
    "        if year.isdigit() and len(year)==4:\n",
    "            print(\"\\n Valid Year\")\n",
    "            break\n",
    "        else:\n",
    "            print(\"\\n Invalid year entry...Try again :\")\n",
    "    return year"
   ]
  },
  {
   "cell_type": "code",
   "execution_count": 749,
   "metadata": {},
   "outputs": [],
   "source": [
    "#month input\n",
    "def input_month():\n",
    "    while True:\n",
    "        month=input(\"\\n Enter month using 2 digits (example: March enter 03): \")\n",
    "        month=month.strip().lstrip('0')\n",
    "        if month.isdigit():\n",
    "            if int(month) in range (1,13):\n",
    "                print(\"\\n Valid month :\")\n",
    "                break\n",
    "            else:\n",
    "                print(\"\\n Invalid month entry...Try again :\")\n",
    "        else:\n",
    "            print(\"\\n Invalid month entry...Try again :\")\n",
    "    return month"
   ]
  },
  {
   "cell_type": "code",
   "execution_count": 747,
   "metadata": {},
   "outputs": [],
   "source": [
    "#function to get zipcode, year, month user input \n",
    "def tran1_input():\n",
    "    #zipcode input\n",
    "    zipcode=input_zipcode()\n",
    "    #year input       \n",
    "    year=input_year()\n",
    "    #month input\n",
    "    month=input_month()\n",
    "    return zipcode,year,month  "
   ]
  },
  {
   "cell_type": "code",
   "execution_count": 750,
   "metadata": {},
   "outputs": [
    {
     "name": "stdout",
     "output_type": "stream",
     "text": [
      "\n",
      " Valid zipcode\n",
      "\n",
      " Valid Year\n",
      "\n",
      " Valid month :\n",
      "\n",
      " Transactions made by customers living in zip code :60142, for a year :2018, and month :9 \n",
      " output Order by day in descending order\n",
      "+--------+----------+---------+-------------------+----------------+--------+---------+-----------+----------------+-----------------+--------------+\n",
      "|CUST_ZIP|FIRST_NAME|LAST_NAME|       LAST_UPDATED|      CUST_CC_NO|  TIMEID| CUST_SSN|BRANCH_CODE|TRANSACTION_TYPE|TRANSACTION_VALUE|TRANSACTION_ID|\n",
      "+--------+----------+---------+-------------------+----------------+--------+---------+-----------+----------------+-----------------+--------------+\n",
      "|   60142|    Rodger|   Chacon|2018-04-21 12:49:02|4210653316474645|20180928|123457245|         31|       Education|            37.61|         14278|\n",
      "|   60142|    Rodger|   Chacon|2018-04-21 12:49:02|4210653316474645|20180927|123457245|          8|            Test|            12.84|         14293|\n",
      "|   60142|  Cristina|  Spencer|2018-04-21 12:49:02|4210653348574254|20180927|123458563|         45|             Gas|            34.44|          6971|\n",
      "|   60142|  Cristina|  Spencer|2018-04-21 12:49:02|4210653348574254|20180924|123458563|         47|         Grocery|              5.4|          6977|\n",
      "|   60142|    Rodger|   Chacon|2018-04-21 12:49:02|4210653316474645|20180924|123457245|         12|           Bills|            62.55|         14346|\n",
      "|   60142|    Rodger|   Chacon|2018-04-21 12:49:02|4210653316474645|20180920|123457245|         30|       Education|            45.81|         14273|\n",
      "|   60142|    Wilber|   Dunham|2018-04-21 12:49:02|4210653310116272|20180918|123454487|         32|           Bills|            41.43|         28698|\n",
      "|   60142|      Aron|   Guzman|2018-04-21 12:49:02|4210653331330633|20180917|123459511|         69|         Grocery|            50.99|          2464|\n",
      "|   60142|    Wilber|   Dunham|2018-04-21 12:49:02|4210653310116272|20180915|123454487|         24|       Education|             3.11|         28724|\n",
      "|   60142|      Aron|   Guzman|2018-04-21 12:49:02|4210653331330633|20180915|123459511|          2|   Entertainment|             80.7|          2404|\n",
      "|   60142|     Allan|   Osborn|2018-04-21 12:49:02|4210653369092976|20180914|123454276|         18|             Gas|            63.06|         30120|\n",
      "|   60142|    Rodger|   Chacon|2018-04-21 12:49:02|4210653316474645|20180914|123457245|        175|         Grocery|            37.53|         14312|\n",
      "|   60142|     Allan|   Osborn|2018-04-21 12:49:02|4210653369092976|20180913|123454276|         10|      Healthcare|             35.6|         30159|\n",
      "|   60142|    Wilber|   Dunham|2018-04-21 12:49:02|4210653310116272|20180912|123454487|         59|   Entertainment|           100.12|         28730|\n",
      "|   60142|    Rodger|   Chacon|2018-04-21 12:49:02|4210653316474645|20180912|123457245|          4|       Education|            80.26|         14311|\n",
      "|   60142|    Rodger|   Chacon|2018-04-21 12:49:02|4210653316474645|20180911|123457245|         18|         Grocery|            24.75|         14298|\n",
      "|   60142|      Aron|   Guzman|2018-04-21 12:49:02|4210653331330633|20180910|123459511|         76|         Grocery|            24.03|          2428|\n",
      "|   60142|      Aron|   Guzman|2018-04-21 12:49:02|4210653331330633|20180907|123459511|         43|   Entertainment|             62.1|          2414|\n",
      "|   60142|      Aron|   Guzman|2018-04-21 12:49:02|4210653331330633|20180907|123459511|         49|           Bills|            39.58|          2400|\n",
      "|   60142|    Rodger|   Chacon|2018-04-21 12:49:02|4210653316474645|20180904|123457245|         16|      Healthcare|            38.69|         14303|\n",
      "+--------+----------+---------+-------------------+----------------+--------+---------+-----------+----------------+-----------------+--------------+\n",
      "only showing top 20 rows\n",
      "\n"
     ]
    }
   ],
   "source": [
    "#calling function tran1_input() to get user input for zipcode, year and month.\n",
    "#the return value of function is valid user input zipcode,year,month\n",
    "zipcode,year,month=tran1_input()\n",
    "print(\"\\n Transactions made by customers living in zip code :{}, for a year :{}, and month :{} \\n\\\n",
    " output Order by day in descending order\".format(zipcode,year,month))   \n",
    "transaction_by_zipcode(zipcode,year,month)\n",
    "\n",
    "# transaction_by_zipcode(60142,2018,9)"
   ]
  },
  {
   "attachments": {},
   "cell_type": "markdown",
   "metadata": {},
   "source": [
    "* 2)    Used to display the number and total values of transactions for a given type."
   ]
  },
  {
   "cell_type": "code",
   "execution_count": 414,
   "metadata": {},
   "outputs": [],
   "source": [
    " #function to get the number and total values of transactions for a given type.\n",
    "@Dprint\n",
    "def tran_no_total_by(tr_type):\n",
    "    return spark.sql(\"SELECT TRANSACTION_TYPE, COUNT(TRANSACTION_ID) AS NUM_OF_TRANSACTION, \\\n",
    "                        SUM(TRANSACTION_VALUE) AS TOTAL_TRAN_VALUES FROM credit_card\\\n",
    "                        WHERE TRANSACTION_TYPE='{}'\\\n",
    "                        GROUP BY TRANSACTION_TYPE\".format(tr_type))   "
   ]
  },
  {
   "cell_type": "code",
   "execution_count": 411,
   "metadata": {},
   "outputs": [],
   "source": [
    "#funtion to get user input for transaction type\n",
    "def tran2_input():\n",
    "    print(\"Available Transaction Type\")\n",
    "    transaction_type=spark.sql(\"SELECT DISTINCT(TRANSACTION_TYPE) FROM credit_card\")\n",
    "    transaction_type.show()\n",
    "    transaction_type= transaction_type.toPandas()\n",
    "    transaction_type_list=pd.unique(transaction_type['TRANSACTION_TYPE'])\n",
    "    while True:        \n",
    "        tr_type=input(\"\\nEnter Transaction Type : \")\n",
    "        tr_type=tr_type.strip()\n",
    "        if tr_type.title() in transaction_type_list:\n",
    "            print(\"Valid Transaction Type \")\n",
    "            break\n",
    "        else:\n",
    "            print(\"\\nEntered Transaction type not found.. Try again..\")\n",
    "    return tr_type"
   ]
  },
  {
   "cell_type": "code",
   "execution_count": 415,
   "metadata": {},
   "outputs": [
    {
     "name": "stdout",
     "output_type": "stream",
     "text": [
      "Available Transaction Type\n",
      "+----------------+\n",
      "|TRANSACTION_TYPE|\n",
      "+----------------+\n",
      "|       Education|\n",
      "|   Entertainment|\n",
      "|      Healthcare|\n",
      "|         Grocery|\n",
      "|            Test|\n",
      "|             Gas|\n",
      "|           Bills|\n",
      "+----------------+\n",
      "\n",
      "Valid Transaction Type\n",
      "+----------------+------------------+------------------+\n",
      "|TRANSACTION_TYPE|NUM_OF_TRANSACTION| TOTAL_TRAN_VALUES|\n",
      "+----------------+------------------+------------------+\n",
      "|             Gas|              6605|336059.25999999954|\n",
      "+----------------+------------------+------------------+\n",
      "\n"
     ]
    }
   ],
   "source": [
    "tr_type=tran2_input()\n",
    "tran_no_total_by(tr_type)"
   ]
  },
  {
   "attachments": {},
   "cell_type": "markdown",
   "metadata": {},
   "source": [
    "* 3)    Used to display the number and total values of transactions for branches in a given state."
   ]
  },
  {
   "cell_type": "code",
   "execution_count": 486,
   "metadata": {},
   "outputs": [],
   "source": [
    "# function display the number and total values of transactions for branches in a given state.\n",
    "@Dprint\n",
    "def tran_no_total_byst(state):\n",
    "    return spark.sql(\"SELECT cc.BRANCH_CODE AS BRANCH_CODE, \\\n",
    "                            COUNT(cc.TRANSACTION_ID) AS NO_TRANSACTION, \\\n",
    "                            SUM(TRANSACTION_VALUE) AS TOTAL_VALUE \\\n",
    "                            FROM customer C \\\n",
    "                            LEFT JOIN credit_card cc on C.SSN = cc.CUST_SSN \\\n",
    "                            WHERE C.CUST_STATE = '{}'\\\n",
    "                            GROUP BY cc.BRANCH_CODE\\\n",
    "                            ORDER BY cc.BRANCH_CODE\".format(state))"
   ]
  },
  {
   "cell_type": "code",
   "execution_count": 519,
   "metadata": {},
   "outputs": [],
   "source": [
    "#function to get user input for state.\n",
    "def tran3_input():\n",
    "    tr_state=spark.sql(\"SELECT DISTINCT(BRANCH_STATE) AS STATES FROM branch\")\n",
    "    tr_state= tr_state.toPandas()\n",
    "    tr_state_list=pd.unique(tr_state['STATES'])\n",
    "    print(\"Available Transaction States ::\\n {}\".format(tr_state_list))\n",
    "    while True:\n",
    "        state=input(\"\\n Enter State using 2 letters as shown in above list\")\n",
    "        state=state.strip()\n",
    "        if state.isalpha() and len(state) == 2:\n",
    "            if state.upper() in tr_state_list:\n",
    "                print(\"\\nEntry is available for the entered state '{}' ::\".format(state.upper()))\n",
    "                break\n",
    "            else:\n",
    "                print(\"\\nState is not found in list..Try again..\")\n",
    "        else:\n",
    "            print(\"\\nInvalid entry...Try again\")\n",
    "    return state\n"
   ]
  },
  {
   "cell_type": "code",
   "execution_count": 520,
   "metadata": {},
   "outputs": [
    {
     "name": "stdout",
     "output_type": "stream",
     "text": [
      "Available Transaction States ::\n",
      " ['SC' 'MN' 'NJ' 'VA' 'KY' 'MI' 'WI' 'CA' 'CT' 'MT' 'NC' 'MD' 'IL' 'WA'\n",
      " 'MS' 'AL' 'IN' 'OH' 'IA' 'PA' 'NY' 'TX' 'GA' 'MA' 'FL' 'AR']\n",
      "\n",
      "Entry is available for the entered state 'NY' ::\n",
      "\n",
      "\n",
      "+-----------+--------------+------------------+\n",
      "|BRANCH_CODE|NO_TRANSACTION|       TOTAL_VALUE|\n",
      "+-----------+--------------+------------------+\n",
      "|          1|            30|1582.3599999999994|\n",
      "|          2|            33|1536.2899999999997|\n",
      "|          3|            54|2726.0399999999995|\n",
      "|          4|            44|2031.4200000000003|\n",
      "|          5|            34|1646.3100000000002|\n",
      "|          7|            39|2092.0299999999997|\n",
      "|          8|            43|           2193.71|\n",
      "|          9|            45|2452.4100000000008|\n",
      "|         10|            37|2112.6799999999994|\n",
      "|         11|            46|2365.2100000000005|\n",
      "|         12|            45|           2263.95|\n",
      "|         14|            45|           2604.02|\n",
      "|         15|            37|1918.7100000000003|\n",
      "|         16|            43|2354.6500000000005|\n",
      "|         17|            40|           2222.29|\n",
      "|         18|            38|           2027.76|\n",
      "|         19|            40|1906.6600000000003|\n",
      "|         20|            33|1871.7399999999998|\n",
      "|         21|            44|2529.4800000000005|\n",
      "|         22|            36|1842.4799999999998|\n",
      "+-----------+--------------+------------------+\n",
      "only showing top 20 rows\n",
      "\n"
     ]
    }
   ],
   "source": [
    "#calling using input. return type of this function is valid available state\n",
    "state=tran3_input()\n",
    "#calling function to get the number and total values of transactions for branches in a given state.\n",
    "print(\"\\n\")\n",
    "tran_no_total_byst(state)"
   ]
  },
  {
   "attachments": {},
   "cell_type": "markdown",
   "metadata": {},
   "source": [
    " ### 2.2 Customer Details Module\n",
    "\n",
    "* 1. Used to check the existing account details of a customer.   \n",
    "* 2. Used to modify the existing account details of a customer.  \n",
    "* 3. Used to generate a monthly bill for a credit card number for a given month and year.    \n",
    "* 4. Used to display the transactions made by a customer between two dates. Order by year, month, and day in descending order.\n"
   ]
  },
  {
   "attachments": {},
   "cell_type": "markdown",
   "metadata": {},
   "source": [
    "* 1. Used to check the existing account details of a customer. "
   ]
  },
  {
   "cell_type": "code",
   "execution_count": 618,
   "metadata": {},
   "outputs": [],
   "source": [
    "#function to check the existing account details of a customer by ssn, first name and last name\n",
    "@Dprint\n",
    "def cust_details_byssn(ssn,name,lastname):\n",
    "    return spark.sql(\"SELECT * FROM CUSTOMER \\\n",
    "               WHERE SSN = '{}' AND FIRST_NAME='{}' AND LAST_NAME='{}'\" \\\n",
    "                    .format(ssn,name,lastname))"
   ]
  },
  {
   "cell_type": "code",
   "execution_count": 598,
   "metadata": {},
   "outputs": [],
   "source": [
    "#function to check the existing account details of a customer by credit card number, full name, phone number and registermail.\n",
    "@Dprint\n",
    "def cust_details_bycc(name,middlename,lastname,email,cc_number,phone):\n",
    "    return spark.sql(\"SELECT * FROM CUSTOMER \\\n",
    "               WHERE FIRST_NAME='{}' AND MIDDLE_NAME='{}' AND LAST_NAME='{}' \\\n",
    "                     AND CUST_EMAIL ='{}' AND CREDIT_CARD_NO = '{}'\\\n",
    "                     AND CUST_PHONE = '{}' \"\\\n",
    "                    .format(name,middlename,lastname,email,cc_number,phone))"
   ]
  },
  {
   "cell_type": "code",
   "execution_count": 751,
   "metadata": {},
   "outputs": [],
   "source": [
    "#ssn input\n",
    "def input_ssn():\n",
    "     while True:\n",
    "          print(\"SSN Details\")\n",
    "          ssn = input(\"Enter ssn for customer using 9 digits :\")\n",
    "          ssn=ssn.replace('-','').replace(' ','')\n",
    "          if ssn.isdigit() and len(ssn) == 9:\n",
    "               print(\"Valid SSN \")\n",
    "               break\n",
    "          else:\n",
    "               print(\"Invalid ssn.. Try again :\")\n",
    "     return ssn"
   ]
  },
  {
   "cell_type": "code",
   "execution_count": 752,
   "metadata": {},
   "outputs": [],
   "source": [
    "#function to get credit card number user input\n",
    "def input_cc():\n",
    "    while True:\n",
    "        print(\"Enter 16 digit credit card number :\")\n",
    "        cc_number=input(\"Enter 16 digit credit card number ::\")\n",
    "        if cc_number.isdigit() and len(cc_number) == 16:\n",
    "            print(\"Valid input :\")\n",
    "            print(cc_number)\n",
    "            break\n",
    "        else:\n",
    "            print(\"invalid input  ..Try again\")\n",
    "    return cc_number"
   ]
  },
  {
   "cell_type": "code",
   "execution_count": 753,
   "metadata": {},
   "outputs": [],
   "source": [
    "# phone number input\n",
    "def input_phone_no():\n",
    "     while True:\n",
    "          print(\"Input valid 10 digit phone number ::\")\n",
    "          phone=input(\"Input 10 digit phone number\")\n",
    "          if phone.isdigit() and len(phone) == 10:\n",
    "               print(\"Valid Input : \")\n",
    "               print(phone)\n",
    "               break\n",
    "          else:\n",
    "               print(\"Invalid phone number..TryAgin\")\n",
    "\n",
    "     phone=\"(\"+phone[0:3]+')'+phone[3:6]+'-'+phone[6:10]\n",
    "     return phone"
   ]
  },
  {
   "cell_type": "code",
   "execution_count": 754,
   "metadata": {},
   "outputs": [],
   "source": [
    "#function get customer account details using ssn or credit card number\n",
    "def cust1_details():\n",
    "     while True:\n",
    "          print(\"\\nchoose option to check account details details of cust by ::\")\n",
    "          print(\"\\n 1> Using SSN details :: \")\n",
    "          print(\"\\n 2> Using Credit card \")\n",
    "          choice=input(\"Enter your Choice :\")\n",
    "          if choice.isdigit() and int(choice) in range(1,3):\n",
    "               print(\"\\nchoice :{}\".format(choice))\n",
    "               break\n",
    "          else:\n",
    "               print(\"Invalid choice..Tryagain\")          \n",
    "    \n",
    "     if choice == '1':\n",
    "          print(\"Customer Account Details by Using SSN\")\n",
    "          ssn=input_ssn()\n",
    "          print(ssn)\n",
    "          print(\"\\nEnter name\")\n",
    "          name = input(\"Enter name \")\n",
    "          name=name.strip()\n",
    "          print(name)\n",
    "          if name.isalpha():\n",
    "               name=name.title()\n",
    "               # print(\"\\nEnter middle name\")\n",
    "               # middle_name=input(\"Enter Middle name\")\n",
    "               # middle_name=middle_name.strip()\n",
    "          print(\"\\nEnter Last name :\")\n",
    "          last_name=input(\"Enter last name\")\n",
    "          last_name=last_name.strip()\n",
    "          print(last_name)\n",
    "          if name.isalpha():\n",
    "               last_name=last_name.title()\n",
    "          cust_details_byssn(ssn,name,last_name)\n",
    "     else:\n",
    "          print(\"Customer account details by using Creditcard ::\")\n",
    "          cc_number=input_cc()\n",
    "          print(\"\\nEnter name ::\")\n",
    "          name = input(\"Enter First name ::\")\n",
    "          name=name.strip()\n",
    "          print(name)\n",
    "          if name.isalpha():\n",
    "               name=name.title()\n",
    "          print(\"\\nEnter middle name ::\")\n",
    "          middle_name=input(\"Enter Middle name\")\n",
    "          middle_name=middle_name.strip()\n",
    "          print(middle_name)\n",
    "          if middle_name.isalpha():\n",
    "               middle_name=middle_name.lower()\n",
    "          print(\"\\nEnter Last name ::\")\n",
    "          last_name=input(\"Enter last name\")\n",
    "          last_name=last_name.strip()\n",
    "          print(last_name)\n",
    "          if last_name.isalpha():\n",
    "               last_name=last_name.title()\n",
    "          print(\"Enter Email address ::\")\n",
    "          email=input(\"Enter registered email id \")\n",
    "          email=email.strip()\n",
    "          print(email)\n",
    "          phone=input_phone_no()                              \n",
    "          cust_details_bycc(name,middle_name,last_name,email,cc_number,phone)"
   ]
  },
  {
   "cell_type": "code",
   "execution_count": 755,
   "metadata": {},
   "outputs": [
    {
     "name": "stdout",
     "output_type": "stream",
     "text": [
      "\n",
      "choose option to check account details details of cust by ::\n",
      "\n",
      " 1> Using SSN details :: \n",
      "\n",
      " 2> Using Credit card \n",
      "\n",
      "choice :1\n",
      "Customer Account Details by Using SSN\n",
      "SSN Details\n",
      "Valid SSN \n",
      "123451995\n",
      "\n",
      "Enter name\n",
      "Lorna\n",
      "\n",
      "Enter Last name :\n",
      "Diaz\n",
      "+---------+----------+-----------+---------+----------------+--------------------+---------+----------+-------------+--------+-------------+-----------------+-------------------+\n",
      "|      SSN|FIRST_NAME|MIDDLE_NAME|LAST_NAME|  CREDIT_CARD_NO| FULL_STREET_ADDRESS|CUST_CITY|CUST_STATE| CUST_COUNTRY|CUST_ZIP|   CUST_PHONE|       CUST_EMAIL|       LAST_UPDATED|\n",
      "+---------+----------+-----------+---------+----------------+--------------------+---------+----------+-------------+--------+-------------+-----------------+-------------------+\n",
      "|123451995|     Lorna|      aimee|     Diaz|4210653314812374|Lafayette Street,847|    Osseo|        MN|United States|   55311|(281)124-1214|LDiaz@example.com|2018-04-21 12:49:02|\n",
      "+---------+----------+-----------+---------+----------------+--------------------+---------+----------+-------------+--------+-------------+-----------------+-------------------+\n",
      "\n"
     ]
    }
   ],
   "source": [
    "#lets get customer details using ssn\n",
    "cust1_details()"
   ]
  },
  {
   "cell_type": "code",
   "execution_count": 756,
   "metadata": {},
   "outputs": [
    {
     "name": "stdout",
     "output_type": "stream",
     "text": [
      "\n",
      "choose option to check account details details of cust by ::\n",
      "\n",
      " 1> Using SSN details :: \n",
      "\n",
      " 2> Using Credit card \n",
      "\n",
      "choice :2\n",
      "Customer account details by using Creditcard ::\n",
      "Enter 16 digit credit card number :\n",
      "Valid input :\n",
      "4210653314812374\n",
      "\n",
      "Enter name ::\n",
      "Lorna\n",
      "\n",
      "Enter middle name ::\n",
      "aimee\n",
      "\n",
      "Enter Last name ::\n",
      "Diaz\n",
      "Enter Email address ::\n",
      "LDiaz@example.com\n",
      "Input valid 10 digit phone number ::\n",
      "Valid Input : \n",
      "2811241214\n",
      "+---------+----------+-----------+---------+----------------+--------------------+---------+----------+-------------+--------+-------------+-----------------+-------------------+\n",
      "|      SSN|FIRST_NAME|MIDDLE_NAME|LAST_NAME|  CREDIT_CARD_NO| FULL_STREET_ADDRESS|CUST_CITY|CUST_STATE| CUST_COUNTRY|CUST_ZIP|   CUST_PHONE|       CUST_EMAIL|       LAST_UPDATED|\n",
      "+---------+----------+-----------+---------+----------------+--------------------+---------+----------+-------------+--------+-------------+-----------------+-------------------+\n",
      "|123451995|     Lorna|      aimee|     Diaz|4210653314812374|Lafayette Street,847|    Osseo|        MN|United States|   55311|(281)124-1214|LDiaz@example.com|2018-04-21 12:49:02|\n",
      "+---------+----------+-----------+---------+----------------+--------------------+---------+----------+-------------+--------+-------------+-----------------+-------------------+\n",
      "\n"
     ]
    }
   ],
   "source": [
    "cust1_details()"
   ]
  },
  {
   "attachments": {},
   "cell_type": "markdown",
   "metadata": {},
   "source": [
    "* 3) Used to generate a monthly bill for a credit card number for a given month and year."
   ]
  },
  {
   "cell_type": "code",
   "execution_count": 682,
   "metadata": {},
   "outputs": [],
   "source": [
    "#function to get custmer credit transaction details using credit card number\n",
    "@Dprint\n",
    "def get_cc(cc_number):\n",
    "    return spark.sql(\"SELECT * FROM credit_card \\\n",
    "              WHERE CUST_CC_NO = '{}'\".format(cc_number))\n"
   ]
  },
  {
   "cell_type": "code",
   "execution_count": 683,
   "metadata": {},
   "outputs": [],
   "source": [
    "#function to get credit card yearly transaction details \n",
    "@Dprint \n",
    "def get_cc_yr(cc_number,year):\n",
    "    return spark.sql(\"SELECT * FROM credit_card \\\n",
    "              WHERE CUST_CC_NO = '{}' AND YEAR(to_date(TIMEID,'yyyyMMdd')) = '{}' \\\n",
    "              ORDER BY MONTH(to_date(TIMEID,'yyyyMMdd')) DESC\".format(cc_number,year))"
   ]
  },
  {
   "cell_type": "code",
   "execution_count": 695,
   "metadata": {},
   "outputs": [],
   "source": [
    "#function to get credit card monthly transaction details \n",
    "@Dprint\n",
    "def get_cc_mon(cc_number,year,mon):\n",
    "    return spark.sql(\"SELECT * FROM credit_card \\\n",
    "              WHERE CUST_CC_NO = '{}' AND YEAR(to_date(TIMEID,'yyyyMMdd')) = '{}'\\\n",
    "              AND MONTH(to_date(TIMEID,'yyyyMMdd')) = '{}'\"\\\n",
    "              .format(cc_number,year,mon))"
   ]
  },
  {
   "cell_type": "code",
   "execution_count": 702,
   "metadata": {},
   "outputs": [],
   "source": [
    "#function to diplay monthly expenses\n",
    "@Dprint\n",
    "def monthly_exp(cc_number,month,yr):\n",
    "    return spark.sql(\"SELECT SUM(TRANSACTION_VALUE) AS MONTHLY_BILL,cc.TRANSACTION_TYPE FROM credit_card cc\\\n",
    "           JOIN customer c ON cc.CUST_CC_NO=c.CREDIT_CARD_NO \\\n",
    "           WHERE cc.CUST_CC_NO = '{}' AND MONTH(to_date(TIMEID,'yyyyMMdd')) = '{}' \\\n",
    "           AND YEAR(to_date(TIMEID,'yyyyMMdd'))='{}'\\\n",
    "           GROUP BY cc.TRANSACTION_TYPE\".format(cc_number,month,yr))"
   ]
  },
  {
   "cell_type": "code",
   "execution_count": 758,
   "metadata": {},
   "outputs": [],
   "source": [
    "@Dprint\n",
    "#function used to generate a monthly bill for a credit card number for a given month and year.\n",
    "def monthly_bill(cc_number,month,yr):\n",
    "    return spark.sql(\"SELECT SUM(TRANSACTION_VALUE) AS MONTHLY_TOTAL FROM credit_card cc\\\n",
    "                    JOIN customer c ON cc.CUST_CC_NO=c.CREDIT_CARD_NO \\\n",
    "                    WHERE cc.CUST_CC_NO = '{}' AND MONTH(to_date(TIMEID,'yyyyMMdd')) = '{}' \\\n",
    "                    AND YEAR(to_date(TIMEID,'yyyyMMdd'))='{}'\\\n",
    "                    GROUP BY cc.CUST_CC_NO\".format(cc_number,month,yr))"
   ]
  },
  {
   "cell_type": "code",
   "execution_count": 759,
   "metadata": {},
   "outputs": [
    {
     "name": "stdout",
     "output_type": "stream",
     "text": [
      "Enter credit card number ::\n",
      "Enter 16 digit credit card number :\n",
      "Valid input :\n",
      "4210653310116272\n",
      "4210653310116272\n",
      "Enter year ::\n",
      "2018\n",
      "\n",
      " Valid Year\n",
      "\n",
      " Valid month :\n",
      "1\n",
      "+----------------+--------+---------+-----------+----------------+-----------------+--------------+\n",
      "|      CUST_CC_NO|  TIMEID| CUST_SSN|BRANCH_CODE|TRANSACTION_TYPE|TRANSACTION_VALUE|TRANSACTION_ID|\n",
      "+----------------+--------+---------+-----------+----------------+-----------------+--------------+\n",
      "|4210653310116272|20180107|123454487|         32|         Grocery|            43.49|         28701|\n",
      "|4210653310116272|20180114|123454487|         60|         Grocery|            73.09|         28712|\n",
      "|4210653310116272|20180101|123454487|         69|           Bills|            12.13|         28714|\n",
      "|4210653310116272|20180110|123454487|         77|         Grocery|            38.49|         28722|\n",
      "+----------------+--------+---------+-----------+----------------+-----------------+--------------+\n",
      "\n",
      "Monthly expense\n",
      "+------------------+----------------+\n",
      "|      MONTHLY_BILL|TRANSACTION_TYPE|\n",
      "+------------------+----------------+\n",
      "|155.07000000000002|         Grocery|\n",
      "|             12.13|           Bills|\n",
      "+------------------+----------------+\n",
      "\n",
      "Monthly bill ::\n",
      "+------------------+\n",
      "|     MONTHLY_TOTAL|\n",
      "+------------------+\n",
      "|167.20000000000002|\n",
      "+------------------+\n",
      "\n"
     ]
    }
   ],
   "source": [
    "#generate monthly bill\n",
    "print(\"Enter credit card number ::\")\n",
    "cc_number=input_cc()\n",
    "print(cc_number)\n",
    "# get_cc(cc_number)\n",
    "print(\"Enter year ::\")\n",
    "print(year)\n",
    "year=input_year()\n",
    "# get_cc_yr(cc_number,year)\n",
    "month=input_month()\n",
    "print(month)\n",
    "get_cc_mon(cc_number,year,month)\n",
    "print(\"Monthly expense\")\n",
    "monthly_exp(cc_number,month,year)\n",
    "print(\"Monthly bill ::\")\n",
    "monthly_bill(cc_number,month,year)\n"
   ]
  },
  {
   "attachments": {},
   "cell_type": "markdown",
   "metadata": {},
   "source": [
    "* 4) Used to display the transactions made by a customer between two dates. Order by year, month, and day in descending order.\n"
   ]
  },
  {
   "cell_type": "code",
   "execution_count": 737,
   "metadata": {},
   "outputs": [],
   "source": [
    "# function to display the transactions made by a customer between two dates. Order by year, month, and day in descending order.\n",
    "\n",
    "# def transaction_bet(ssn,date1,date2):\n",
    "@Dprint\n",
    "def tran_bet_two_date(cc_number,date1,date2):\n",
    "    return spark.sql(\"SELECT * FROM credit_card \\\n",
    "          JOIN customer ON customer.CREDIT_CARD_NO=credit_card.CUST_CC_NO\\\n",
    "          WHERE customer.CREDIT_CARD_NO='{}' AND to_date(TIMEID,'yyyyMMdd') >= to_date('{}','yyyyMMdd') AND \\\n",
    "          to_date(TIMEID,'yyyyMMdd') <= TO_date('{}','yyyyMMdd') \\\n",
    "          ORDER BY YEAR(to_date(TIMEID,'yyyyMMdd')) DESC, MONTH(to_date(TIMEID,'yyyyMMdd')) DESC, DAY(to_date(TIMEID,'yyyyMMdd')) DESC\"\\\n",
    "          .format(cc_number,date1,date2))"
   ]
  },
  {
   "cell_type": "code",
   "execution_count": 715,
   "metadata": {},
   "outputs": [],
   "source": [
    "\n",
    "def input_day():\n",
    "     #month input\n",
    "    while True:\n",
    "        day=input(\"\\n Enter day using 2 digits :(ex 01-31)\")\n",
    "        day=day.strip()\n",
    "        if day.isdigit() and len(day) == 2:\n",
    "            if int(day) in range (1,32):\n",
    "                print(\"\\n Valid month :\")\n",
    "                break\n",
    "            else:\n",
    "                print(\"\\n Invalid month entry...Try again :\")\n",
    "        else:\n",
    "            print(\"\\n Invalid month entry...Try again :\")\n",
    "    return day"
   ]
  },
  {
   "cell_type": "code",
   "execution_count": 738,
   "metadata": {},
   "outputs": [],
   "source": [
    "def input_date():\n",
    "    year=input_year()\n",
    "    month=input_month()\n",
    "    day=input_day()\n",
    "    return year+month.zfill(2)+day.zfill(2)"
   ]
  },
  {
   "cell_type": "code",
   "execution_count": 761,
   "metadata": {},
   "outputs": [
    {
     "name": "stdout",
     "output_type": "stream",
     "text": [
      "Enter credit card number ::\n",
      "Enter 16 digit credit card number :\n",
      "Valid input :\n",
      "4210653356219480\n",
      "Enter Start Date\n",
      "\n",
      " Valid Year\n",
      "\n",
      " Valid month :\n",
      "\n",
      " Valid month :\n",
      "20180414\n",
      "Enter End Date ::\n",
      "\n",
      " Valid Year\n",
      "\n",
      " Valid month :\n",
      "\n",
      " Valid month :\n",
      "20180620\n",
      "+----------------+--------+---------+-----------+----------------+-----------------+--------------+---------+----------+-----------+---------+----------------+-------------------+-----------------+----------+-------------+--------+-------------+------------------+-------------------+\n",
      "|      CUST_CC_NO|  TIMEID| CUST_SSN|BRANCH_CODE|TRANSACTION_TYPE|TRANSACTION_VALUE|TRANSACTION_ID|      SSN|FIRST_NAME|MIDDLE_NAME|LAST_NAME|  CREDIT_CARD_NO|FULL_STREET_ADDRESS|        CUST_CITY|CUST_STATE| CUST_COUNTRY|CUST_ZIP|   CUST_PHONE|        CUST_EMAIL|       LAST_UPDATED|\n",
      "+----------------+--------+---------+-----------+----------------+-----------------+--------------+---------+----------+-----------+---------+----------------+-------------------+-----------------+----------+-------------+--------+-------------+------------------+-------------------+\n",
      "|4210653356219480|20180615|123455934|         72|             Gas|            67.08|         21271|123455934|     Loren|    solomon|    Foley|4210653356219480|   Clark Street,875|SouthRichmondHill|        NY|United States|   11419|(217)123-9593|LFoley@example.com|2018-04-21 12:49:02|\n",
      "|4210653356219480|20180605|123455934|        103|      Healthcare|            35.34|         21311|123455934|     Loren|    solomon|    Foley|4210653356219480|   Clark Street,875|SouthRichmondHill|        NY|United States|   11419|(217)123-9593|LFoley@example.com|2018-04-21 12:49:02|\n",
      "|4210653356219480|20180524|123455934|         73|            Test|            39.95|         21281|123455934|     Loren|    solomon|    Foley|4210653356219480|   Clark Street,875|SouthRichmondHill|        NY|United States|   11419|(217)123-9593|LFoley@example.com|2018-04-21 12:49:02|\n",
      "|4210653356219480|20180504|123455934|         89|         Grocery|            58.94|         21314|123455934|     Loren|    solomon|    Foley|4210653356219480|   Clark Street,875|SouthRichmondHill|        NY|United States|   11419|(217)123-9593|LFoley@example.com|2018-04-21 12:49:02|\n",
      "|4210653356219480|20180428|123455934|         91|            Test|            92.78|         21293|123455934|     Loren|    solomon|    Foley|4210653356219480|   Clark Street,875|SouthRichmondHill|        NY|United States|   11419|(217)123-9593|LFoley@example.com|2018-04-21 12:49:02|\n",
      "|4210653356219480|20180426|123455934|         99|       Education|            58.64|         21286|123455934|     Loren|    solomon|    Foley|4210653356219480|   Clark Street,875|SouthRichmondHill|        NY|United States|   11419|(217)123-9593|LFoley@example.com|2018-04-21 12:49:02|\n",
      "|4210653356219480|20180420|123455934|         49|             Gas|             4.67|         21297|123455934|     Loren|    solomon|    Foley|4210653356219480|   Clark Street,875|SouthRichmondHill|        NY|United States|   11419|(217)123-9593|LFoley@example.com|2018-04-21 12:49:02|\n",
      "|4210653356219480|20180414|123455934|         25|         Grocery|           100.95|         21274|123455934|     Loren|    solomon|    Foley|4210653356219480|   Clark Street,875|SouthRichmondHill|        NY|United States|   11419|(217)123-9593|LFoley@example.com|2018-04-21 12:49:02|\n",
      "+----------------+--------+---------+-----------+----------------+-----------------+--------------+---------+----------+-----------+---------+----------------+-------------------+-----------------+----------+-------------+--------+-------------+------------------+-------------------+\n",
      "\n"
     ]
    }
   ],
   "source": [
    "#the transactions made by a customer between two dates. Order by year, month, and day in descending order\n",
    "print(\"Enter credit card number ::\")\n",
    "cc_number=input_cc()\n",
    "print(\"Enter Start Date\")\n",
    "date1=input_date()\n",
    "print(date1)\n",
    "print(\"Enter End Date ::\")\n",
    "date2=input_date()\n",
    "print(date2)\n",
    "tran_bet_two_date(cc_number,date1,date2)"
   ]
  },
  {
   "cell_type": "markdown",
   "metadata": {},
   "source": []
  },
  {
   "cell_type": "code",
   "execution_count": null,
   "metadata": {},
   "outputs": [],
   "source": []
  },
  {
   "cell_type": "code",
   "execution_count": 568,
   "metadata": {},
   "outputs": [
    {
     "name": "stdout",
     "output_type": "stream",
     "text": [
      "(256)124-2263\n"
     ]
    }
   ],
   "source": [
    "# phone2=phone.replace(r'(\\d{3})(\\d{3})(\\d{4})','(\\1)\\2-\\3')\n",
    "phone='2561242263'\n",
    "cl=\"(\"+phone[0:3]+')'+phone[3:6]+'-'+phone[6:10]\n",
    "print(cl)"
   ]
  }
 ],
 "metadata": {
  "kernelspec": {
   "display_name": "Python 3",
   "language": "python",
   "name": "python3"
  },
  "language_info": {
   "codemirror_mode": {
    "name": "ipython",
    "version": 3
   },
   "file_extension": ".py",
   "mimetype": "text/x-python",
   "name": "python",
   "nbconvert_exporter": "python",
   "pygments_lexer": "ipython3",
   "version": "3.10.10"
  },
  "orig_nbformat": 4,
  "vscode": {
   "interpreter": {
    "hash": "81670ad8e0995f2fc822a82a83fa48c446caeae6dd5f3df703a08b177af58590"
   }
  }
 },
 "nbformat": 4,
 "nbformat_minor": 2
}
